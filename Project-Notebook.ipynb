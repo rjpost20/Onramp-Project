{
 "cells": [
  {
   "cell_type": "markdown",
   "id": "860352d6",
   "metadata": {},
   "source": [
    "<img src=\"https://github.com/rjpost20/Onramp-Project/blob/main/data/pexels-vishnu-r-nair-1105666.jpg?raw=true\">\n",
    "Image by <a href=\"https://www.pexels.com/@vishnurnair/\" >Vishnu R Nair</a> on <a href=\"https://www.pexels.com/photo/people-at-concert-1105666/\" >Pexels.com</a>"
   ]
  },
  {
   "cell_type": "markdown",
   "id": "9ed2ea46",
   "metadata": {},
   "source": [
    "# *Onramp x Vanguard Spotify Project*"
   ]
  },
  {
   "cell_type": "markdown",
   "id": "09eff5a0",
   "metadata": {},
   "source": [
    "## By Ryan Posternak"
   ]
  },
  {
   "cell_type": "markdown",
   "id": "c3d74690",
   "metadata": {},
   "source": [
    "<br>"
   ]
  },
  {
   "cell_type": "markdown",
   "id": "305b8560",
   "metadata": {},
   "source": [
    "## Imports"
   ]
  },
  {
   "cell_type": "code",
   "execution_count": 2,
   "id": "a6256686",
   "metadata": {},
   "outputs": [],
   "source": [
    "import numpy as np\n",
    "import pandas as pd\n",
    "from pprint import pprint\n",
    "import time\n",
    "import re\n",
    "\n",
    "import spotipy\n",
    "from spotipy.oauth2 import SpotifyClientCredentials"
   ]
  },
  {
   "cell_type": "markdown",
   "id": "3236e4aa",
   "metadata": {},
   "source": [
    "<br>"
   ]
  },
  {
   "cell_type": "markdown",
   "id": "10dd48bb",
   "metadata": {},
   "source": [
    "# Section 1: Data Ingestion"
   ]
  },
  {
   "cell_type": "markdown",
   "id": "d59f4b01",
   "metadata": {},
   "source": [
    "### Establish connection to Spotify's API"
   ]
  },
  {
   "cell_type": "code",
   "execution_count": 3,
   "id": "ee9c0787",
   "metadata": {},
   "outputs": [
    {
     "data": {
      "text/plain": [
       "<spotipy.client.Spotify at 0x118611460>"
      ]
     },
     "execution_count": 3,
     "metadata": {},
     "output_type": "execute_result"
    }
   ],
   "source": [
    "# Set API keys as environment variables (sensitive information!). Credentials are stored securely in a local file.\n",
    "with open(\"API.txt\") as f:\n",
    "    text = f.readlines()\n",
    "    client_id = text[0].strip()\n",
    "    client_secret = text[1].strip()\n",
    "    redirect_uri = text[2].strip()\n",
    "    \n",
    "# Assign API keys to a Spotipy credential manager\n",
    "client_credentials_manager = SpotifyClientCredentials(client_id=client_id, \n",
    "                                                      client_secret=client_secret, \n",
    "                                                      requests_timeout=100)  # Default timeout setting is too short\n",
    "\n",
    "# Connect to Spotipy by passing in credential manager\n",
    "sp = spotipy.Spotify(client_credentials_manager=client_credentials_manager)\n",
    "\n",
    "sp"
   ]
  },
  {
   "cell_type": "markdown",
   "id": "543be83f",
   "metadata": {},
   "source": [
    "## Part 1: `Artist` Dataframe"
   ]
  },
  {
   "cell_type": "markdown",
   "id": "2b8749fe",
   "metadata": {},
   "source": [
    "### Obtain artist data for top 20 favorite artists"
   ]
  },
  {
   "cell_type": "code",
   "execution_count": 4,
   "id": "7cd669e4",
   "metadata": {},
   "outputs": [],
   "source": [
    "# Define list of 20 favorite artists\n",
    "artists = ['Beyoncé', 'Billie Eilish', 'blackbear', 'Bob Dylan', 'Bob Marley & The Wailers', 'Cuco', 'Doja Cat', \\\n",
    "           'Drake', 'Ellie Goulding', 'J. Cole', 'Jack Johnson', 'Khalid', 'Kid Cudi', 'Pink Floyd', \\\n",
    "           'Post Malone', 'Simon & Garfunkel', 'The Beatles', 'The Chainsmokers', 'The Weeknd', 'Tove Lo']\n",
    "\n",
    "assert len(artists) == 20"
   ]
  },
  {
   "cell_type": "code",
   "execution_count": 5,
   "id": "b8d87da3",
   "metadata": {},
   "outputs": [
    {
     "name": "stdout",
     "output_type": "stream",
     "text": [
      "{'artists': {'href': 'https://api.spotify.com/v1/search?query=The+Beatles&type=artist&offset=0&limit=1',\n",
      "             'items': [{'external_urls': {'spotify': 'https://open.spotify.com/artist/3WrFJ7ztbogyGnTHbHJFl2'},\n",
      "                        'followers': {'href': None, 'total': 23547947},\n",
      "                        'genres': ['beatlesque',\n",
      "                                   'british invasion',\n",
      "                                   'classic rock',\n",
      "                                   'merseybeat',\n",
      "                                   'psychedelic rock',\n",
      "                                   'rock'],\n",
      "                        'href': 'https://api.spotify.com/v1/artists/3WrFJ7ztbogyGnTHbHJFl2',\n",
      "                        'id': '3WrFJ7ztbogyGnTHbHJFl2',\n",
      "                        'images': [{'height': 640,\n",
      "                                    'url': 'https://i.scdn.co/image/ab6761610000e5ebe9348cc01ff5d55971b22433',\n",
      "                                    'width': 640},\n",
      "                                   {'height': 320,\n",
      "                                    'url': 'https://i.scdn.co/image/ab67616100005174e9348cc01ff5d55971b22433',\n",
      "                                    'width': 320},\n",
      "                                   {'height': 160,\n",
      "                                    'url': 'https://i.scdn.co/image/ab6761610000f178e9348cc01ff5d55971b22433',\n",
      "                                    'width': 160}],\n",
      "                        'name': 'The Beatles',\n",
      "                        'popularity': 83,\n",
      "                        'type': 'artist',\n",
      "                        'uri': 'spotify:artist:3WrFJ7ztbogyGnTHbHJFl2'}],\n",
      "             'limit': 1,\n",
      "             'next': 'https://api.spotify.com/v1/search?query=The+Beatles&type=artist&offset=1&limit=1',\n",
      "             'offset': 0,\n",
      "             'previous': None,\n",
      "             'total': 56}}\n"
     ]
    }
   ],
   "source": [
    "# Preview artist output format\n",
    "preview = sp.search('The Beatles', limit=1, type='artist')\n",
    "pprint(preview)"
   ]
  },
  {
   "cell_type": "code",
   "execution_count": 6,
   "id": "b58da7bc",
   "metadata": {},
   "outputs": [],
   "source": [
    "# Define dictionary to contain all artist data\n",
    "artists_dict = {}\n",
    "\n",
    "# Define list containers for artists info\n",
    "artist_ids = []\n",
    "artist_names = []\n",
    "external_urls = []\n",
    "genres = []\n",
    "image_urls = []\n",
    "followers = []\n",
    "popularities = []\n",
    "types = []\n",
    "artist_uris = []\n",
    "\n",
    "# Append artist info to each respective list\n",
    "for artist in artists:\n",
    "    artist_info = sp.search(artist, limit=1, type='artist')\n",
    "    info_items = artist_info['artists']['items'][0]\n",
    "    \n",
    "    artist_ids.append(info_items['id'])\n",
    "    artist_names.append(info_items['name'])\n",
    "    external_urls.append(info_items['external_urls']['spotify'])\n",
    "    genres.append(info_items['genres'][0])  # Take first genre from list\n",
    "    image_urls.append(info_items['images'][0]['url'])  # Take first image url from list\n",
    "    followers.append(info_items['followers']['total'])\n",
    "    popularities.append(info_items['popularity'])\n",
    "    types.append(info_items['type'])\n",
    "    artist_uris.append(info_items['uri'])\n",
    "    \n",
    "    # Set a delay after each API call just to be safe (don't want to get in trouble with the API!)\n",
    "    time.sleep(0.5)\n",
    "\n",
    "# Add lists to dictionary holding compiled artist data\n",
    "artists_dict['artist_id'] = artist_ids\n",
    "artists_dict['artist_name'] = artist_names\n",
    "artists_dict['external_url'] = external_urls\n",
    "artists_dict['genre'] = genres\n",
    "artists_dict['image_url'] = image_urls\n",
    "artists_dict['followers'] = followers\n",
    "artists_dict['popularity'] = popularities\n",
    "artists_dict['type'] = types\n",
    "artists_dict['artist_uri'] = artist_uris"
   ]
  },
  {
   "cell_type": "code",
   "execution_count": 7,
   "id": "be63f439",
   "metadata": {},
   "outputs": [
    {
     "data": {
      "text/html": [
       "<div>\n",
       "<style scoped>\n",
       "    .dataframe tbody tr th:only-of-type {\n",
       "        vertical-align: middle;\n",
       "    }\n",
       "\n",
       "    .dataframe tbody tr th {\n",
       "        vertical-align: top;\n",
       "    }\n",
       "\n",
       "    .dataframe thead th {\n",
       "        text-align: right;\n",
       "    }\n",
       "</style>\n",
       "<table border=\"1\" class=\"dataframe\">\n",
       "  <thead>\n",
       "    <tr style=\"text-align: right;\">\n",
       "      <th></th>\n",
       "      <th>artist_id</th>\n",
       "      <th>artist_name</th>\n",
       "      <th>external_url</th>\n",
       "      <th>genre</th>\n",
       "      <th>image_url</th>\n",
       "      <th>followers</th>\n",
       "      <th>popularity</th>\n",
       "      <th>type</th>\n",
       "      <th>artist_uri</th>\n",
       "    </tr>\n",
       "  </thead>\n",
       "  <tbody>\n",
       "    <tr>\n",
       "      <th>0</th>\n",
       "      <td>6vWDO969PvNqNYHIOW5v0m</td>\n",
       "      <td>Beyoncé</td>\n",
       "      <td>https://open.spotify.com/artist/6vWDO969PvNqNY...</td>\n",
       "      <td>dance pop</td>\n",
       "      <td>https://i.scdn.co/image/ab6761610000e5eb676338...</td>\n",
       "      <td>32123978</td>\n",
       "      <td>88</td>\n",
       "      <td>artist</td>\n",
       "      <td>spotify:artist:6vWDO969PvNqNYHIOW5v0m</td>\n",
       "    </tr>\n",
       "    <tr>\n",
       "      <th>1</th>\n",
       "      <td>6qqNVTkY8uBg9cP3Jd7DAH</td>\n",
       "      <td>Billie Eilish</td>\n",
       "      <td>https://open.spotify.com/artist/6qqNVTkY8uBg9c...</td>\n",
       "      <td>art pop</td>\n",
       "      <td>https://i.scdn.co/image/ab6761610000e5ebd8b998...</td>\n",
       "      <td>68624307</td>\n",
       "      <td>88</td>\n",
       "      <td>artist</td>\n",
       "      <td>spotify:artist:6qqNVTkY8uBg9cP3Jd7DAH</td>\n",
       "    </tr>\n",
       "    <tr>\n",
       "      <th>2</th>\n",
       "      <td>2cFrymmkijnjDg9SS92EPM</td>\n",
       "      <td>blackbear</td>\n",
       "      <td>https://open.spotify.com/artist/2cFrymmkijnjDg...</td>\n",
       "      <td>electropop</td>\n",
       "      <td>https://i.scdn.co/image/ab6761610000e5eb4f7d04...</td>\n",
       "      <td>4774851</td>\n",
       "      <td>80</td>\n",
       "      <td>artist</td>\n",
       "      <td>spotify:artist:2cFrymmkijnjDg9SS92EPM</td>\n",
       "    </tr>\n",
       "    <tr>\n",
       "      <th>3</th>\n",
       "      <td>74ASZWbe4lXaubB36ztrGX</td>\n",
       "      <td>Bob Dylan</td>\n",
       "      <td>https://open.spotify.com/artist/74ASZWbe4lXaub...</td>\n",
       "      <td>album rock</td>\n",
       "      <td>https://i.scdn.co/image/ab6772690000c46cf79ca0...</td>\n",
       "      <td>5775647</td>\n",
       "      <td>71</td>\n",
       "      <td>artist</td>\n",
       "      <td>spotify:artist:74ASZWbe4lXaubB36ztrGX</td>\n",
       "    </tr>\n",
       "    <tr>\n",
       "      <th>4</th>\n",
       "      <td>2QsynagSdAqZj3U9HgDzjD</td>\n",
       "      <td>Bob Marley &amp; The Wailers</td>\n",
       "      <td>https://open.spotify.com/artist/2QsynagSdAqZj3...</td>\n",
       "      <td>reggae</td>\n",
       "      <td>https://i.scdn.co/image/b5aae2067db80f694a980e...</td>\n",
       "      <td>10852190</td>\n",
       "      <td>78</td>\n",
       "      <td>artist</td>\n",
       "      <td>spotify:artist:2QsynagSdAqZj3U9HgDzjD</td>\n",
       "    </tr>\n",
       "  </tbody>\n",
       "</table>\n",
       "</div>"
      ],
      "text/plain": [
       "                artist_id               artist_name  \\\n",
       "0  6vWDO969PvNqNYHIOW5v0m                   Beyoncé   \n",
       "1  6qqNVTkY8uBg9cP3Jd7DAH             Billie Eilish   \n",
       "2  2cFrymmkijnjDg9SS92EPM                 blackbear   \n",
       "3  74ASZWbe4lXaubB36ztrGX                 Bob Dylan   \n",
       "4  2QsynagSdAqZj3U9HgDzjD  Bob Marley & The Wailers   \n",
       "\n",
       "                                        external_url       genre  \\\n",
       "0  https://open.spotify.com/artist/6vWDO969PvNqNY...   dance pop   \n",
       "1  https://open.spotify.com/artist/6qqNVTkY8uBg9c...     art pop   \n",
       "2  https://open.spotify.com/artist/2cFrymmkijnjDg...  electropop   \n",
       "3  https://open.spotify.com/artist/74ASZWbe4lXaub...  album rock   \n",
       "4  https://open.spotify.com/artist/2QsynagSdAqZj3...      reggae   \n",
       "\n",
       "                                           image_url  followers  popularity  \\\n",
       "0  https://i.scdn.co/image/ab6761610000e5eb676338...   32123978          88   \n",
       "1  https://i.scdn.co/image/ab6761610000e5ebd8b998...   68624307          88   \n",
       "2  https://i.scdn.co/image/ab6761610000e5eb4f7d04...    4774851          80   \n",
       "3  https://i.scdn.co/image/ab6772690000c46cf79ca0...    5775647          71   \n",
       "4  https://i.scdn.co/image/b5aae2067db80f694a980e...   10852190          78   \n",
       "\n",
       "     type                             artist_uri  \n",
       "0  artist  spotify:artist:6vWDO969PvNqNYHIOW5v0m  \n",
       "1  artist  spotify:artist:6qqNVTkY8uBg9cP3Jd7DAH  \n",
       "2  artist  spotify:artist:2cFrymmkijnjDg9SS92EPM  \n",
       "3  artist  spotify:artist:74ASZWbe4lXaubB36ztrGX  \n",
       "4  artist  spotify:artist:2QsynagSdAqZj3U9HgDzjD  "
      ]
     },
     "execution_count": 7,
     "metadata": {},
     "output_type": "execute_result"
    }
   ],
   "source": [
    "# Compile into Pandas dataframe\n",
    "artists_df = pd.DataFrame(data=artists_dict)\n",
    "assert artists_df.shape[0] == 20\n",
    "\n",
    "# Preview artists dataframe\n",
    "artists_df.head()"
   ]
  },
  {
   "cell_type": "markdown",
   "id": "babd300b",
   "metadata": {},
   "source": [
    "<br>"
   ]
  },
  {
   "cell_type": "markdown",
   "id": "8674f68e",
   "metadata": {},
   "source": [
    "## Part 2: `Album` Dataframe"
   ]
  },
  {
   "cell_type": "markdown",
   "id": "87541a1e",
   "metadata": {},
   "source": [
    "### Obtain album data for six albums for each of top 20 favorite artists"
   ]
  },
  {
   "cell_type": "code",
   "execution_count": 8,
   "id": "9cd7eda5",
   "metadata": {},
   "outputs": [
    {
     "name": "stdout",
     "output_type": "stream",
     "text": [
      "{'album_group': 'album',\n",
      " 'album_type': 'album',\n",
      " 'artists': [{'external_urls': {'spotify': 'https://open.spotify.com/artist/6vWDO969PvNqNYHIOW5v0m'},\n",
      "              'href': 'https://api.spotify.com/v1/artists/6vWDO969PvNqNYHIOW5v0m',\n",
      "              'id': '6vWDO969PvNqNYHIOW5v0m',\n",
      "              'name': 'Beyoncé',\n",
      "              'type': 'artist',\n",
      "              'uri': 'spotify:artist:6vWDO969PvNqNYHIOW5v0m'}],\n",
      " 'external_urls': {'spotify': 'https://open.spotify.com/album/6FJxoadUE4JNVwWHghBwnb'},\n",
      " 'href': 'https://api.spotify.com/v1/albums/6FJxoadUE4JNVwWHghBwnb',\n",
      " 'id': '6FJxoadUE4JNVwWHghBwnb',\n",
      " 'images': [{'height': 640,\n",
      "             'url': 'https://i.scdn.co/image/ab67616d0000b2730e58a0f8308c1ad403d105e7',\n",
      "             'width': 640},\n",
      "            {'height': 300,\n",
      "             'url': 'https://i.scdn.co/image/ab67616d00001e020e58a0f8308c1ad403d105e7',\n",
      "             'width': 300},\n",
      "            {'height': 64,\n",
      "             'url': 'https://i.scdn.co/image/ab67616d000048510e58a0f8308c1ad403d105e7',\n",
      "             'width': 64}],\n",
      " 'name': 'RENAISSANCE',\n",
      " 'release_date': '2022-07-29',\n",
      " 'release_date_precision': 'day',\n",
      " 'total_tracks': 16,\n",
      " 'type': 'album',\n",
      " 'uri': 'spotify:album:6FJxoadUE4JNVwWHghBwnb'}\n"
     ]
    }
   ],
   "source": [
    "# Preview albums output format\n",
    "preview = sp.artist_albums(artist_id='6vWDO969PvNqNYHIOW5v0m', limit=10, country='US')\n",
    "pprint(preview['items'][0])"
   ]
  },
  {
   "cell_type": "code",
   "execution_count": 9,
   "id": "795b4d40",
   "metadata": {},
   "outputs": [
    {
     "name": "stdout",
     "output_type": "stream",
     "text": [
      "'RENAISSANCE'\n",
      "'RENAISSANCE'\n",
      "'The Lion King: The Gift [Deluxe Edition]'\n",
      "'The Lion King: The Gift [Deluxe Edition]'\n",
      "'The Lion King: The Gift'\n",
      "'HOMECOMING: THE LIVE ALBUM'\n",
      "'HOMECOMING: THE LIVE ALBUM'\n",
      "'Lemonade'\n",
      "'Lemonade'\n",
      "'BEYONCÉ [Platinum Edition]'\n"
     ]
    }
   ],
   "source": [
    "# Display names of albums\n",
    "for album in preview['items']:\n",
    "    pprint(album['name'])"
   ]
  },
  {
   "cell_type": "markdown",
   "id": "16161877",
   "metadata": {},
   "source": [
    "**Remarks:**\n",
    "- It looks like duplicate albums will be an issue. Further, it looks like slight variations on the name or edition (e.g. regular edition vs. deluxe edition) will also be an issue. We'll address this with a RegEx search to remove any text inside square brackets or parentheses when checking for duplicate albums, which should catch most of these duplicates.\n",
    "- While not a problem for this artist, many artist will likely have one or more live-recorded versions of albums among the mix, which one would assume are almost entirely repeats of songs that are in one of their other (recorded) albums. To address this, we'll skip any album with the word \"live\" in it. Since this could mean losing a lot of albums, we'll set a relatively high limit of 20 in the API search."
   ]
  },
  {
   "cell_type": "code",
   "execution_count": 10,
   "id": "f5426478",
   "metadata": {},
   "outputs": [
    {
     "name": "stdout",
     "output_type": "stream",
     "text": [
      "'RENAISSANCE'\n",
      "'RENAISSANCE'\n",
      "'The Lion King: The Gift'\n",
      "'The Lion King: The Gift'\n",
      "'The Lion King: The Gift'\n",
      "'HOMECOMING: THE LIVE ALBUM'\n",
      "'HOMECOMING: THE LIVE ALBUM'\n",
      "'Lemonade'\n",
      "'Lemonade'\n",
      "'BEYONCÉ'\n"
     ]
    }
   ],
   "source": [
    "# Display names of albums with album variation comments removed\n",
    "for album in preview['items']:\n",
    "    pprint(re.sub(\"[\\(\\[].*?[\\)\\]]\", \"\", album['name']).strip())"
   ]
  },
  {
   "cell_type": "markdown",
   "id": "03b5eb46",
   "metadata": {},
   "source": [
    "Below I structure an API call of 20 albums per artist, however I break the loop once 7 albums have been retrieved. I call 20 in the API because I skip all identically named albums (after RegEx search above) as well as albums with the word \"live\" in them."
   ]
  },
  {
   "cell_type": "code",
   "execution_count": 19,
   "id": "a48f3b7f",
   "metadata": {},
   "outputs": [],
   "source": [
    "# Define dictionary to contain all album data\n",
    "albums_dict = {}\n",
    "\n",
    "# Set up containers for albums info\n",
    "album_ids = []\n",
    "album_names = []\n",
    "external_urls = []\n",
    "image_urls = []\n",
    "release_dates = []\n",
    "total_tracks = []\n",
    "types = []\n",
    "album_uris = []\n",
    "album_artist_ids = []\n",
    "\n",
    "# Append album info to each respective list\n",
    "for artist_id in artist_ids:\n",
    "    # API call for 20 albums by artist (need to account for skipped albums)\n",
    "    albums_info = sp.artist_albums(artist_id=artist_id, limit=20, country='US')\n",
    "    \n",
    "    # Prevent duplicate albums from being added\n",
    "    dup_album_check = []\n",
    "    \n",
    "    # Retrieve info for each album\n",
    "    for album in albums_info['items']:\n",
    "\n",
    "        unique_album_name = re.sub(\"[\\(\\[].*?[\\)\\]]\", \"\", album['name']).strip()\n",
    "        if unique_album_name in dup_album_check:  # Skip album if in dup_album_check list\n",
    "            continue\n",
    "        if 'live' in album['name'].lower():  # Skip album if 'live' in album title\n",
    "            continue\n",
    "\n",
    "        album_ids.append(album['id'])\n",
    "        album_names.append(album['name'])\n",
    "        external_urls.append(album['external_urls']['spotify'])\n",
    "        image_urls.append(album['images'][0]['url'])  # Take first image url from list\n",
    "        release_dates.append(album['release_date'])\n",
    "        total_tracks.append(album['total_tracks'])\n",
    "        types.append(album['type'])\n",
    "        album_uris.append(album['uri'])\n",
    "        album_artist_ids.append(artist_id)\n",
    "\n",
    "        dup_album_check.append(unique_album_name)\n",
    "        if len(dup_album_check) == 7:  # Set maximum number of albums per artists to 7\n",
    "            break\n",
    "    \n",
    "    # Set a delay after each API call\n",
    "    time.sleep(0.1)\n",
    "    \n",
    "# Add lists to dictionary holding compiled albums data\n",
    "albums_dict['album_id'] = album_ids\n",
    "albums_dict['album_name'] = album_names\n",
    "albums_dict['external_url'] = external_urls\n",
    "albums_dict['image_url'] = image_urls\n",
    "albums_dict['release_date'] = release_dates\n",
    "albums_dict['total_tracks'] = total_tracks\n",
    "albums_dict['type'] = types\n",
    "albums_dict['album_uri'] = album_uris\n",
    "albums_dict['artist_id'] = album_artist_ids"
   ]
  },
  {
   "cell_type": "code",
   "execution_count": 20,
   "id": "bad59a11",
   "metadata": {},
   "outputs": [
    {
     "name": "stdout",
     "output_type": "stream",
     "text": [
      "Albums: 139\n"
     ]
    },
    {
     "data": {
      "text/html": [
       "<div>\n",
       "<style scoped>\n",
       "    .dataframe tbody tr th:only-of-type {\n",
       "        vertical-align: middle;\n",
       "    }\n",
       "\n",
       "    .dataframe tbody tr th {\n",
       "        vertical-align: top;\n",
       "    }\n",
       "\n",
       "    .dataframe thead th {\n",
       "        text-align: right;\n",
       "    }\n",
       "</style>\n",
       "<table border=\"1\" class=\"dataframe\">\n",
       "  <thead>\n",
       "    <tr style=\"text-align: right;\">\n",
       "      <th></th>\n",
       "      <th>album_id</th>\n",
       "      <th>album_name</th>\n",
       "      <th>external_url</th>\n",
       "      <th>image_url</th>\n",
       "      <th>release_date</th>\n",
       "      <th>total_tracks</th>\n",
       "      <th>type</th>\n",
       "      <th>album_uri</th>\n",
       "      <th>artist_id</th>\n",
       "    </tr>\n",
       "  </thead>\n",
       "  <tbody>\n",
       "    <tr>\n",
       "      <th>0</th>\n",
       "      <td>6FJxoadUE4JNVwWHghBwnb</td>\n",
       "      <td>RENAISSANCE</td>\n",
       "      <td>https://open.spotify.com/album/6FJxoadUE4JNVwW...</td>\n",
       "      <td>https://i.scdn.co/image/ab67616d0000b2730e58a0...</td>\n",
       "      <td>2022-07-29</td>\n",
       "      <td>16</td>\n",
       "      <td>album</td>\n",
       "      <td>spotify:album:6FJxoadUE4JNVwWHghBwnb</td>\n",
       "      <td>6vWDO969PvNqNYHIOW5v0m</td>\n",
       "    </tr>\n",
       "    <tr>\n",
       "      <th>1</th>\n",
       "      <td>7kUuNU2LRmr9XbwLHXU9UZ</td>\n",
       "      <td>The Lion King: The Gift [Deluxe Edition]</td>\n",
       "      <td>https://open.spotify.com/album/7kUuNU2LRmr9Xbw...</td>\n",
       "      <td>https://i.scdn.co/image/ab67616d0000b27360e232...</td>\n",
       "      <td>2020-07-31</td>\n",
       "      <td>17</td>\n",
       "      <td>album</td>\n",
       "      <td>spotify:album:7kUuNU2LRmr9XbwLHXU9UZ</td>\n",
       "      <td>6vWDO969PvNqNYHIOW5v0m</td>\n",
       "    </tr>\n",
       "    <tr>\n",
       "      <th>2</th>\n",
       "      <td>7dK54iZuOxXFarGhXwEXfF</td>\n",
       "      <td>Lemonade</td>\n",
       "      <td>https://open.spotify.com/album/7dK54iZuOxXFarG...</td>\n",
       "      <td>https://i.scdn.co/image/ab67616d0000b27389992f...</td>\n",
       "      <td>2016-04-23</td>\n",
       "      <td>13</td>\n",
       "      <td>album</td>\n",
       "      <td>spotify:album:7dK54iZuOxXFarGhXwEXfF</td>\n",
       "      <td>6vWDO969PvNqNYHIOW5v0m</td>\n",
       "    </tr>\n",
       "    <tr>\n",
       "      <th>3</th>\n",
       "      <td>2UJwKSBUz6rtW4QLK74kQu</td>\n",
       "      <td>BEYONCÉ [Platinum Edition]</td>\n",
       "      <td>https://open.spotify.com/album/2UJwKSBUz6rtW4Q...</td>\n",
       "      <td>https://i.scdn.co/image/ab67616d0000b2730d1d6e...</td>\n",
       "      <td>2014-11-24</td>\n",
       "      <td>20</td>\n",
       "      <td>album</td>\n",
       "      <td>spotify:album:2UJwKSBUz6rtW4QLK74kQu</td>\n",
       "      <td>6vWDO969PvNqNYHIOW5v0m</td>\n",
       "    </tr>\n",
       "    <tr>\n",
       "      <th>4</th>\n",
       "      <td>1gIC63gC3B7o7FfpPACZQJ</td>\n",
       "      <td>4</td>\n",
       "      <td>https://open.spotify.com/album/1gIC63gC3B7o7Ff...</td>\n",
       "      <td>https://i.scdn.co/image/ab67616d0000b273ff5429...</td>\n",
       "      <td>2011-06-24</td>\n",
       "      <td>14</td>\n",
       "      <td>album</td>\n",
       "      <td>spotify:album:1gIC63gC3B7o7FfpPACZQJ</td>\n",
       "      <td>6vWDO969PvNqNYHIOW5v0m</td>\n",
       "    </tr>\n",
       "  </tbody>\n",
       "</table>\n",
       "</div>"
      ],
      "text/plain": [
       "                 album_id                                album_name  \\\n",
       "0  6FJxoadUE4JNVwWHghBwnb                               RENAISSANCE   \n",
       "1  7kUuNU2LRmr9XbwLHXU9UZ  The Lion King: The Gift [Deluxe Edition]   \n",
       "2  7dK54iZuOxXFarGhXwEXfF                                  Lemonade   \n",
       "3  2UJwKSBUz6rtW4QLK74kQu                BEYONCÉ [Platinum Edition]   \n",
       "4  1gIC63gC3B7o7FfpPACZQJ                                         4   \n",
       "\n",
       "                                        external_url  \\\n",
       "0  https://open.spotify.com/album/6FJxoadUE4JNVwW...   \n",
       "1  https://open.spotify.com/album/7kUuNU2LRmr9Xbw...   \n",
       "2  https://open.spotify.com/album/7dK54iZuOxXFarG...   \n",
       "3  https://open.spotify.com/album/2UJwKSBUz6rtW4Q...   \n",
       "4  https://open.spotify.com/album/1gIC63gC3B7o7Ff...   \n",
       "\n",
       "                                           image_url release_date  \\\n",
       "0  https://i.scdn.co/image/ab67616d0000b2730e58a0...   2022-07-29   \n",
       "1  https://i.scdn.co/image/ab67616d0000b27360e232...   2020-07-31   \n",
       "2  https://i.scdn.co/image/ab67616d0000b27389992f...   2016-04-23   \n",
       "3  https://i.scdn.co/image/ab67616d0000b2730d1d6e...   2014-11-24   \n",
       "4  https://i.scdn.co/image/ab67616d0000b273ff5429...   2011-06-24   \n",
       "\n",
       "   total_tracks   type                             album_uri  \\\n",
       "0            16  album  spotify:album:6FJxoadUE4JNVwWHghBwnb   \n",
       "1            17  album  spotify:album:7kUuNU2LRmr9XbwLHXU9UZ   \n",
       "2            13  album  spotify:album:7dK54iZuOxXFarGhXwEXfF   \n",
       "3            20  album  spotify:album:2UJwKSBUz6rtW4QLK74kQu   \n",
       "4            14  album  spotify:album:1gIC63gC3B7o7FfpPACZQJ   \n",
       "\n",
       "                artist_id  \n",
       "0  6vWDO969PvNqNYHIOW5v0m  \n",
       "1  6vWDO969PvNqNYHIOW5v0m  \n",
       "2  6vWDO969PvNqNYHIOW5v0m  \n",
       "3  6vWDO969PvNqNYHIOW5v0m  \n",
       "4  6vWDO969PvNqNYHIOW5v0m  "
      ]
     },
     "execution_count": 20,
     "metadata": {},
     "output_type": "execute_result"
    }
   ],
   "source": [
    "# Compile into Pandas dataframe\n",
    "albums_df = pd.DataFrame(data=albums_dict)\n",
    "assert set(artist_ids) == set(album_artist_ids)  # Verify we retrieved albums for all 20 artists\n",
    "\n",
    "# Preview albums dataframe\n",
    "print('Albums:', albums_df.shape[0])\n",
    "albums_df.head()"
   ]
  },
  {
   "cell_type": "markdown",
   "id": "0b2f5a50",
   "metadata": {},
   "source": [
    "<br>"
   ]
  },
  {
   "cell_type": "markdown",
   "id": "19ed8e73",
   "metadata": {},
   "source": [
    "## Part 3: `Track` Dataframe"
   ]
  },
  {
   "cell_type": "markdown",
   "id": "154a4819",
   "metadata": {},
   "source": [
    "### Obtain track data for 20 tracks (minus duplicates) in each album obtained above"
   ]
  },
  {
   "cell_type": "code",
   "execution_count": 21,
   "id": "c641cef5",
   "metadata": {},
   "outputs": [
    {
     "name": "stdout",
     "output_type": "stream",
     "text": [
      "{'artists': [{'external_urls': {'spotify': 'https://open.spotify.com/artist/6vWDO969PvNqNYHIOW5v0m'},\n",
      "              'href': 'https://api.spotify.com/v1/artists/6vWDO969PvNqNYHIOW5v0m',\n",
      "              'id': '6vWDO969PvNqNYHIOW5v0m',\n",
      "              'name': 'Beyoncé',\n",
      "              'type': 'artist',\n",
      "              'uri': 'spotify:artist:6vWDO969PvNqNYHIOW5v0m'}],\n",
      " 'disc_number': 1,\n",
      " 'duration_ms': 208014,\n",
      " 'explicit': True,\n",
      " 'external_urls': {'spotify': 'https://open.spotify.com/track/1MpCaOeUWhox2Fgigbe1cL'},\n",
      " 'href': 'https://api.spotify.com/v1/tracks/1MpCaOeUWhox2Fgigbe1cL',\n",
      " 'id': '1MpCaOeUWhox2Fgigbe1cL',\n",
      " 'is_local': False,\n",
      " 'is_playable': True,\n",
      " 'name': \"I'M THAT GIRL\",\n",
      " 'preview_url': 'https://p.scdn.co/mp3-preview/c7cece6b1b9cb3637fc48924f23baf9c7e1ec15c?cid=a3c3419e623d4410ad1aadf01bc737d5',\n",
      " 'track_number': 1,\n",
      " 'type': 'track',\n",
      " 'uri': 'spotify:track:1MpCaOeUWhox2Fgigbe1cL'}\n"
     ]
    }
   ],
   "source": [
    "# Preview tracks output format\n",
    "preview = sp.album_tracks(album_id='6FJxoadUE4JNVwWHghBwnb', limit=10, market='US')\n",
    "pprint(preview['items'][0])"
   ]
  },
  {
   "cell_type": "code",
   "execution_count": 22,
   "id": "eb29a3d4",
   "metadata": {},
   "outputs": [
    {
     "name": "stdout",
     "output_type": "stream",
     "text": [
      "\"I'M THAT GIRL\"\n",
      "'COZY'\n",
      "'ALIEN SUPERSTAR'\n",
      "'CUFF IT'\n",
      "'ENERGY (feat. Beam)'\n",
      "'BREAK MY SOUL'\n",
      "'CHURCH GIRL'\n",
      "'PLASTIC OFF THE SOFA'\n",
      "\"VIRGO'S GROOVE\"\n",
      "'MOVE (feat. Grace Jones & Tems)'\n"
     ]
    }
   ],
   "source": [
    "# Display names of 10 songs\n",
    "for track in preview['items']:\n",
    "    pprint(track['name'])"
   ]
  },
  {
   "cell_type": "markdown",
   "id": "164799e7",
   "metadata": {},
   "source": [
    "**Remarks:**\n",
    "- It looks like duplicate songs might not be as big an issue with track searches. I don't see a need to use a RegEx search like in the last API call, but we'll still check for identically named songs and skip those."
   ]
  },
  {
   "cell_type": "code",
   "execution_count": 23,
   "id": "dff8daee",
   "metadata": {},
   "outputs": [],
   "source": [
    "# Define dictionary to contain all tracks data\n",
    "tracks_dict = {}\n",
    "\n",
    "# Set up containers for tracks info\n",
    "track_ids = []\n",
    "song_names = []\n",
    "external_urls = []\n",
    "durations_ms = []\n",
    "explicit = []\n",
    "disc_numbers = []\n",
    "types = []\n",
    "song_uris = []\n",
    "track_album_ids = []\n",
    "\n",
    "# Append track info to each respective list\n",
    "for album_id in album_ids:\n",
    "    # API call for (max) 20 tracks per album\n",
    "    tracks_info = sp.album_tracks(album_id=album_id, limit=20, market='US')\n",
    "    \n",
    "    # Prevent duplicate tracks from being added\n",
    "    dup_track_check = []\n",
    "    \n",
    "    # Retrieve info for each album\n",
    "    for track in tracks_info['items']:\n",
    "        \n",
    "        track_name = track['name']\n",
    "        if track_name in dup_track_check:  # Skip track if in dup_track_check list\n",
    "            continue\n",
    "            \n",
    "        track_ids.append(track['id'])\n",
    "        song_names.append(track['name'])\n",
    "        external_urls.append(track['external_urls']['spotify'])\n",
    "        durations_ms.append(track['duration_ms'])\n",
    "        explicit.append(track['explicit'])\n",
    "        disc_numbers.append(track['disc_number'])\n",
    "        types.append(track['type'])\n",
    "        song_uris.append(track['uri'])\n",
    "        track_album_ids.append(album_id)\n",
    "        \n",
    "        dup_track_check.append(track_name)\n",
    "    \n",
    "    # Set a (shorter) delay after each API call\n",
    "    time.sleep(0.01)\n",
    "    \n",
    "# Add lists to dictionary holding compiled tracks data\n",
    "tracks_dict['track_id'] = track_ids\n",
    "tracks_dict['song_name'] = song_names\n",
    "tracks_dict['external_url'] = external_urls\n",
    "tracks_dict['duration_ms'] = durations_ms\n",
    "tracks_dict['explicit'] = explicit\n",
    "tracks_dict['disc_number'] = disc_numbers\n",
    "tracks_dict['type'] = types\n",
    "tracks_dict['song_uri'] = song_uris\n",
    "tracks_dict['album_id'] = track_album_ids"
   ]
  },
  {
   "cell_type": "code",
   "execution_count": 24,
   "id": "f010369a",
   "metadata": {},
   "outputs": [
    {
     "name": "stdout",
     "output_type": "stream",
     "text": [
      "Tracks: 1715\n"
     ]
    },
    {
     "data": {
      "text/html": [
       "<div>\n",
       "<style scoped>\n",
       "    .dataframe tbody tr th:only-of-type {\n",
       "        vertical-align: middle;\n",
       "    }\n",
       "\n",
       "    .dataframe tbody tr th {\n",
       "        vertical-align: top;\n",
       "    }\n",
       "\n",
       "    .dataframe thead th {\n",
       "        text-align: right;\n",
       "    }\n",
       "</style>\n",
       "<table border=\"1\" class=\"dataframe\">\n",
       "  <thead>\n",
       "    <tr style=\"text-align: right;\">\n",
       "      <th></th>\n",
       "      <th>track_id</th>\n",
       "      <th>song_name</th>\n",
       "      <th>external_url</th>\n",
       "      <th>duration_ms</th>\n",
       "      <th>explicit</th>\n",
       "      <th>disc_number</th>\n",
       "      <th>type</th>\n",
       "      <th>song_uri</th>\n",
       "      <th>album_id</th>\n",
       "    </tr>\n",
       "  </thead>\n",
       "  <tbody>\n",
       "    <tr>\n",
       "      <th>0</th>\n",
       "      <td>1MpCaOeUWhox2Fgigbe1cL</td>\n",
       "      <td>I'M THAT GIRL</td>\n",
       "      <td>https://open.spotify.com/track/1MpCaOeUWhox2Fg...</td>\n",
       "      <td>208014</td>\n",
       "      <td>True</td>\n",
       "      <td>1</td>\n",
       "      <td>track</td>\n",
       "      <td>spotify:track:1MpCaOeUWhox2Fgigbe1cL</td>\n",
       "      <td>6FJxoadUE4JNVwWHghBwnb</td>\n",
       "    </tr>\n",
       "    <tr>\n",
       "      <th>1</th>\n",
       "      <td>0mKGwFMHzTprtS2vpR3b6s</td>\n",
       "      <td>COZY</td>\n",
       "      <td>https://open.spotify.com/track/0mKGwFMHzTprtS2...</td>\n",
       "      <td>210372</td>\n",
       "      <td>True</td>\n",
       "      <td>1</td>\n",
       "      <td>track</td>\n",
       "      <td>spotify:track:0mKGwFMHzTprtS2vpR3b6s</td>\n",
       "      <td>6FJxoadUE4JNVwWHghBwnb</td>\n",
       "    </tr>\n",
       "    <tr>\n",
       "      <th>2</th>\n",
       "      <td>1Hohk6AufHZOrrhMXZppax</td>\n",
       "      <td>ALIEN SUPERSTAR</td>\n",
       "      <td>https://open.spotify.com/track/1Hohk6AufHZOrrh...</td>\n",
       "      <td>215459</td>\n",
       "      <td>True</td>\n",
       "      <td>1</td>\n",
       "      <td>track</td>\n",
       "      <td>spotify:track:1Hohk6AufHZOrrhMXZppax</td>\n",
       "      <td>6FJxoadUE4JNVwWHghBwnb</td>\n",
       "    </tr>\n",
       "    <tr>\n",
       "      <th>3</th>\n",
       "      <td>1xzi1Jcr7mEi9K2RfzLOqS</td>\n",
       "      <td>CUFF IT</td>\n",
       "      <td>https://open.spotify.com/track/1xzi1Jcr7mEi9K2...</td>\n",
       "      <td>225388</td>\n",
       "      <td>True</td>\n",
       "      <td>1</td>\n",
       "      <td>track</td>\n",
       "      <td>spotify:track:1xzi1Jcr7mEi9K2RfzLOqS</td>\n",
       "      <td>6FJxoadUE4JNVwWHghBwnb</td>\n",
       "    </tr>\n",
       "    <tr>\n",
       "      <th>4</th>\n",
       "      <td>0314PeD1sQNonfVWix3B2K</td>\n",
       "      <td>ENERGY (feat. Beam)</td>\n",
       "      <td>https://open.spotify.com/track/0314PeD1sQNonfV...</td>\n",
       "      <td>116727</td>\n",
       "      <td>False</td>\n",
       "      <td>1</td>\n",
       "      <td>track</td>\n",
       "      <td>spotify:track:0314PeD1sQNonfVWix3B2K</td>\n",
       "      <td>6FJxoadUE4JNVwWHghBwnb</td>\n",
       "    </tr>\n",
       "  </tbody>\n",
       "</table>\n",
       "</div>"
      ],
      "text/plain": [
       "                 track_id            song_name  \\\n",
       "0  1MpCaOeUWhox2Fgigbe1cL        I'M THAT GIRL   \n",
       "1  0mKGwFMHzTprtS2vpR3b6s                 COZY   \n",
       "2  1Hohk6AufHZOrrhMXZppax      ALIEN SUPERSTAR   \n",
       "3  1xzi1Jcr7mEi9K2RfzLOqS              CUFF IT   \n",
       "4  0314PeD1sQNonfVWix3B2K  ENERGY (feat. Beam)   \n",
       "\n",
       "                                        external_url  duration_ms  explicit  \\\n",
       "0  https://open.spotify.com/track/1MpCaOeUWhox2Fg...       208014      True   \n",
       "1  https://open.spotify.com/track/0mKGwFMHzTprtS2...       210372      True   \n",
       "2  https://open.spotify.com/track/1Hohk6AufHZOrrh...       215459      True   \n",
       "3  https://open.spotify.com/track/1xzi1Jcr7mEi9K2...       225388      True   \n",
       "4  https://open.spotify.com/track/0314PeD1sQNonfV...       116727     False   \n",
       "\n",
       "   disc_number   type                              song_uri  \\\n",
       "0            1  track  spotify:track:1MpCaOeUWhox2Fgigbe1cL   \n",
       "1            1  track  spotify:track:0mKGwFMHzTprtS2vpR3b6s   \n",
       "2            1  track  spotify:track:1Hohk6AufHZOrrhMXZppax   \n",
       "3            1  track  spotify:track:1xzi1Jcr7mEi9K2RfzLOqS   \n",
       "4            1  track  spotify:track:0314PeD1sQNonfVWix3B2K   \n",
       "\n",
       "                 album_id  \n",
       "0  6FJxoadUE4JNVwWHghBwnb  \n",
       "1  6FJxoadUE4JNVwWHghBwnb  \n",
       "2  6FJxoadUE4JNVwWHghBwnb  \n",
       "3  6FJxoadUE4JNVwWHghBwnb  \n",
       "4  6FJxoadUE4JNVwWHghBwnb  "
      ]
     },
     "execution_count": 24,
     "metadata": {},
     "output_type": "execute_result"
    }
   ],
   "source": [
    "# Compile into Pandas dataframe\n",
    "tracks_df = pd.DataFrame(data=tracks_dict)\n",
    "assert set(album_ids) == set(track_album_ids)  # Verify we retrieved tracks for all 135 albums\n",
    "\n",
    "# Preview tracks dataframe\n",
    "print('Tracks:', tracks_df.shape[0])\n",
    "tracks_df.head()"
   ]
  },
  {
   "cell_type": "markdown",
   "id": "58522aa9",
   "metadata": {},
   "source": [
    "<br>"
   ]
  },
  {
   "cell_type": "markdown",
   "id": "46bc94c6",
   "metadata": {},
   "source": [
    "## Part 4: `Track_Feature` Dataframe"
   ]
  },
  {
   "cell_type": "markdown",
   "id": "ba093925",
   "metadata": {},
   "source": [
    "### Obtain track features data for each of the 1,715 tracks obtained above"
   ]
  },
  {
   "cell_type": "code",
   "execution_count": 25,
   "id": "2587f829",
   "metadata": {},
   "outputs": [
    {
     "name": "stdout",
     "output_type": "stream",
     "text": [
      "{'acousticness': 0.0616,\n",
      " 'analysis_url': 'https://api.spotify.com/v1/audio-analysis/1MpCaOeUWhox2Fgigbe1cL',\n",
      " 'danceability': 0.554,\n",
      " 'duration_ms': 208014,\n",
      " 'energy': 0.535,\n",
      " 'id': '1MpCaOeUWhox2Fgigbe1cL',\n",
      " 'instrumentalness': 1.32e-05,\n",
      " 'key': 5,\n",
      " 'liveness': 0.124,\n",
      " 'loudness': -8.959,\n",
      " 'mode': 0,\n",
      " 'speechiness': 0.186,\n",
      " 'tempo': 105.865,\n",
      " 'time_signature': 4,\n",
      " 'track_href': 'https://api.spotify.com/v1/tracks/1MpCaOeUWhox2Fgigbe1cL',\n",
      " 'type': 'audio_features',\n",
      " 'uri': 'spotify:track:1MpCaOeUWhox2Fgigbe1cL',\n",
      " 'valence': 0.136}\n"
     ]
    }
   ],
   "source": [
    "# Preview track features output format\n",
    "preview = sp.audio_features('1MpCaOeUWhox2Fgigbe1cL')[0]\n",
    "pprint(preview)"
   ]
  },
  {
   "cell_type": "code",
   "execution_count": 26,
   "id": "c657f7d6",
   "metadata": {},
   "outputs": [],
   "source": [
    "# Define dictionary to contain all track features data\n",
    "track_features_dict = {}\n",
    "\n",
    "# Set up containers for tracks info\n",
    "track_features_track_ids = []\n",
    "danceability = []\n",
    "energy = []\n",
    "instrumentalness = []\n",
    "liveness = []\n",
    "loudness = []\n",
    "speechiness = []\n",
    "tempo = []\n",
    "types = []\n",
    "valence = []\n",
    "track_features_song_uris = []\n",
    "\n",
    "# Append track features info to each respective list\n",
    "for track_id in track_ids:\n",
    "    # API call for track features info\n",
    "    track_features = sp.audio_features(track_id)[0]\n",
    "    \n",
    "    track_features_track_ids.append(track_id)\n",
    "    danceability.append(track_features['danceability'])\n",
    "    energy.append(track_features['energy'])\n",
    "    instrumentalness.append(track_features['instrumentalness'])\n",
    "    liveness.append(track_features['liveness'])\n",
    "    loudness.append(track_features['loudness'])\n",
    "    speechiness.append(track_features['speechiness'])\n",
    "    tempo.append(track_features['tempo'])\n",
    "    types.append(track_features['type'])\n",
    "    valence.append(track_features['valence'])\n",
    "    track_features_song_uris.append(track_features['uri'])\n",
    "    \n",
    "    # Set a delay after each API call\n",
    "    time.sleep(0.001)\n",
    "    \n",
    "# Add lists to dictionary holding compiled track features data\n",
    "track_features_dict['track_id'] = track_features_track_ids\n",
    "track_features_dict['danceability'] = danceability\n",
    "track_features_dict['energy'] = energy\n",
    "track_features_dict['instrumentalness'] = instrumentalness\n",
    "track_features_dict['liveness'] = liveness\n",
    "track_features_dict['loudness'] = loudness\n",
    "track_features_dict['speechiness'] = speechiness\n",
    "track_features_dict['tempo'] = tempo\n",
    "track_features_dict['type'] = types\n",
    "track_features_dict['valence'] = valence\n",
    "track_features_dict['song_uri'] = track_features_song_uris"
   ]
  },
  {
   "cell_type": "code",
   "execution_count": 27,
   "id": "d73c0b23",
   "metadata": {},
   "outputs": [
    {
     "name": "stdout",
     "output_type": "stream",
     "text": [
      "Track features: 1715\n"
     ]
    },
    {
     "data": {
      "text/html": [
       "<div>\n",
       "<style scoped>\n",
       "    .dataframe tbody tr th:only-of-type {\n",
       "        vertical-align: middle;\n",
       "    }\n",
       "\n",
       "    .dataframe tbody tr th {\n",
       "        vertical-align: top;\n",
       "    }\n",
       "\n",
       "    .dataframe thead th {\n",
       "        text-align: right;\n",
       "    }\n",
       "</style>\n",
       "<table border=\"1\" class=\"dataframe\">\n",
       "  <thead>\n",
       "    <tr style=\"text-align: right;\">\n",
       "      <th></th>\n",
       "      <th>track_id</th>\n",
       "      <th>danceability</th>\n",
       "      <th>energy</th>\n",
       "      <th>instrumentalness</th>\n",
       "      <th>liveness</th>\n",
       "      <th>loudness</th>\n",
       "      <th>speechiness</th>\n",
       "      <th>tempo</th>\n",
       "      <th>type</th>\n",
       "      <th>valence</th>\n",
       "      <th>song_uri</th>\n",
       "    </tr>\n",
       "  </thead>\n",
       "  <tbody>\n",
       "    <tr>\n",
       "      <th>0</th>\n",
       "      <td>1MpCaOeUWhox2Fgigbe1cL</td>\n",
       "      <td>0.554</td>\n",
       "      <td>0.535</td>\n",
       "      <td>0.000013</td>\n",
       "      <td>0.1240</td>\n",
       "      <td>-8.959</td>\n",
       "      <td>0.1860</td>\n",
       "      <td>105.865</td>\n",
       "      <td>audio_features</td>\n",
       "      <td>0.136</td>\n",
       "      <td>spotify:track:1MpCaOeUWhox2Fgigbe1cL</td>\n",
       "    </tr>\n",
       "    <tr>\n",
       "      <th>1</th>\n",
       "      <td>0mKGwFMHzTprtS2vpR3b6s</td>\n",
       "      <td>0.556</td>\n",
       "      <td>0.630</td>\n",
       "      <td>0.004680</td>\n",
       "      <td>0.1550</td>\n",
       "      <td>-8.150</td>\n",
       "      <td>0.1020</td>\n",
       "      <td>149.147</td>\n",
       "      <td>audio_features</td>\n",
       "      <td>0.367</td>\n",
       "      <td>spotify:track:0mKGwFMHzTprtS2vpR3b6s</td>\n",
       "    </tr>\n",
       "    <tr>\n",
       "      <th>2</th>\n",
       "      <td>1Hohk6AufHZOrrhMXZppax</td>\n",
       "      <td>0.545</td>\n",
       "      <td>0.641</td>\n",
       "      <td>0.000066</td>\n",
       "      <td>0.1710</td>\n",
       "      <td>-6.398</td>\n",
       "      <td>0.0998</td>\n",
       "      <td>121.892</td>\n",
       "      <td>audio_features</td>\n",
       "      <td>0.464</td>\n",
       "      <td>spotify:track:1Hohk6AufHZOrrhMXZppax</td>\n",
       "    </tr>\n",
       "    <tr>\n",
       "      <th>3</th>\n",
       "      <td>1xzi1Jcr7mEi9K2RfzLOqS</td>\n",
       "      <td>0.780</td>\n",
       "      <td>0.689</td>\n",
       "      <td>0.000010</td>\n",
       "      <td>0.0698</td>\n",
       "      <td>-5.668</td>\n",
       "      <td>0.1410</td>\n",
       "      <td>115.042</td>\n",
       "      <td>audio_features</td>\n",
       "      <td>0.642</td>\n",
       "      <td>spotify:track:1xzi1Jcr7mEi9K2RfzLOqS</td>\n",
       "    </tr>\n",
       "    <tr>\n",
       "      <th>4</th>\n",
       "      <td>0314PeD1sQNonfVWix3B2K</td>\n",
       "      <td>0.903</td>\n",
       "      <td>0.519</td>\n",
       "      <td>0.000106</td>\n",
       "      <td>0.1550</td>\n",
       "      <td>-9.151</td>\n",
       "      <td>0.2600</td>\n",
       "      <td>114.991</td>\n",
       "      <td>audio_features</td>\n",
       "      <td>0.587</td>\n",
       "      <td>spotify:track:0314PeD1sQNonfVWix3B2K</td>\n",
       "    </tr>\n",
       "  </tbody>\n",
       "</table>\n",
       "</div>"
      ],
      "text/plain": [
       "                 track_id  danceability  energy  instrumentalness  liveness  \\\n",
       "0  1MpCaOeUWhox2Fgigbe1cL         0.554   0.535          0.000013    0.1240   \n",
       "1  0mKGwFMHzTprtS2vpR3b6s         0.556   0.630          0.004680    0.1550   \n",
       "2  1Hohk6AufHZOrrhMXZppax         0.545   0.641          0.000066    0.1710   \n",
       "3  1xzi1Jcr7mEi9K2RfzLOqS         0.780   0.689          0.000010    0.0698   \n",
       "4  0314PeD1sQNonfVWix3B2K         0.903   0.519          0.000106    0.1550   \n",
       "\n",
       "   loudness  speechiness    tempo            type  valence  \\\n",
       "0    -8.959       0.1860  105.865  audio_features    0.136   \n",
       "1    -8.150       0.1020  149.147  audio_features    0.367   \n",
       "2    -6.398       0.0998  121.892  audio_features    0.464   \n",
       "3    -5.668       0.1410  115.042  audio_features    0.642   \n",
       "4    -9.151       0.2600  114.991  audio_features    0.587   \n",
       "\n",
       "                               song_uri  \n",
       "0  spotify:track:1MpCaOeUWhox2Fgigbe1cL  \n",
       "1  spotify:track:0mKGwFMHzTprtS2vpR3b6s  \n",
       "2  spotify:track:1Hohk6AufHZOrrhMXZppax  \n",
       "3  spotify:track:1xzi1Jcr7mEi9K2RfzLOqS  \n",
       "4  spotify:track:0314PeD1sQNonfVWix3B2K  "
      ]
     },
     "execution_count": 27,
     "metadata": {},
     "output_type": "execute_result"
    }
   ],
   "source": [
    "# Compile into Pandas dataframe\n",
    "track_features_df = pd.DataFrame(data=track_features_dict)\n",
    "assert set(track_ids) == set(track_features_track_ids)  # Verify we retrieved track features for all 1,715 tracks\n",
    "\n",
    "# Preview tracks dataframe\n",
    "print('Track features:', track_features_df.shape[0])\n",
    "track_features_df.head()"
   ]
  },
  {
   "cell_type": "markdown",
   "id": "eff8abff",
   "metadata": {},
   "source": [
    "<br>"
   ]
  },
  {
   "cell_type": "markdown",
   "id": "89150b46",
   "metadata": {},
   "source": [
    "# Section 2: Data Transformation"
   ]
  },
  {
   "cell_type": "markdown",
   "id": "b1fe80d3",
   "metadata": {},
   "source": [
    "## Part 1: Handling Null / Missing values"
   ]
  },
  {
   "cell_type": "markdown",
   "id": "065f9d08",
   "metadata": {},
   "source": [
    "Below I create function to print a count of null values per column that we can use for each dataframe, as well as to print a Pandas-style \"info\" table"
   ]
  },
  {
   "cell_type": "code",
   "execution_count": 28,
   "id": "c7069361",
   "metadata": {},
   "outputs": [],
   "source": [
    "def display_df_null_info(dataframe):\n",
    "    null_columns = [column for column in dataframe.columns if dataframe[column].isna().sum() > 0]\n",
    "    \n",
    "    print('Features with missing values:')\n",
    "    if not artists_df[null_columns].isna().sum().shape[0]:  # Print 'NONE' if no columns with missing values\n",
    "        print('NONE', '\\n')\n",
    "    else:\n",
    "        print(artists_df[null_columns].isna().sum(), '\\n')  # Print columns names with missing values, if any\n",
    "    print('Blank values:', \\\n",
    "    # Print total number of blank values in dataframe\n",
    "    sum([dataframe.loc[dataframe[column] == ''].shape[0] for column in dataframe.columns]), '\\n\\n')\n",
    "    return dataframe.info()"
   ]
  },
  {
   "cell_type": "code",
   "execution_count": 29,
   "id": "2f45632c",
   "metadata": {},
   "outputs": [
    {
     "name": "stdout",
     "output_type": "stream",
     "text": [
      "Features with missing values:\n",
      "NONE \n",
      "\n",
      "Blank values: 0 \n",
      "\n",
      "\n",
      "<class 'pandas.core.frame.DataFrame'>\n",
      "RangeIndex: 20 entries, 0 to 19\n",
      "Data columns (total 9 columns):\n",
      " #   Column        Non-Null Count  Dtype \n",
      "---  ------        --------------  ----- \n",
      " 0   artist_id     20 non-null     object\n",
      " 1   artist_name   20 non-null     object\n",
      " 2   external_url  20 non-null     object\n",
      " 3   genre         20 non-null     object\n",
      " 4   image_url     20 non-null     object\n",
      " 5   followers     20 non-null     int64 \n",
      " 6   popularity    20 non-null     int64 \n",
      " 7   type          20 non-null     object\n",
      " 8   artist_uri    20 non-null     object\n",
      "dtypes: int64(2), object(7)\n",
      "memory usage: 1.5+ KB\n"
     ]
    }
   ],
   "source": [
    "display_df_null_info(artists_df)"
   ]
  },
  {
   "cell_type": "markdown",
   "id": "0dceb6d2",
   "metadata": {},
   "source": [
    "**Remarks:**\n",
    "- Looks good - no null/blank values and table schema matches the provided format."
   ]
  },
  {
   "cell_type": "code",
   "execution_count": 30,
   "id": "a343462b",
   "metadata": {},
   "outputs": [
    {
     "name": "stdout",
     "output_type": "stream",
     "text": [
      "Features with missing values:\n",
      "NONE \n",
      "\n",
      "Blank values: 0 \n",
      "\n",
      "\n",
      "<class 'pandas.core.frame.DataFrame'>\n",
      "RangeIndex: 139 entries, 0 to 138\n",
      "Data columns (total 9 columns):\n",
      " #   Column        Non-Null Count  Dtype \n",
      "---  ------        --------------  ----- \n",
      " 0   album_id      139 non-null    object\n",
      " 1   album_name    139 non-null    object\n",
      " 2   external_url  139 non-null    object\n",
      " 3   image_url     139 non-null    object\n",
      " 4   release_date  139 non-null    object\n",
      " 5   total_tracks  139 non-null    int64 \n",
      " 6   type          139 non-null    object\n",
      " 7   album_uri     139 non-null    object\n",
      " 8   artist_id     139 non-null    object\n",
      "dtypes: int64(1), object(8)\n",
      "memory usage: 9.9+ KB\n"
     ]
    }
   ],
   "source": [
    "display_df_null_info(albums_df)"
   ]
  },
  {
   "cell_type": "markdown",
   "id": "a924f76d",
   "metadata": {},
   "source": [
    "**Remarks:**\n",
    "- No null values, but we'll need to correct the datatype of the `release_date` feature, from object to datetime."
   ]
  },
  {
   "cell_type": "code",
   "execution_count": 31,
   "id": "98199eb7",
   "metadata": {},
   "outputs": [],
   "source": [
    "albums_df.release_date = albums_df.release_date.astype('datetime64')\n",
    "assert albums_df.release_date.dtype == 'datetime64[ns]'"
   ]
  },
  {
   "cell_type": "code",
   "execution_count": 32,
   "id": "807350f5",
   "metadata": {},
   "outputs": [
    {
     "name": "stdout",
     "output_type": "stream",
     "text": [
      "Features with missing values:\n",
      "NONE \n",
      "\n",
      "Blank values: 0 \n",
      "\n",
      "\n",
      "<class 'pandas.core.frame.DataFrame'>\n",
      "RangeIndex: 1715 entries, 0 to 1714\n",
      "Data columns (total 9 columns):\n",
      " #   Column        Non-Null Count  Dtype \n",
      "---  ------        --------------  ----- \n",
      " 0   track_id      1715 non-null   object\n",
      " 1   song_name     1715 non-null   object\n",
      " 2   external_url  1715 non-null   object\n",
      " 3   duration_ms   1715 non-null   int64 \n",
      " 4   explicit      1715 non-null   bool  \n",
      " 5   disc_number   1715 non-null   int64 \n",
      " 6   type          1715 non-null   object\n",
      " 7   song_uri      1715 non-null   object\n",
      " 8   album_id      1715 non-null   object\n",
      "dtypes: bool(1), int64(2), object(6)\n",
      "memory usage: 109.0+ KB\n"
     ]
    }
   ],
   "source": [
    "display_df_null_info(tracks_df)"
   ]
  },
  {
   "cell_type": "markdown",
   "id": "f13ef269",
   "metadata": {},
   "source": [
    "**Remarks:**\n",
    "- Everything looks good, no null values and Pandas correctly picked up on the `bool` datatype of the `explicit` feature."
   ]
  },
  {
   "cell_type": "code",
   "execution_count": 33,
   "id": "c0dfc785",
   "metadata": {},
   "outputs": [
    {
     "name": "stdout",
     "output_type": "stream",
     "text": [
      "Features with missing values:\n",
      "NONE \n",
      "\n",
      "Blank values: 0 \n",
      "\n",
      "\n",
      "<class 'pandas.core.frame.DataFrame'>\n",
      "RangeIndex: 1715 entries, 0 to 1714\n",
      "Data columns (total 11 columns):\n",
      " #   Column            Non-Null Count  Dtype  \n",
      "---  ------            --------------  -----  \n",
      " 0   track_id          1715 non-null   object \n",
      " 1   danceability      1715 non-null   float64\n",
      " 2   energy            1715 non-null   float64\n",
      " 3   instrumentalness  1715 non-null   float64\n",
      " 4   liveness          1715 non-null   float64\n",
      " 5   loudness          1715 non-null   float64\n",
      " 6   speechiness       1715 non-null   float64\n",
      " 7   tempo             1715 non-null   float64\n",
      " 8   type              1715 non-null   object \n",
      " 9   valence           1715 non-null   float64\n",
      " 10  song_uri          1715 non-null   object \n",
      "dtypes: float64(8), object(3)\n",
      "memory usage: 147.5+ KB\n"
     ]
    }
   ],
   "source": [
    "display_df_null_info(track_features_df)"
   ]
  },
  {
   "cell_type": "markdown",
   "id": "cb86a087",
   "metadata": {},
   "source": [
    "**Remarks:**\n",
    "- Last table is good to go - no null or blank values and datatypes all match the provided format. That was easy!"
   ]
  },
  {
   "cell_type": "markdown",
   "id": "87d8ef01",
   "metadata": {},
   "source": [
    "<br>"
   ]
  },
  {
   "cell_type": "markdown",
   "id": "2f6bb2a8",
   "metadata": {},
   "source": [
    "## Part 2: Deduplication"
   ]
  },
  {
   "cell_type": "markdown",
   "id": "71229dd1",
   "metadata": {},
   "source": [
    "Below I print each artist and a list of their respective albums in `albums_df`. I then manually check each one to look for potential duplicate albums.\n",
    "\n",
    "While this is a relatively labor intensive process, it would be difficult to find a more automated way to do this. To show the difficulty of automating the task, take for example Ellie Goulding's 4th and 5th albums, Halcyon and Halcyon Days. Who's to say whether these are duplicate albums or not? Looking it up shows that they are: Halcyon Days is a repackage of the original album with new songs added. But that would be impossible to know simply by looking for matching words. Additionally, because we're only dealing with 20 artists here, manual review will not take that long.\n",
    "\n",
    "I do not do in-depth research of every album to look for potential duplicate songs - just a quick check for anything obvious."
   ]
  },
  {
   "cell_type": "code",
   "execution_count": 34,
   "id": "b265d738",
   "metadata": {
    "scrolled": false
   },
   "outputs": [
    {
     "name": "stdout",
     "output_type": "stream",
     "text": [
      "0    Beyoncé\n",
      "Name: artist_name, dtype: object\n",
      "['RENAISSANCE', 'The Lion King: The Gift [Deluxe Edition]', 'Lemonade', 'BEYONCÉ [Platinum Edition]', '4', 'I Am...World Tour', 'Above And Beyoncé Dance Mixes']\n",
      "\n",
      "\n",
      "1    Billie Eilish\n",
      "Name: artist_name, dtype: object\n",
      "['Happier Than Ever', 'WHEN WE ALL FALL ASLEEP, WHERE DO WE GO?', 'Guitar Songs', 'Lo Vas A Olvidar (with ROSALÍA)', 'Therefore I Am', 'my future', 'No Time To Die']\n",
      "\n",
      "\n",
      "2    blackbear\n",
      "Name: artist_name, dtype: object\n",
      "['in loving memory', 'everything means nothing', 'ANONYMOUS', 'cybersex', 'digital druglord', 'help', 'deadroses']\n",
      "\n",
      "\n",
      "3    Bob Dylan\n",
      "Name: artist_name, dtype: object\n",
      "['Springtime in New York: The Bootleg Series, Vol. 16 / 1980-1985', 'Rough and Rowdy Ways', \"Travelin' Thru, 1967 - 1969: The Bootleg Series, Vol. 15 (Sampler)\", 'More Blood, More Tracks: The Bootleg Series, Vol. 14 (Sampler)', 'Trouble No More: The Bootleg Series, Vol. 13 / 1979-1981 (Deluxe Edition)', 'Triplicate', 'Fallen Angels']\n",
      "\n",
      "\n",
      "4    Bob Marley & The Wailers\n",
      "Name: artist_name, dtype: object\n",
      "['Bob Marley with the Chineke! Orchestra', 'Exodus (Deluxe Edition)', 'Exodus 40', \"Easy Skanking In Boston '78\", 'Marley (The Original Soundtrack)', 'B Is For Bob', 'Another Dance: Rarities From Studio One']\n",
      "\n",
      "\n",
      "5    Cuco\n",
      "Name: artist_name, dtype: object\n",
      "['Fantasy Gateway', 'Para Mi', 'Songs4u', 'wannabewithu', 'Aura (Spanish Version)', 'Fin Del Mundo (with Bratty)', 'Time Machine']\n",
      "\n",
      "\n",
      "6    Doja Cat\n",
      "Name: artist_name, dtype: object\n",
      "['Planet Her (Deluxe)', 'Hot Pink', 'Amala (Deluxe Version)', 'Vegas (From the Original Motion Picture Soundtrack ELVIS)', 'Freaky Deaky (R3HAB Remix)', 'Celebrity Skin', 'You Right']\n",
      "\n",
      "\n",
      "7    Drake\n",
      "Name: artist_name, dtype: object\n",
      "['Honestly, Nevermind', 'Certified Lover Boy', 'Dark Lane Demo Tapes', 'Care Package', 'So Far Gone', 'Scorpion', 'More Life']\n",
      "\n",
      "\n",
      "8    Ellie Goulding\n",
      "Name: artist_name, dtype: object\n",
      "['Brightest Blue', 'Lights 10', 'Delirium (Deluxe)', 'Halcyon Days', 'Halcyon', 'Lights', 'Bright Lights (Lights Re-pack / Bonus Version)']\n",
      "\n",
      "\n",
      "9    J. Cole\n",
      "Name: artist_name, dtype: object\n",
      "['D-Day: A Gangsta Grillz Mixtape', 'The Off-Season', \"Revenge Of The Dreamers III: Director's Cut\", 'Revenge Of The Dreamers III', 'KOD', '4 Your Eyez Only', '2014 Forest Hills Drive']\n",
      "\n",
      "\n",
      "10    Jack Johnson\n",
      "Name: artist_name, dtype: object\n",
      "['Meet The Moonlight', 'All The Light Above It Too', 'From Here To Now To You', 'To The Sea', 'En Concert', 'Sleep Through The Static: Remixed', 'Sleep Through The Static']\n",
      "\n",
      "\n",
      "11    Khalid\n",
      "Name: artist_name, dtype: object\n",
      "['Scenic Drive (The Tape)', 'Free Spirit', 'Suncity', 'American Teen', 'Satellite', 'Numb (Remixes)', 'Wish You Were Here (feat. Khalid)']\n",
      "\n",
      "\n",
      "12    Kid Cudi\n",
      "Name: artist_name, dtype: object\n",
      "['A Kid Named Cudi', 'The Boy Who Flew To The Moon (Vol. 1)', 'Man On The Moon III: The Chosen', 'KIDS SEE GHOSTS', \"Passion, Pain & Demon Slayin'\", \"Speedin' Bullet 2 Heaven\", 'KiD CuDi presents SATELLITE FLIGHT: The journey to Mother Moon']\n",
      "\n",
      "\n",
      "13    Pink Floyd\n",
      "Name: artist_name, dtype: object\n",
      "['Animals (2018 Remix)', 'A Momentary Lapse of Reason (2019 Remix)', 'The Later Years', 'The Later Years 1987-2019', 'The Endless River', 'The Division Bell', 'The Final Cut']\n",
      "\n",
      "\n",
      "14    Post Malone\n",
      "Name: artist_name, dtype: object\n",
      "['Twelve Carat Toothache (Deluxe)', \"Hollywood's Bleeding\", 'beerbongs & bentleys', 'Stoney (Complete Edition)', 'Cooped Up', 'One Right Now', 'Motley Crew']\n",
      "\n",
      "\n",
      "15    Simon & Garfunkel\n",
      "Name: artist_name, dtype: object\n",
      "['Bridge Over Troubled Water', 'Bookends', 'The Graduate', 'Parsley, Sage, Rosemary And Thyme', 'Sounds Of Silence', 'Wednesday Morning, 3 A.M.', 'The Essential Simon & Garfunkel']\n",
      "\n",
      "\n",
      "16    The Beatles\n",
      "Name: artist_name, dtype: object\n",
      "['Get Back (Rooftop Performance)', 'Let It Be (Super Deluxe)', 'Abbey Road (Super Deluxe Edition)', 'The Beatles', 'Let It Be... Naked (Remastered)', 'Yellow Submarine Songtrack', '1 (Remastered)']\n",
      "\n",
      "\n",
      "17    The Chainsmokers\n",
      "Name: artist_name, dtype: object\n",
      "['So Far So Good', 'World War Joy', 'Sick Boy', 'Memories...Do Not Open', 'iPad (Remixes)', 'High (Remixes)', 'Family (Remixes)']\n",
      "\n",
      "\n",
      "18    The Weeknd\n",
      "Name: artist_name, dtype: object\n",
      "['Dawn FM (Alternate World)', 'After Hours (Deluxe)', 'My Dear Melancholy,', 'Starboy', 'Beauty Behind The Madness', 'Kiss Land']\n",
      "\n",
      "\n",
      "19    Tove Lo\n",
      "Name: artist_name, dtype: object\n",
      "['Sunshine Kitty (Paw Prints Edition)', 'BLUE LIPS (lady wood phase II)', 'Lady Wood', 'Queen Of The Clouds (Blueprint Edition)', '2 Die 4 (Jax Jones Midnight Snacks Remix)', 'No One Dies From Love (DJ_Dave Edit)', 'True Romance']\n",
      "\n",
      "\n"
     ]
    }
   ],
   "source": [
    "for artist_id in albums_df.artist_id.unique():\n",
    "    print(artists_df.loc[artists_df['artist_id'] == artist_id].artist_name)\n",
    "    print(list(albums_df.loc[albums_df['artist_id'] == artist_id].album_name.values))\n",
    "    print('\\n')"
   ]
  },
  {
   "cell_type": "markdown",
   "id": "257b0f96",
   "metadata": {},
   "source": [
    "**Findings:**\n",
    "\n",
    "0. Beyonce\n",
    "- 'I Am...World Tour' (Live-recorded versions of songs)\n",
    "<br><br>\n",
    "1. Billie Eilish\n",
    "- No duplicates\n",
    "<br><br>\n",
    "2. blackbear\n",
    "- No duplicates\n",
    "<br><br>\n",
    "3. Bob Dylan\n",
    "- No duplicates\n",
    "<br><br>\n",
    "4. Bob Marley\n",
    "- 'Exodus 40' (Remix album)\n",
    "<br><br>\n",
    "5. Cuco\n",
    "- No duplicates\n",
    "<br><br>\n",
    "6. Doja Cat\n",
    "- No duplicates\n",
    "<br><br>\n",
    "7. Drake\n",
    "- No duplicates\n",
    "<br><br>\n",
    "8. Ellie Goulding\n",
    "- 'Halcyon' (supplanted by Halcyon Days)\n",
    "- 'Bright Lights (Lights Re-pack / Bonus Version)' (Remixed/bonus version)\n",
    "<br><br>\n",
    "9. J. Cole\n",
    "- \"Revenge Of The Dreamers III: Director's Cut\" (Director's Cut version of album already in dataframe)\n",
    "<br><br>\n",
    "10. Jack Johnson\n",
    "- 'En Concert' (Live-recorded album)\n",
    "- 'Sleep Through The Static: Remixed' (Remix of album already in dataframe)\n",
    "<br><br>\n",
    "11. Khalid\n",
    "- 'Numb (Remixes)' (Remix album)\n",
    "<br><br>\n",
    "12. Kid Cudi\n",
    "- No duplicates\n",
    "<br><br>\n",
    "13. Pink Floyd\n",
    "- 'The Later Years' (Remix album)\n",
    "- 'The Later Years 1987-2019' (Remix album)\n",
    "<br><br>\n",
    "14. Post Malone\n",
    "- No duplicates\n",
    "<br><br>\n",
    "15. Simon & Garfunkel\n",
    "- 'The Graduate' (Mainly consists of songs found in other albums)\n",
    "- 'The Essential Simon & Garfunkel' (Compilation album)\n",
    "<br><br>\n",
    "16. The Beatles\n",
    "- 'Get Back (Rooftop Performance)' (Live-recorded versions of songs)\n",
    "- 'Let It Be... Naked (Remastered)' (Let It Be album already in dataframe)\n",
    "- '1 (Remastered)' (Compilation album)\n",
    "<br><br>\n",
    "17. The Chainsmokers\n",
    "- No duplicates\n",
    "<br><br>\n",
    "18. The Weeknd\n",
    "- No duplicates\n",
    "<br><br>\n",
    "19. Tove Lo\n",
    "- No duplicates"
   ]
  },
  {
   "cell_type": "code",
   "execution_count": null,
   "id": "f61f992f",
   "metadata": {},
   "outputs": [],
   "source": []
  },
  {
   "cell_type": "code",
   "execution_count": null,
   "id": "88b057ef",
   "metadata": {},
   "outputs": [],
   "source": []
  },
  {
   "cell_type": "code",
   "execution_count": null,
   "id": "f30fdc2f",
   "metadata": {},
   "outputs": [],
   "source": []
  },
  {
   "cell_type": "code",
   "execution_count": null,
   "id": "e01691ea",
   "metadata": {},
   "outputs": [],
   "source": []
  },
  {
   "cell_type": "code",
   "execution_count": null,
   "id": "7e54f9b9",
   "metadata": {},
   "outputs": [],
   "source": []
  },
  {
   "cell_type": "code",
   "execution_count": null,
   "id": "6bed34e9",
   "metadata": {},
   "outputs": [],
   "source": []
  }
 ],
 "metadata": {
  "kernelspec": {
   "display_name": "Python 3 (ipykernel)",
   "language": "python",
   "name": "python3"
  },
  "language_info": {
   "codemirror_mode": {
    "name": "ipython",
    "version": 3
   },
   "file_extension": ".py",
   "mimetype": "text/x-python",
   "name": "python",
   "nbconvert_exporter": "python",
   "pygments_lexer": "ipython3",
   "version": "3.9.13"
  }
 },
 "nbformat": 4,
 "nbformat_minor": 5
}
