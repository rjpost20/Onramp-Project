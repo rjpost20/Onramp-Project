{
 "cells": [
  {
   "cell_type": "markdown",
   "id": "860352d6",
   "metadata": {},
   "source": [
    "<img src=\"https://github.com/rjpost20/Onramp-Project/blob/main/data/pexels-vishnu-r-nair-1105666.jpg?raw=true\">\n",
    "Image by <a href=\"https://www.pexels.com/@vishnurnair/\" >Vishnu R Nair</a> on <a href=\"https://www.pexels.com/photo/people-at-concert-1105666/\" >Pexels.com</a>"
   ]
  },
  {
   "cell_type": "markdown",
   "id": "9ed2ea46",
   "metadata": {},
   "source": [
    "# *Onramp x Vanguard Spotify Project*\n",
    "\n",
    "## Notebook 2: Data Transformation and Storage"
   ]
  },
  {
   "cell_type": "markdown",
   "id": "09eff5a0",
   "metadata": {},
   "source": [
    "## *By Ryan Posternak*"
   ]
  },
  {
   "cell_type": "markdown",
   "id": "c3d74690",
   "metadata": {},
   "source": [
    "<br>"
   ]
  },
  {
   "cell_type": "markdown",
   "id": "43b53fc1",
   "metadata": {},
   "source": [
    "## Table of Contents:\n",
    "\n",
    "* Step 1: Data Ingestion\n",
    " * Establish Connection to Spotify's API\n",
    " * Part 1: Artists Dataframe\n",
    " * Part 2: Albums Dataframe\n",
    " * Part 3: Tracks Dataframe\n",
    " * Part 4: Track Features Dataframe\n",
    "<br><br>\n",
    "* __Step 2: Data Transformation__\n",
    " * __Part 1: Handling Null/Missing Values__\n",
    " * __Part 2: Deduplication__\n",
    "   * __2.1: Remove duplicate albums__\n",
    "   * __2.2: Remove duplicate songs__\n",
    "<br><br>\n",
    "* __Step 3: Storage__\n",
    " * __Part 1: artist Table__\n",
    " * __Part 2: album Table__\n",
    " * __Part 3: track Table__\n",
    " * __Part 4: track_feature Table__\n",
    "<br><br>\n",
    "* Step 4: Analytics / Visualizations\n",
    " * Part 1: SQL Query Analytics\n",
    "   * 1.1: Top songs by artist in terms of `duration_ms`\n",
    "   * 1.2: Top artists in the database by number of `followers`\n",
    "   * 1.3: Top songs by artist in terms of `tempo`\n",
    "   * 1.4: Average `track_feature` values by artist\n",
    "   * 1.5: Max and min average `track_feature` and `duration_ms` values by album\n",
    "   * 1.6: Proportion of `explicit` tracks by artist\n",
    "   * 1.7: Median `track_feature` values by artist\n",
    " * Part 2: Data Visualizations\n",
    "   * 2.1: Mean `track_feature` values by `genre`\n",
    "   * 2.2: Distribution of `track_feature` and `duration_ms` values\n",
    "   * 2.3: Evolution of artists, visualized\n",
    "   * 2.4: Evolution of genres, visualized\n",
    "   * 2.5: Correlations between `track_feature` + `duration_ms` + `followers` values"
   ]
  },
  {
   "cell_type": "markdown",
   "id": "305b8560",
   "metadata": {},
   "source": [
    "## Imports"
   ]
  },
  {
   "cell_type": "code",
   "execution_count": 1,
   "id": "a6256686",
   "metadata": {},
   "outputs": [],
   "source": [
    "import pandas as pd\n",
    "pd.set_option('display.max_columns', None)\n",
    "import os, collections\n",
    "\n",
    "import sqlite3"
   ]
  },
  {
   "cell_type": "markdown",
   "id": "a891f68e",
   "metadata": {},
   "source": [
    "<br>"
   ]
  },
  {
   "cell_type": "markdown",
   "id": "89150b46",
   "metadata": {},
   "source": [
    "# Step 2: Data Transformation"
   ]
  },
  {
   "cell_type": "markdown",
   "id": "0a5e7174",
   "metadata": {},
   "source": [
    "### Import pandas `pkl` files"
   ]
  },
  {
   "cell_type": "code",
   "execution_count": 2,
   "id": "cc435488",
   "metadata": {},
   "outputs": [],
   "source": [
    "artists_df = pd.read_pickle('data/artists_df_unprocessed.pkl')\n",
    "\n",
    "albums_df = pd.read_pickle('data/albums_df_unprocessed.pkl')\n",
    "\n",
    "tracks_df = pd.read_pickle('data/tracks_df_unprocessed.pkl')\n",
    "\n",
    "track_features_df = pd.read_pickle('data/track_features_df_unprocessed.pkl')"
   ]
  },
  {
   "cell_type": "markdown",
   "id": "99dd80c8",
   "metadata": {},
   "source": [
    "<br>"
   ]
  },
  {
   "cell_type": "markdown",
   "id": "b1fe80d3",
   "metadata": {},
   "source": [
    "## Part 1: Handling Null / Missing Values"
   ]
  },
  {
   "cell_type": "markdown",
   "id": "065f9d08",
   "metadata": {},
   "source": [
    "Below I create function to print a count of null values per column that we can use for each dataframe, as well as to print a Pandas-style \"info\" table"
   ]
  },
  {
   "cell_type": "code",
   "execution_count": 3,
   "id": "c7069361",
   "metadata": {},
   "outputs": [],
   "source": [
    "def display_df_null_info(dataframe):\n",
    "    null_columns = [column for column in dataframe.columns if dataframe[column].isna().sum() > 0]\n",
    "    \n",
    "    print('Features with missing values:')\n",
    "    \n",
    "    if not artists_df[null_columns].isna().sum().shape[0]:  # Print 'NONE' if no columns with missing values\n",
    "        print('NONE', '\\n')\n",
    "    else:\n",
    "        print(artists_df[null_columns].isna().sum(), '\\n')  # Print columns names with missing values, if any\n",
    "    print('Blank values:', \\\n",
    "    \n",
    "    # Print total number of blank values in dataframe\n",
    "    sum([dataframe.loc[dataframe[column] == ''].shape[0] for column in dataframe.columns]), '\\n\\n')\n",
    "    \n",
    "    return dataframe.info()"
   ]
  },
  {
   "cell_type": "code",
   "execution_count": 4,
   "id": "2f45632c",
   "metadata": {},
   "outputs": [
    {
     "name": "stdout",
     "output_type": "stream",
     "text": [
      "Features with missing values:\n",
      "NONE \n",
      "\n",
      "Blank values: 0 \n",
      "\n",
      "\n",
      "<class 'pandas.core.frame.DataFrame'>\n",
      "RangeIndex: 20 entries, 0 to 19\n",
      "Data columns (total 9 columns):\n",
      " #   Column        Non-Null Count  Dtype \n",
      "---  ------        --------------  ----- \n",
      " 0   artist_id     20 non-null     object\n",
      " 1   artist_name   20 non-null     object\n",
      " 2   external_url  20 non-null     object\n",
      " 3   genre         20 non-null     object\n",
      " 4   image_url     20 non-null     object\n",
      " 5   followers     20 non-null     int64 \n",
      " 6   popularity    20 non-null     int64 \n",
      " 7   type          20 non-null     object\n",
      " 8   artist_uri    20 non-null     object\n",
      "dtypes: int64(2), object(7)\n",
      "memory usage: 1.5+ KB\n"
     ]
    }
   ],
   "source": [
    "display_df_null_info(artists_df)"
   ]
  },
  {
   "cell_type": "markdown",
   "id": "0dceb6d2",
   "metadata": {},
   "source": [
    "**Remarks:**\n",
    "- Looks good - no null/blank values and table schema matches the provided format."
   ]
  },
  {
   "cell_type": "code",
   "execution_count": 5,
   "id": "a343462b",
   "metadata": {},
   "outputs": [
    {
     "name": "stdout",
     "output_type": "stream",
     "text": [
      "Features with missing values:\n",
      "NONE \n",
      "\n",
      "Blank values: 0 \n",
      "\n",
      "\n",
      "<class 'pandas.core.frame.DataFrame'>\n",
      "RangeIndex: 150 entries, 0 to 149\n",
      "Data columns (total 9 columns):\n",
      " #   Column        Non-Null Count  Dtype \n",
      "---  ------        --------------  ----- \n",
      " 0   album_id      150 non-null    object\n",
      " 1   album_name    150 non-null    object\n",
      " 2   external_url  150 non-null    object\n",
      " 3   image_url     150 non-null    object\n",
      " 4   release_date  150 non-null    object\n",
      " 5   total_tracks  150 non-null    int64 \n",
      " 6   type          150 non-null    object\n",
      " 7   album_uri     150 non-null    object\n",
      " 8   artist_id     150 non-null    object\n",
      "dtypes: int64(1), object(8)\n",
      "memory usage: 10.7+ KB\n"
     ]
    }
   ],
   "source": [
    "display_df_null_info(albums_df)"
   ]
  },
  {
   "cell_type": "markdown",
   "id": "a924f76d",
   "metadata": {},
   "source": [
    "**Remarks:**\n",
    "- No null values, but we'll need to correct the datatype of the `release_date` feature, from object to datetime."
   ]
  },
  {
   "cell_type": "code",
   "execution_count": 6,
   "id": "98199eb7",
   "metadata": {},
   "outputs": [],
   "source": [
    "albums_df.release_date = albums_df.release_date.astype('datetime64')\n",
    "assert albums_df.release_date.dtype == 'datetime64[ns]'"
   ]
  },
  {
   "cell_type": "code",
   "execution_count": 7,
   "id": "807350f5",
   "metadata": {},
   "outputs": [
    {
     "name": "stdout",
     "output_type": "stream",
     "text": [
      "Features with missing values:\n",
      "NONE \n",
      "\n",
      "Blank values: 0 \n",
      "\n",
      "\n",
      "<class 'pandas.core.frame.DataFrame'>\n",
      "RangeIndex: 2152 entries, 0 to 2151\n",
      "Data columns (total 9 columns):\n",
      " #   Column        Non-Null Count  Dtype \n",
      "---  ------        --------------  ----- \n",
      " 0   track_id      2152 non-null   object\n",
      " 1   song_name     2152 non-null   object\n",
      " 2   external_url  2152 non-null   object\n",
      " 3   duration_ms   2152 non-null   int64 \n",
      " 4   explicit      2152 non-null   bool  \n",
      " 5   disc_number   2152 non-null   int64 \n",
      " 6   type          2152 non-null   object\n",
      " 7   song_uri      2152 non-null   object\n",
      " 8   album_id      2152 non-null   object\n",
      "dtypes: bool(1), int64(2), object(6)\n",
      "memory usage: 136.7+ KB\n"
     ]
    }
   ],
   "source": [
    "display_df_null_info(tracks_df)"
   ]
  },
  {
   "cell_type": "markdown",
   "id": "f13ef269",
   "metadata": {},
   "source": [
    "**Remarks:**\n",
    "- Everything looks good, no null values and Pandas correctly picked up on the `bool` datatype of the `explicit` feature."
   ]
  },
  {
   "cell_type": "code",
   "execution_count": 8,
   "id": "c0dfc785",
   "metadata": {},
   "outputs": [
    {
     "name": "stdout",
     "output_type": "stream",
     "text": [
      "Features with missing values:\n",
      "NONE \n",
      "\n",
      "Blank values: 0 \n",
      "\n",
      "\n",
      "<class 'pandas.core.frame.DataFrame'>\n",
      "RangeIndex: 2152 entries, 0 to 2151\n",
      "Data columns (total 11 columns):\n",
      " #   Column            Non-Null Count  Dtype  \n",
      "---  ------            --------------  -----  \n",
      " 0   track_id          2152 non-null   object \n",
      " 1   danceability      2152 non-null   float64\n",
      " 2   energy            2152 non-null   float64\n",
      " 3   instrumentalness  2152 non-null   float64\n",
      " 4   liveness          2152 non-null   float64\n",
      " 5   loudness          2152 non-null   float64\n",
      " 6   speechiness       2152 non-null   float64\n",
      " 7   tempo             2152 non-null   float64\n",
      " 8   type              2152 non-null   object \n",
      " 9   valence           2152 non-null   float64\n",
      " 10  song_uri          2152 non-null   object \n",
      "dtypes: float64(8), object(3)\n",
      "memory usage: 185.1+ KB\n"
     ]
    }
   ],
   "source": [
    "display_df_null_info(track_features_df)"
   ]
  },
  {
   "cell_type": "markdown",
   "id": "cb86a087",
   "metadata": {},
   "source": [
    "**Remarks:**\n",
    "- Last table is good to go - no null or blank values and datatypes all match the provided format. That was easy!"
   ]
  },
  {
   "cell_type": "markdown",
   "id": "87d8ef01",
   "metadata": {},
   "source": [
    "<br>"
   ]
  },
  {
   "cell_type": "markdown",
   "id": "2f6bb2a8",
   "metadata": {},
   "source": [
    "## Part 2: Deduplication"
   ]
  },
  {
   "cell_type": "markdown",
   "id": "71229dd1",
   "metadata": {},
   "source": [
    "### 2.1: Remove duplicate albums\n",
    "\n",
    "Below I print each artist and a list of their respective albums in `albums_df`. I then manually check each one to look for potential duplicate albums. Removing these duplicate albums should substantially reduce the number of duplicate songs that will need to be checked in the next part of the deduplication process.\n",
    "\n",
    "While this is a relatively labor intensive process, it would be difficult to find a more automated way to do this. To show the difficulty of automating the task, take for example Ellie Goulding's 4th and 5th albums, Halcyon and Halcyon Days. Who's to say whether these are duplicate albums or not? Looking it up shows that they are: Halcyon Days is a repackage of the original album with new songs added. But that would be impossible to know simply by looking for matching words. Additionally, because we're only dealing with 20 artists here, manual review will not take that long.\n",
    "\n",
    "I do not do in-depth research of every album to look for potential duplicate songs - just a quick check for anything obvious."
   ]
  },
  {
   "cell_type": "code",
   "execution_count": 9,
   "id": "b265d738",
   "metadata": {
    "scrolled": false
   },
   "outputs": [
    {
     "name": "stdout",
     "output_type": "stream",
     "text": [
      "0    Beyoncé\n",
      "Name: artist_name, dtype: object\n",
      "['RENAISSANCE', 'The Lion King: The Gift [Deluxe Edition]', 'Lemonade', 'BEYONCÉ [Platinum Edition]', '4', 'I Am...World Tour', 'Above And Beyoncé Dance Mixes', 'I AM...SASHA FIERCE', \"B'Day Deluxe Edition\", \"B'Day\"]\n",
      "\n",
      "\n",
      "1    Billie Eilish\n",
      "Name: artist_name, dtype: object\n",
      "['Happier Than Ever', 'WHEN WE ALL FALL ASLEEP, WHERE DO WE GO?']\n",
      "\n",
      "\n",
      "2    Bob Dylan\n",
      "Name: artist_name, dtype: object\n",
      "['Oh Mercy', 'Down In The Groove', 'Knocked Out Loaded', 'Empire Burlesque', 'Infidels', 'Shot Of Love', 'Saved', 'Slow Train Coming', 'Street-Legal', 'Desire']\n",
      "\n",
      "\n",
      "3    Bob Marley & The Wailers\n",
      "Name: artist_name, dtype: object\n",
      "['Confrontation', 'Uprising', 'Survival', 'Kaya (40th Anniversary Edition)', 'Kaya - Deluxe Edition', 'Babylon By Bus', 'Exodus', 'Rastaman Vibration', 'Natty Dread', 'Catch A Fire']\n",
      "\n",
      "\n",
      "4    Cuco\n",
      "Name: artist_name, dtype: object\n",
      "['Fantasy Gateway', 'Para Mi', 'Songs4u', 'wannabewithu']\n",
      "\n",
      "\n",
      "5    Doja Cat\n",
      "Name: artist_name, dtype: object\n",
      "['Planet Her (Deluxe)', 'Hot Pink', 'Amala (Deluxe Version)']\n",
      "\n",
      "\n",
      "6    Drake\n",
      "Name: artist_name, dtype: object\n",
      "['Honestly, Nevermind', 'Certified Lover Boy', 'Dark Lane Demo Tapes', 'Care Package', 'So Far Gone', 'Scorpion', 'More Life', 'Views', \"If You're Reading This It's Too Late\", 'Nothing Was The Same (Deluxe)']\n",
      "\n",
      "\n",
      "7    Ellie Goulding\n",
      "Name: artist_name, dtype: object\n",
      "['Brightest Blue', 'Lights 10', 'Delirium (Deluxe)', 'Halcyon Days', 'Halcyon', 'Lights', 'Bright Lights (Lights Re-pack / Bonus Version)']\n",
      "\n",
      "\n",
      "8    J. Cole\n",
      "Name: artist_name, dtype: object\n",
      "['D-Day: A Gangsta Grillz Mixtape', 'The Off-Season', \"Revenge Of The Dreamers III: Director's Cut\", 'Revenge Of The Dreamers III', 'KOD', '4 Your Eyez Only', '2014 Forest Hills Drive', 'Born Sinner (Deluxe Version)', 'Cole World: The Sideline Story']\n",
      "\n",
      "\n",
      "9    Jack Johnson\n",
      "Name: artist_name, dtype: object\n",
      "['Meet The Moonlight', 'All The Light Above It Too', 'From Here To Now To You', 'To The Sea', 'En Concert', 'Sleep Through The Static: Remixed', 'Sleep Through The Static', 'Jack Johnson And Friends: Sing-A-Longs And Lullabies For The Film Curious George', 'Sing-A-Longs & Lullabies For The Film Curious George', 'In Between Dreams']\n",
      "\n",
      "\n",
      "10    James Taylor\n",
      "Name: artist_name, dtype: object\n",
      "['Never Die Young', \"That's Why I'm Here\", 'Dad Loves His Work', 'Flag', 'JT', 'In the Pocket (2019 Remaster)', 'Gorilla (2019 Remaster)', 'Walking Man (2019 Remaster)', 'One Man Dog (2019 Remaster)', 'Mud Slide Slim and the Blue Horizon (2019 Remaster)']\n",
      "\n",
      "\n",
      "11    Khalid\n",
      "Name: artist_name, dtype: object\n",
      "['Scenic Drive (The Tape)', 'Free Spirit', 'Suncity', 'American Teen']\n",
      "\n",
      "\n",
      "12    Kid Cudi\n",
      "Name: artist_name, dtype: object\n",
      "['A Kid Named Cudi', 'The Boy Who Flew To The Moon (Vol. 1)', 'Man On The Moon III: The Chosen', 'KIDS SEE GHOSTS', \"Passion, Pain & Demon Slayin'\", \"Speedin' Bullet 2 Heaven\", 'KiD CuDi presents SATELLITE FLIGHT: The journey to Mother Moon', 'Indicud', 'Man On The Moon II: The Legend Of Mr. Rager', 'Man On The Moon: The End Of Day']\n",
      "\n",
      "\n",
      "13    Pink Floyd\n",
      "Name: artist_name, dtype: object\n",
      "['The Division Bell', 'A Momentary Lapse of Reason', 'The Final Cut', 'The Wall', 'Animals', 'Wish You Were Here', 'The Dark Side of the Moon', 'Obscured by Clouds', 'Meddle', 'Atom Heart Mother']\n",
      "\n",
      "\n",
      "14    Post Malone\n",
      "Name: artist_name, dtype: object\n",
      "['Twelve Carat Toothache (Deluxe)', \"Hollywood's Bleeding\", 'beerbongs & bentleys', 'Stoney (Complete Edition)']\n",
      "\n",
      "\n",
      "15    Simon & Garfunkel\n",
      "Name: artist_name, dtype: object\n",
      "['Bridge Over Troubled Water', 'Bookends', 'The Graduate', 'Parsley, Sage, Rosemary And Thyme', 'Sounds Of Silence', 'Wednesday Morning, 3 A.M.']\n",
      "\n",
      "\n",
      "16    The Beatles\n",
      "Name: artist_name, dtype: object\n",
      "['Let It Be (Remastered)', 'Abbey Road (Remastered)', 'Yellow Submarine (Remastered)', 'The Beatles (Remastered)', 'Magical Mystery Tour (Remastered)', \"Sgt. Pepper's Lonely Hearts Club Band (Deluxe Edition)\", 'Revolver (Remastered)', 'Rubber Soul (Remastered)', 'Help! (Remastered)', 'Beatles For Sale (Remastered)']\n",
      "\n",
      "\n",
      "17    The Chainsmokers\n",
      "Name: artist_name, dtype: object\n",
      "['So Far So Good', 'World War Joy', 'Sick Boy', 'Memories...Do Not Open']\n",
      "\n",
      "\n",
      "18    The Weeknd\n",
      "Name: artist_name, dtype: object\n",
      "['Dawn FM (Alternate World)', 'After Hours (Deluxe)', 'My Dear Melancholy,', 'Starboy', 'Beauty Behind The Madness', 'Kiss Land', 'Trilogy', 'Echoes Of Silence (Original)', 'Thursday (Original)', 'House Of Balloons (Original)']\n",
      "\n",
      "\n",
      "19    blackbear\n",
      "Name: artist_name, dtype: object\n",
      "['in loving memory', 'everything means nothing', 'ANONYMOUS', 'cybersex', 'digital druglord', 'help', 'deadroses']\n",
      "\n",
      "\n"
     ]
    }
   ],
   "source": [
    "for artist_id in albums_df.artist_id.unique():\n",
    "    # Display each artist name above list of albums\n",
    "    print(artists_df.loc[artists_df['artist_id'] == artist_id].artist_name)\n",
    "    # Display artist's list of albums in albums_df\n",
    "    print(list(albums_df.loc[albums_df['artist_id'] == artist_id].album_name.values))\n",
    "    print('\\n')"
   ]
  },
  {
   "cell_type": "markdown",
   "id": "257b0f96",
   "metadata": {},
   "source": [
    "**Duplicate album findings:**\n",
    "\n",
    "0. Beyonce\n",
    "- 'I Am...World Tour' (Live-recorded versions of songs)\n",
    "- 'Above And Beyoncé Dance Mixes' (Remix album of songs already in dataframe)\n",
    "- \"B'Day\" (Deluxe edition already in dataframe)\n",
    "<br><br>\n",
    "1. Billie Eilish\n",
    "- No duplicates\n",
    "<br><br>\n",
    "2. Bob Dylan\n",
    "- No duplicates\n",
    "<br><br>\n",
    "3. Bob Marley\n",
    "- 'Kaya - Deluxe Edition' (album already in dataframe)\n",
    "<br><br>\n",
    "4. Cuco\n",
    "- No duplicates\n",
    "<br><br>\n",
    "5. Doja Cat\n",
    "- No duplicates\n",
    "<br><br>\n",
    "6. Drake\n",
    "- No duplicates\n",
    "<br><br>\n",
    "7. Ellie Goulding\n",
    "- 'Lights 10' (Repeat of songs in Lights)\n",
    "- 'Halcyon' (supplanted by Halcyon Days)\n",
    "- 'Bright Lights (Lights Re-pack / Bonus Version)' (Remixed/bonus version)\n",
    "<br><br>\n",
    "8. J. Cole\n",
    "- \"Revenge Of The Dreamers III: Director's Cut\" (Director's Cut version of album already in dataframe)\n",
    "<br><br>\n",
    "9. Jack Johnson\n",
    "- 'En Concert' (Live-recorded album)\n",
    "- 'Sleep Through The Static: Remixed' (Remix of album already in dataframe)\n",
    "- 'Jack Johnson And Friends: Sing-A-Longs And Lullabies For The Film Curious George' (album already in dataframe)\n",
    "<br><br>\n",
    "10. James Taylor\n",
    "- No duplicates\n",
    "<br><br>\n",
    "11. Khalid\n",
    "- No duplicates\n",
    "<br><br>\n",
    "12. Kid Cudi\n",
    "- 'The Boy Who Flew To The Moon (Vol. 1)' (Compilation album)\n",
    "<br><br>\n",
    "13. Pink Floyd\n",
    "- No duplicates\n",
    "<br><br>\n",
    "14. Post Malone\n",
    "- No duplicates\n",
    "<br><br>\n",
    "15. Simon & Garfunkel\n",
    "- 'The Graduate' (Mainly consists of songs found in other albums)\n",
    "<br><br>\n",
    "16. The Beatles\n",
    "- No duplicates\n",
    "<br><br>\n",
    "17. The Chainsmokers\n",
    "- No duplicates\n",
    "<br><br>\n",
    "18. The Weeknd\n",
    "- 'Trilogy' (compilation album)\n",
    "<br><br>\n",
    "19. blackbear\n",
    "- No duplicates"
   ]
  },
  {
   "cell_type": "code",
   "execution_count": 10,
   "id": "f61f992f",
   "metadata": {},
   "outputs": [],
   "source": [
    "# Record initial length of albums_df for assertion statement\n",
    "initial_len = albums_df.shape[0]\n",
    "\n",
    "# Compile albums to drop into a list\n",
    "albums_to_drop = ['I Am...World Tour', 'Above And Beyoncé Dance Mixes', \"B'Day\", \n",
    "                  'Kaya - Deluxe Edition', 'Lights 10', 'Halcyon', \n",
    "                  'Bright Lights (Lights Re-pack / Bonus Version)', \"Revenge Of The Dreamers III: Director's Cut\", \n",
    "                  'En Concert', 'Sleep Through The Static: Remixed', \n",
    "                  'Jack Johnson And Friends: Sing-A-Longs And Lullabies For The Film Curious George', \n",
    "                  'The Boy Who Flew To The Moon (Vol. 1)', 'The Graduate', 'Trilogy']\n",
    "\n",
    "# Create list of album_ids to drop (for tracks_df)\n",
    "album_ids_to_drop = albums_df.loc[albums_df.album_name.isin(albums_to_drop)].album_id.values\n",
    "\n",
    "# Reassign albums_df to dataframe of all albums that are not in the list above\n",
    "albums_df = albums_df.loc[~albums_df.album_id.isin(album_ids_to_drop)]\n",
    "assert albums_df.shape[0] == initial_len - len(albums_to_drop)"
   ]
  },
  {
   "cell_type": "code",
   "execution_count": 11,
   "id": "4de72eb1",
   "metadata": {},
   "outputs": [],
   "source": [
    "# Record initial length of tracks_df and number of albums to be dropped for assertion statement\n",
    "initial_len = tracks_df.shape[0]\n",
    "num_dropped = tracks_df.loc[tracks_df.album_id.isin(album_ids_to_drop)].shape[0]\n",
    "\n",
    "# Create list of track_ids to drop (for track_features_df)\n",
    "track_ids_to_drop = tracks_df.loc[tracks_df.album_id.isin(album_ids_to_drop)].track_id.values\n",
    "\n",
    "# Drop songs in albums above from tracks_df\n",
    "tracks_df = tracks_df.loc[~tracks_df.track_id.isin(track_ids_to_drop)]\n",
    "assert tracks_df.shape[0] == initial_len - num_dropped"
   ]
  },
  {
   "cell_type": "code",
   "execution_count": 12,
   "id": "085494c4",
   "metadata": {},
   "outputs": [],
   "source": [
    "# Record initial length of track_features_df and number of tracks to be dropped for assertion statement\n",
    "initial_len = track_features_df.shape[0]\n",
    "num_dropped = track_features_df.loc[track_features_df.track_id.isin(track_ids_to_drop)].shape[0]\n",
    "\n",
    "# Drop songs in albums above from track_features_df\n",
    "track_features_df = track_features_df.loc[~track_features_df.track_id.isin(track_ids_to_drop)]\n",
    "assert track_features_df.shape[0] == initial_len - num_dropped"
   ]
  },
  {
   "cell_type": "markdown",
   "id": "276bf6be",
   "metadata": {},
   "source": [
    "### 2.2: Remove duplicate songs\n",
    "\n",
    "There are a coule different reasons I don't do a simple DataFrame.duplicated() search here - the first is that this would remove identically named songs even if the artists were different, which are not true duplicates. Additionally, it's possible that just because an artist has multiple songs with the same name, doesn't necessarily mean they are duplicates (looking at the results after the fact, we see that J. Cole has five songs named 'Intro', but just looking at the durations you can tell that they aren't true duplicates.\n",
    "\n",
    "Lastly, this process helped me discover compilation albums that I did not realize were compilation albums (it's not evident anymore because I went back and removed the albums, but I discovered two: 'Lights 10' by Ellie Goulding and 'The Boy Who Flew To The Moon (Vol. 1)' by Kid Cudi."
   ]
  },
  {
   "cell_type": "code",
   "execution_count": 13,
   "id": "aecdea47",
   "metadata": {
    "scrolled": false
   },
   "outputs": [
    {
     "name": "stdout",
     "output_type": "stream",
     "text": [
      "5    Doja Cat\n"
     ]
    },
    {
     "data": {
      "text/html": [
       "<div>\n",
       "<style scoped>\n",
       "    .dataframe tbody tr th:only-of-type {\n",
       "        vertical-align: middle;\n",
       "    }\n",
       "\n",
       "    .dataframe tbody tr th {\n",
       "        vertical-align: top;\n",
       "    }\n",
       "\n",
       "    .dataframe thead th {\n",
       "        text-align: right;\n",
       "    }\n",
       "</style>\n",
       "<table border=\"1\" class=\"dataframe\">\n",
       "  <thead>\n",
       "    <tr style=\"text-align: right;\">\n",
       "      <th></th>\n",
       "      <th>song_name</th>\n",
       "      <th>album_name</th>\n",
       "      <th>duration_ms</th>\n",
       "      <th>track_id</th>\n",
       "      <th>album_id</th>\n",
       "    </tr>\n",
       "  </thead>\n",
       "  <tbody>\n",
       "    <tr>\n",
       "      <th>0</th>\n",
       "      <td>Juicy</td>\n",
       "      <td>Hot Pink</td>\n",
       "      <td>203093</td>\n",
       "      <td>7f5trao56t7sB7f14QDTmp</td>\n",
       "      <td>1MmVkhiwTH0BkNOU3nw5d3</td>\n",
       "    </tr>\n",
       "    <tr>\n",
       "      <th>1</th>\n",
       "      <td>Juicy</td>\n",
       "      <td>Amala (Deluxe Version)</td>\n",
       "      <td>199586</td>\n",
       "      <td>4cTm3Ev9bUvy4ChJjB1nhl</td>\n",
       "      <td>3wOMqxNHgkga91RBC7BaZU</td>\n",
       "    </tr>\n",
       "  </tbody>\n",
       "</table>\n",
       "</div>"
      ],
      "text/plain": [
       "  song_name              album_name  duration_ms                track_id  \\\n",
       "0     Juicy                Hot Pink       203093  7f5trao56t7sB7f14QDTmp   \n",
       "1     Juicy  Amala (Deluxe Version)       199586  4cTm3Ev9bUvy4ChJjB1nhl   \n",
       "\n",
       "                 album_id  \n",
       "0  1MmVkhiwTH0BkNOU3nw5d3  \n",
       "1  3wOMqxNHgkga91RBC7BaZU  "
      ]
     },
     "metadata": {},
     "output_type": "display_data"
    },
    {
     "name": "stdout",
     "output_type": "stream",
     "text": [
      "1    4cTm3Ev9bUvy4ChJjB1nhl\n",
      "Name: track_id, dtype: object\n",
      "\n",
      "\n",
      "7    Ellie Goulding\n"
     ]
    },
    {
     "data": {
      "text/html": [
       "<div>\n",
       "<style scoped>\n",
       "    .dataframe tbody tr th:only-of-type {\n",
       "        vertical-align: middle;\n",
       "    }\n",
       "\n",
       "    .dataframe tbody tr th {\n",
       "        vertical-align: top;\n",
       "    }\n",
       "\n",
       "    .dataframe thead th {\n",
       "        text-align: right;\n",
       "    }\n",
       "</style>\n",
       "<table border=\"1\" class=\"dataframe\">\n",
       "  <thead>\n",
       "    <tr style=\"text-align: right;\">\n",
       "      <th></th>\n",
       "      <th>song_name</th>\n",
       "      <th>album_name</th>\n",
       "      <th>duration_ms</th>\n",
       "      <th>track_id</th>\n",
       "      <th>album_id</th>\n",
       "    </tr>\n",
       "  </thead>\n",
       "  <tbody>\n",
       "    <tr>\n",
       "      <th>0</th>\n",
       "      <td>Lights - Single Version</td>\n",
       "      <td>Halcyon Days</td>\n",
       "      <td>210633</td>\n",
       "      <td>44906V2WC6k59u06A8CO9D</td>\n",
       "      <td>3KVeczHxWg5YFKb0gS62f2</td>\n",
       "    </tr>\n",
       "    <tr>\n",
       "      <th>1</th>\n",
       "      <td>Lights - Single Version</td>\n",
       "      <td>Lights</td>\n",
       "      <td>211800</td>\n",
       "      <td>5qftsSFD6Qgndcx13SSqQj</td>\n",
       "      <td>3duZhvcaoqdNveQYXf9dMV</td>\n",
       "    </tr>\n",
       "  </tbody>\n",
       "</table>\n",
       "</div>"
      ],
      "text/plain": [
       "                 song_name    album_name  duration_ms                track_id  \\\n",
       "0  Lights - Single Version  Halcyon Days       210633  44906V2WC6k59u06A8CO9D   \n",
       "1  Lights - Single Version        Lights       211800  5qftsSFD6Qgndcx13SSqQj   \n",
       "\n",
       "                 album_id  \n",
       "0  3KVeczHxWg5YFKb0gS62f2  \n",
       "1  3duZhvcaoqdNveQYXf9dMV  "
      ]
     },
     "metadata": {},
     "output_type": "display_data"
    },
    {
     "name": "stdout",
     "output_type": "stream",
     "text": [
      "1    5qftsSFD6Qgndcx13SSqQj\n",
      "Name: track_id, dtype: object\n",
      "\n",
      "\n",
      "8    J. Cole\n"
     ]
    },
    {
     "data": {
      "text/html": [
       "<div>\n",
       "<style scoped>\n",
       "    .dataframe tbody tr th:only-of-type {\n",
       "        vertical-align: middle;\n",
       "    }\n",
       "\n",
       "    .dataframe tbody tr th {\n",
       "        vertical-align: top;\n",
       "    }\n",
       "\n",
       "    .dataframe thead th {\n",
       "        text-align: right;\n",
       "    }\n",
       "</style>\n",
       "<table border=\"1\" class=\"dataframe\">\n",
       "  <thead>\n",
       "    <tr style=\"text-align: right;\">\n",
       "      <th></th>\n",
       "      <th>song_name</th>\n",
       "      <th>album_name</th>\n",
       "      <th>duration_ms</th>\n",
       "      <th>track_id</th>\n",
       "      <th>album_id</th>\n",
       "    </tr>\n",
       "  </thead>\n",
       "  <tbody>\n",
       "    <tr>\n",
       "      <th>0</th>\n",
       "      <td>Intro</td>\n",
       "      <td>Honestly, Nevermind</td>\n",
       "      <td>36935</td>\n",
       "      <td>1kNdtonJXHorsVpWerK8C2</td>\n",
       "      <td>3cf4iSSKd8ffTncbtKljXw</td>\n",
       "    </tr>\n",
       "    <tr>\n",
       "      <th>1</th>\n",
       "      <td>Intro</td>\n",
       "      <td>KOD</td>\n",
       "      <td>107160</td>\n",
       "      <td>52Hq1nvCDDZ17dhgGWLnCI</td>\n",
       "      <td>4Wv5UAieM1LDEYVq5WmqDd</td>\n",
       "    </tr>\n",
       "    <tr>\n",
       "      <th>2</th>\n",
       "      <td>Intro</td>\n",
       "      <td>2014 Forest Hills Drive</td>\n",
       "      <td>129153</td>\n",
       "      <td>05jQUgTm40hzAw5uqOy0ob</td>\n",
       "      <td>0UMMIkurRUmkruZ3KGBLtG</td>\n",
       "    </tr>\n",
       "    <tr>\n",
       "      <th>3</th>\n",
       "      <td>Intro</td>\n",
       "      <td>Cole World: The Sideline Story</td>\n",
       "      <td>82613</td>\n",
       "      <td>4Tqro5z3Uj9cDOWKOPaqMD</td>\n",
       "      <td>0fhmJYVhW0e4i33pCLPA5i</td>\n",
       "    </tr>\n",
       "    <tr>\n",
       "      <th>4</th>\n",
       "      <td>Intro</td>\n",
       "      <td>Free Spirit</td>\n",
       "      <td>213253</td>\n",
       "      <td>5BfMJ6iytQnu1r7iiCYSXe</td>\n",
       "      <td>6KT8x5oqZJl9CcnM66hddo</td>\n",
       "    </tr>\n",
       "    <tr>\n",
       "      <th>5</th>\n",
       "      <td>Intro</td>\n",
       "      <td>A Kid Named Cudi</td>\n",
       "      <td>59265</td>\n",
       "      <td>0giG4DEJ7VAoXoPZhLcIlj</td>\n",
       "      <td>2blXZboio9DF8VC39LmUag</td>\n",
       "    </tr>\n",
       "  </tbody>\n",
       "</table>\n",
       "</div>"
      ],
      "text/plain": [
       "  song_name                      album_name  duration_ms  \\\n",
       "0     Intro             Honestly, Nevermind        36935   \n",
       "1     Intro                             KOD       107160   \n",
       "2     Intro         2014 Forest Hills Drive       129153   \n",
       "3     Intro  Cole World: The Sideline Story        82613   \n",
       "4     Intro                     Free Spirit       213253   \n",
       "5     Intro                A Kid Named Cudi        59265   \n",
       "\n",
       "                 track_id                album_id  \n",
       "0  1kNdtonJXHorsVpWerK8C2  3cf4iSSKd8ffTncbtKljXw  \n",
       "1  52Hq1nvCDDZ17dhgGWLnCI  4Wv5UAieM1LDEYVq5WmqDd  \n",
       "2  05jQUgTm40hzAw5uqOy0ob  0UMMIkurRUmkruZ3KGBLtG  \n",
       "3  4Tqro5z3Uj9cDOWKOPaqMD  0fhmJYVhW0e4i33pCLPA5i  \n",
       "4  5BfMJ6iytQnu1r7iiCYSXe  6KT8x5oqZJl9CcnM66hddo  \n",
       "5  0giG4DEJ7VAoXoPZhLcIlj  2blXZboio9DF8VC39LmUag  "
      ]
     },
     "metadata": {},
     "output_type": "display_data"
    },
    {
     "name": "stdout",
     "output_type": "stream",
     "text": [
      "9    Jack Johnson\n"
     ]
    },
    {
     "data": {
      "text/html": [
       "<div>\n",
       "<style scoped>\n",
       "    .dataframe tbody tr th:only-of-type {\n",
       "        vertical-align: middle;\n",
       "    }\n",
       "\n",
       "    .dataframe tbody tr th {\n",
       "        vertical-align: top;\n",
       "    }\n",
       "\n",
       "    .dataframe thead th {\n",
       "        text-align: right;\n",
       "    }\n",
       "</style>\n",
       "<table border=\"1\" class=\"dataframe\">\n",
       "  <thead>\n",
       "    <tr style=\"text-align: right;\">\n",
       "      <th></th>\n",
       "      <th>song_name</th>\n",
       "      <th>album_name</th>\n",
       "      <th>duration_ms</th>\n",
       "      <th>track_id</th>\n",
       "      <th>album_id</th>\n",
       "    </tr>\n",
       "  </thead>\n",
       "  <tbody>\n",
       "    <tr>\n",
       "      <th>0</th>\n",
       "      <td>Better Together</td>\n",
       "      <td>To The Sea</td>\n",
       "      <td>255240</td>\n",
       "      <td>2akSUuj1gchoHIYbBlzQtg</td>\n",
       "      <td>0N9g1klLNTWcRharbEVsPB</td>\n",
       "    </tr>\n",
       "    <tr>\n",
       "      <th>1</th>\n",
       "      <td>Better Together</td>\n",
       "      <td>In Between Dreams</td>\n",
       "      <td>207680</td>\n",
       "      <td>4VywXu6umkIQ2OS0m1I79y</td>\n",
       "      <td>7tTc46dNdE6GGuiQsssWxo</td>\n",
       "    </tr>\n",
       "  </tbody>\n",
       "</table>\n",
       "</div>"
      ],
      "text/plain": [
       "         song_name         album_name  duration_ms                track_id  \\\n",
       "0  Better Together         To The Sea       255240  2akSUuj1gchoHIYbBlzQtg   \n",
       "1  Better Together  In Between Dreams       207680  4VywXu6umkIQ2OS0m1I79y   \n",
       "\n",
       "                 album_id  \n",
       "0  0N9g1klLNTWcRharbEVsPB  \n",
       "1  7tTc46dNdE6GGuiQsssWxo  "
      ]
     },
     "metadata": {},
     "output_type": "display_data"
    },
    {
     "name": "stdout",
     "output_type": "stream",
     "text": [
      "1    4VywXu6umkIQ2OS0m1I79y\n",
      "Name: track_id, dtype: object\n",
      "\n",
      "\n",
      "11    Khalid\n"
     ]
    },
    {
     "data": {
      "text/html": [
       "<div>\n",
       "<style scoped>\n",
       "    .dataframe tbody tr th:only-of-type {\n",
       "        vertical-align: middle;\n",
       "    }\n",
       "\n",
       "    .dataframe tbody tr th {\n",
       "        vertical-align: top;\n",
       "    }\n",
       "\n",
       "    .dataframe thead th {\n",
       "        text-align: right;\n",
       "    }\n",
       "</style>\n",
       "<table border=\"1\" class=\"dataframe\">\n",
       "  <thead>\n",
       "    <tr style=\"text-align: right;\">\n",
       "      <th></th>\n",
       "      <th>song_name</th>\n",
       "      <th>album_name</th>\n",
       "      <th>duration_ms</th>\n",
       "      <th>track_id</th>\n",
       "      <th>album_id</th>\n",
       "    </tr>\n",
       "  </thead>\n",
       "  <tbody>\n",
       "    <tr>\n",
       "      <th>0</th>\n",
       "      <td>Better</td>\n",
       "      <td>Free Spirit</td>\n",
       "      <td>229400</td>\n",
       "      <td>339Y993TrFyWyO438be0RY</td>\n",
       "      <td>6KT8x5oqZJl9CcnM66hddo</td>\n",
       "    </tr>\n",
       "    <tr>\n",
       "      <th>1</th>\n",
       "      <td>Saturday Nights</td>\n",
       "      <td>Free Spirit</td>\n",
       "      <td>211626</td>\n",
       "      <td>1fHRzxbts9A8J1ergDe7Kz</td>\n",
       "      <td>6KT8x5oqZJl9CcnM66hddo</td>\n",
       "    </tr>\n",
       "    <tr>\n",
       "      <th>2</th>\n",
       "      <td>Saturday Nights</td>\n",
       "      <td>Suncity</td>\n",
       "      <td>209546</td>\n",
       "      <td>7vGGAJBkHKxKtOnGjQduDV</td>\n",
       "      <td>4UNwL1B7JoymNUiTFJa52B</td>\n",
       "    </tr>\n",
       "    <tr>\n",
       "      <th>3</th>\n",
       "      <td>Better</td>\n",
       "      <td>Suncity</td>\n",
       "      <td>229320</td>\n",
       "      <td>2OpBganfGk2GVdSlRdxzaX</td>\n",
       "      <td>4UNwL1B7JoymNUiTFJa52B</td>\n",
       "    </tr>\n",
       "  </tbody>\n",
       "</table>\n",
       "</div>"
      ],
      "text/plain": [
       "         song_name   album_name  duration_ms                track_id  \\\n",
       "0           Better  Free Spirit       229400  339Y993TrFyWyO438be0RY   \n",
       "1  Saturday Nights  Free Spirit       211626  1fHRzxbts9A8J1ergDe7Kz   \n",
       "2  Saturday Nights      Suncity       209546  7vGGAJBkHKxKtOnGjQduDV   \n",
       "3           Better      Suncity       229320  2OpBganfGk2GVdSlRdxzaX   \n",
       "\n",
       "                 album_id  \n",
       "0  6KT8x5oqZJl9CcnM66hddo  \n",
       "1  6KT8x5oqZJl9CcnM66hddo  \n",
       "2  4UNwL1B7JoymNUiTFJa52B  \n",
       "3  4UNwL1B7JoymNUiTFJa52B  "
      ]
     },
     "metadata": {},
     "output_type": "display_data"
    },
    {
     "name": "stdout",
     "output_type": "stream",
     "text": [
      "2    7vGGAJBkHKxKtOnGjQduDV\n",
      "3    2OpBganfGk2GVdSlRdxzaX\n",
      "Name: track_id, dtype: object\n",
      "\n",
      "\n",
      "16    The Beatles\n"
     ]
    },
    {
     "data": {
      "text/html": [
       "<div>\n",
       "<style scoped>\n",
       "    .dataframe tbody tr th:only-of-type {\n",
       "        vertical-align: middle;\n",
       "    }\n",
       "\n",
       "    .dataframe tbody tr th {\n",
       "        vertical-align: top;\n",
       "    }\n",
       "\n",
       "    .dataframe thead th {\n",
       "        text-align: right;\n",
       "    }\n",
       "</style>\n",
       "<table border=\"1\" class=\"dataframe\">\n",
       "  <thead>\n",
       "    <tr style=\"text-align: right;\">\n",
       "      <th></th>\n",
       "      <th>song_name</th>\n",
       "      <th>album_name</th>\n",
       "      <th>duration_ms</th>\n",
       "      <th>track_id</th>\n",
       "      <th>album_id</th>\n",
       "    </tr>\n",
       "  </thead>\n",
       "  <tbody>\n",
       "    <tr>\n",
       "      <th>0</th>\n",
       "      <td>Yellow Submarine - Remastered 2009</td>\n",
       "      <td>Yellow Submarine (Remastered)</td>\n",
       "      <td>159720</td>\n",
       "      <td>3oEo8Pqm5IAi8wQfCI5BpR</td>\n",
       "      <td>1gKZ5A1ndFqbcrWtW85cCy</td>\n",
       "    </tr>\n",
       "    <tr>\n",
       "      <th>1</th>\n",
       "      <td>All You Need Is Love - Remastered 2009</td>\n",
       "      <td>Yellow Submarine (Remastered)</td>\n",
       "      <td>231213</td>\n",
       "      <td>2Z8cY4QpZTFUZxCQCpvNe1</td>\n",
       "      <td>1gKZ5A1ndFqbcrWtW85cCy</td>\n",
       "    </tr>\n",
       "    <tr>\n",
       "      <th>2</th>\n",
       "      <td>All You Need Is Love - Remastered 2009</td>\n",
       "      <td>Magical Mystery Tour (Remastered)</td>\n",
       "      <td>230386</td>\n",
       "      <td>68BTFws92cRztMS1oQ7Ewj</td>\n",
       "      <td>2BtE7qm1qzM80p9vLSiXkj</td>\n",
       "    </tr>\n",
       "    <tr>\n",
       "      <th>3</th>\n",
       "      <td>Yellow Submarine - Remastered 2009</td>\n",
       "      <td>Revolver (Remastered)</td>\n",
       "      <td>158880</td>\n",
       "      <td>50xwQXPtfNZFKFeZ0XePWc</td>\n",
       "      <td>3PRoXYsngSwjEQWR5PsHWR</td>\n",
       "    </tr>\n",
       "  </tbody>\n",
       "</table>\n",
       "</div>"
      ],
      "text/plain": [
       "                                song_name                         album_name  \\\n",
       "0      Yellow Submarine - Remastered 2009      Yellow Submarine (Remastered)   \n",
       "1  All You Need Is Love - Remastered 2009      Yellow Submarine (Remastered)   \n",
       "2  All You Need Is Love - Remastered 2009  Magical Mystery Tour (Remastered)   \n",
       "3      Yellow Submarine - Remastered 2009              Revolver (Remastered)   \n",
       "\n",
       "   duration_ms                track_id                album_id  \n",
       "0       159720  3oEo8Pqm5IAi8wQfCI5BpR  1gKZ5A1ndFqbcrWtW85cCy  \n",
       "1       231213  2Z8cY4QpZTFUZxCQCpvNe1  1gKZ5A1ndFqbcrWtW85cCy  \n",
       "2       230386  68BTFws92cRztMS1oQ7Ewj  2BtE7qm1qzM80p9vLSiXkj  \n",
       "3       158880  50xwQXPtfNZFKFeZ0XePWc  3PRoXYsngSwjEQWR5PsHWR  "
      ]
     },
     "metadata": {},
     "output_type": "display_data"
    },
    {
     "name": "stdout",
     "output_type": "stream",
     "text": [
      "2    68BTFws92cRztMS1oQ7Ewj\n",
      "3    50xwQXPtfNZFKFeZ0XePWc\n",
      "Name: track_id, dtype: object\n",
      "\n",
      "\n"
     ]
    }
   ],
   "source": [
    "# List to contain compiled duplicate track_ids to remove\n",
    "track_ids_to_drop = []\n",
    "\n",
    "# Loop through each artist id, and keep same formatting (count, then tab, then artist name) as before\n",
    "for n, artist_id in enumerate(albums_df['artist_id'].unique()):\n",
    "    \n",
    "    # Create list of unique album_ids for each artist\n",
    "    artist_album_ids = albums_df.loc[albums_df.artist_id == artist_id]['album_id'].values\n",
    "    \n",
    "    # Create list of unique song names for each artist\n",
    "    song_names = []\n",
    "    for album_id in artist_album_ids:\n",
    "        song_names.extend(tracks_df.loc[tracks_df.album_id == album_id].song_name.values)\n",
    "        \n",
    "    # Create list of duplicate songs (by song_name) for each artist\n",
    "    duplicate_songs = [song for song, count in collections.Counter(song_names).items() if count > 1]\n",
    "    \n",
    "    # Print artist name, dataframe of duplicate songs, and list of track_ids to remove above each table of \n",
    "    # duplicate tracks if artist has duplicate songs, otherwise display nothing\n",
    "    if duplicate_songs:\n",
    "        print(n, '  ', artists_df.loc[artists_df.artist_id == artist_id]['artist_name'].values[0])  # Artist name\n",
    "        \n",
    "        # Duplicate songs dataframe\n",
    "        dups_df = tracks_df.loc[tracks_df.song_name.isin(duplicate_songs)]\n",
    "        # Add album_name to dups_df\n",
    "        dups_df = dups_df.merge(albums_df[['album_id', 'album_name']], on='album_id')\n",
    "        # Only display relevant rows\n",
    "        display(dups_df[['song_name', 'album_name', 'duration_ms', 'track_id', 'album_id']])\n",
    "        \n",
    "        # Skip dups_df dataframe if song_name == 'Intro' (J. Cole - not true duplicates)\n",
    "        if 'Intro' in dups_df.song_name.values:\n",
    "            continue\n",
    "            \n",
    "        # Create list of duplicated track_ids (use default 'keep' value of 'first')\n",
    "        artist_track_ids_to_drop = dups_df[dups_df.duplicated(subset='song_name')]['track_id']\n",
    "        print(artist_track_ids_to_drop)  # Artist track_ids to remove\n",
    "        \n",
    "        # Add artist's duplicated tracks to global compiled duplicated track_ids list\n",
    "        track_ids_to_drop.extend(artist_track_ids_to_drop)\n",
    "        print('\\n')"
   ]
  },
  {
   "cell_type": "code",
   "execution_count": 14,
   "id": "dda3f212",
   "metadata": {},
   "outputs": [],
   "source": [
    "# Record initial length of dataframe\n",
    "initial_len = tracks_df.shape[0]\n",
    "\n",
    "# Drop duplicate songs found above from tracks_df\n",
    "tracks_df = tracks_df.loc[~tracks_df.track_id.isin(track_ids_to_drop)]\n",
    "assert tracks_df.shape[0] == initial_len - len(track_ids_to_drop)\n",
    "\n",
    "# Drop duplicate songs found above from track_features_df\n",
    "track_features_df = track_features_df.loc[~track_features_df.track_id.isin(track_ids_to_drop)]\n",
    "assert track_features_df.shape[0] == initial_len - len(track_ids_to_drop)"
   ]
  },
  {
   "cell_type": "markdown",
   "id": "b5493335",
   "metadata": {},
   "source": [
    "<br>"
   ]
  },
  {
   "cell_type": "markdown",
   "id": "2fdf0c83",
   "metadata": {},
   "source": [
    "# Step 3: Storage"
   ]
  },
  {
   "cell_type": "markdown",
   "id": "fb905eb6",
   "metadata": {},
   "source": [
    "The cell below creates a 'spotify.db' file in the data folder if it is not already present there, and connects to it to access the data if it is.\n",
    "\n",
    "I will run and view the SQL queries throughout this notebook using the pandas.read_sql function, due to the consistency and readability of the output table format."
   ]
  },
  {
   "cell_type": "code",
   "execution_count": 15,
   "id": "938c10b8",
   "metadata": {},
   "outputs": [],
   "source": [
    "# Establish connection to SQLite server and create spotify.db file\n",
    "conn = sqlite3.Connection(\"data/spotify.db\")\n",
    "c = conn.cursor()"
   ]
  },
  {
   "cell_type": "markdown",
   "id": "f6b8d31e",
   "metadata": {},
   "source": [
    "## Part 1: `artist` table"
   ]
  },
  {
   "cell_type": "code",
   "execution_count": 16,
   "id": "7580daae",
   "metadata": {},
   "outputs": [
    {
     "data": {
      "text/plain": [
       "<sqlite3.Cursor at 0x13cd28a40>"
      ]
     },
     "execution_count": 16,
     "metadata": {},
     "output_type": "execute_result"
    }
   ],
   "source": [
    "# Create artist SQL table from artists_df dataframe\n",
    "c.execute(\"\"\"\n",
    "CREATE TABLE IF NOT EXISTS artist (\n",
    "    artist_id VARCHAR,\n",
    "    artist_name VARCHAR,\n",
    "    external_url VARCHAR,\n",
    "    genre VARCHAR,\n",
    "    image_url VARCHAR,\n",
    "    followers INT,\n",
    "    popularity INT,\n",
    "    type VARCHAR,\n",
    "    artist_uri VARCHAR\n",
    "    )\n",
    "\"\"\")"
   ]
  },
  {
   "cell_type": "code",
   "execution_count": 17,
   "id": "391f3abc",
   "metadata": {},
   "outputs": [
    {
     "data": {
      "text/html": [
       "<div>\n",
       "<style scoped>\n",
       "    .dataframe tbody tr th:only-of-type {\n",
       "        vertical-align: middle;\n",
       "    }\n",
       "\n",
       "    .dataframe tbody tr th {\n",
       "        vertical-align: top;\n",
       "    }\n",
       "\n",
       "    .dataframe thead th {\n",
       "        text-align: right;\n",
       "    }\n",
       "</style>\n",
       "<table border=\"1\" class=\"dataframe\">\n",
       "  <thead>\n",
       "    <tr style=\"text-align: right;\">\n",
       "      <th></th>\n",
       "      <th>name</th>\n",
       "      <th>type</th>\n",
       "    </tr>\n",
       "  </thead>\n",
       "  <tbody>\n",
       "    <tr>\n",
       "      <th>0</th>\n",
       "      <td>artist_id</td>\n",
       "      <td>VARCHAR</td>\n",
       "    </tr>\n",
       "    <tr>\n",
       "      <th>1</th>\n",
       "      <td>artist_name</td>\n",
       "      <td>VARCHAR</td>\n",
       "    </tr>\n",
       "    <tr>\n",
       "      <th>2</th>\n",
       "      <td>external_url</td>\n",
       "      <td>VARCHAR</td>\n",
       "    </tr>\n",
       "    <tr>\n",
       "      <th>3</th>\n",
       "      <td>genre</td>\n",
       "      <td>VARCHAR</td>\n",
       "    </tr>\n",
       "    <tr>\n",
       "      <th>4</th>\n",
       "      <td>image_url</td>\n",
       "      <td>VARCHAR</td>\n",
       "    </tr>\n",
       "    <tr>\n",
       "      <th>5</th>\n",
       "      <td>followers</td>\n",
       "      <td>INT</td>\n",
       "    </tr>\n",
       "    <tr>\n",
       "      <th>6</th>\n",
       "      <td>popularity</td>\n",
       "      <td>INT</td>\n",
       "    </tr>\n",
       "    <tr>\n",
       "      <th>7</th>\n",
       "      <td>type</td>\n",
       "      <td>VARCHAR</td>\n",
       "    </tr>\n",
       "    <tr>\n",
       "      <th>8</th>\n",
       "      <td>artist_uri</td>\n",
       "      <td>VARCHAR</td>\n",
       "    </tr>\n",
       "  </tbody>\n",
       "</table>\n",
       "</div>"
      ],
      "text/plain": [
       "           name     type\n",
       "0     artist_id  VARCHAR\n",
       "1   artist_name  VARCHAR\n",
       "2  external_url  VARCHAR\n",
       "3         genre  VARCHAR\n",
       "4     image_url  VARCHAR\n",
       "5     followers      INT\n",
       "6    popularity      INT\n",
       "7          type  VARCHAR\n",
       "8    artist_uri  VARCHAR"
      ]
     },
     "execution_count": 17,
     "metadata": {},
     "output_type": "execute_result"
    }
   ],
   "source": [
    "# Display artist table schema\n",
    "q1 = \"\"\"\n",
    "PRAGMA table_info('artist')\n",
    "\"\"\"\n",
    "\n",
    "pd.read_sql(q1, conn).iloc[:, 1:3]"
   ]
  },
  {
   "cell_type": "code",
   "execution_count": 18,
   "id": "902d04fa",
   "metadata": {},
   "outputs": [
    {
     "data": {
      "text/plain": [
       "20"
      ]
     },
     "execution_count": 18,
     "metadata": {},
     "output_type": "execute_result"
    }
   ],
   "source": [
    "# Convert artists_df to SQL table and add data to artist table\n",
    "artists_df.to_sql('artist', if_exists='append', index=False, con=conn)"
   ]
  },
  {
   "cell_type": "markdown",
   "id": "6be9c070",
   "metadata": {},
   "source": [
    "<br>"
   ]
  },
  {
   "cell_type": "markdown",
   "id": "f82bd4d0",
   "metadata": {},
   "source": [
    "## Part 2: `album` table"
   ]
  },
  {
   "cell_type": "code",
   "execution_count": 19,
   "id": "52fcab88",
   "metadata": {},
   "outputs": [
    {
     "data": {
      "text/plain": [
       "<sqlite3.Cursor at 0x13cd28a40>"
      ]
     },
     "execution_count": 19,
     "metadata": {},
     "output_type": "execute_result"
    }
   ],
   "source": [
    "# Create album SQL table from albums_df dataframe\n",
    "c.execute(\"\"\"\n",
    "CREATE TABLE IF NOT EXISTS album (\n",
    "    album_id VARCHAR,\n",
    "    album_name VARCHAR,\n",
    "    external_url VARCHAR,\n",
    "    image_url VARCHAR,\n",
    "    release_date DATE,\n",
    "    total_tracks INT,\n",
    "    type VARCHAR,\n",
    "    album_uri VARCHAR,\n",
    "    artist_id VARCHAR\n",
    "    )\n",
    "\"\"\")"
   ]
  },
  {
   "cell_type": "code",
   "execution_count": 20,
   "id": "ad47c308",
   "metadata": {},
   "outputs": [
    {
     "data": {
      "text/html": [
       "<div>\n",
       "<style scoped>\n",
       "    .dataframe tbody tr th:only-of-type {\n",
       "        vertical-align: middle;\n",
       "    }\n",
       "\n",
       "    .dataframe tbody tr th {\n",
       "        vertical-align: top;\n",
       "    }\n",
       "\n",
       "    .dataframe thead th {\n",
       "        text-align: right;\n",
       "    }\n",
       "</style>\n",
       "<table border=\"1\" class=\"dataframe\">\n",
       "  <thead>\n",
       "    <tr style=\"text-align: right;\">\n",
       "      <th></th>\n",
       "      <th>name</th>\n",
       "      <th>type</th>\n",
       "    </tr>\n",
       "  </thead>\n",
       "  <tbody>\n",
       "    <tr>\n",
       "      <th>0</th>\n",
       "      <td>album_id</td>\n",
       "      <td>VARCHAR</td>\n",
       "    </tr>\n",
       "    <tr>\n",
       "      <th>1</th>\n",
       "      <td>album_name</td>\n",
       "      <td>VARCHAR</td>\n",
       "    </tr>\n",
       "    <tr>\n",
       "      <th>2</th>\n",
       "      <td>external_url</td>\n",
       "      <td>VARCHAR</td>\n",
       "    </tr>\n",
       "    <tr>\n",
       "      <th>3</th>\n",
       "      <td>image_url</td>\n",
       "      <td>VARCHAR</td>\n",
       "    </tr>\n",
       "    <tr>\n",
       "      <th>4</th>\n",
       "      <td>release_date</td>\n",
       "      <td>DATE</td>\n",
       "    </tr>\n",
       "    <tr>\n",
       "      <th>5</th>\n",
       "      <td>total_tracks</td>\n",
       "      <td>INT</td>\n",
       "    </tr>\n",
       "    <tr>\n",
       "      <th>6</th>\n",
       "      <td>type</td>\n",
       "      <td>VARCHAR</td>\n",
       "    </tr>\n",
       "    <tr>\n",
       "      <th>7</th>\n",
       "      <td>album_uri</td>\n",
       "      <td>VARCHAR</td>\n",
       "    </tr>\n",
       "    <tr>\n",
       "      <th>8</th>\n",
       "      <td>artist_id</td>\n",
       "      <td>VARCHAR</td>\n",
       "    </tr>\n",
       "  </tbody>\n",
       "</table>\n",
       "</div>"
      ],
      "text/plain": [
       "           name     type\n",
       "0      album_id  VARCHAR\n",
       "1    album_name  VARCHAR\n",
       "2  external_url  VARCHAR\n",
       "3     image_url  VARCHAR\n",
       "4  release_date     DATE\n",
       "5  total_tracks      INT\n",
       "6          type  VARCHAR\n",
       "7     album_uri  VARCHAR\n",
       "8     artist_id  VARCHAR"
      ]
     },
     "execution_count": 20,
     "metadata": {},
     "output_type": "execute_result"
    }
   ],
   "source": [
    "# Display album table schema\n",
    "q2 = \"\"\"\n",
    "PRAGMA table_info('album')\n",
    "\"\"\"\n",
    "\n",
    "pd.read_sql(q2, conn).iloc[:, 1:3]"
   ]
  },
  {
   "cell_type": "code",
   "execution_count": 21,
   "id": "0b5da9c3",
   "metadata": {},
   "outputs": [
    {
     "data": {
      "text/plain": [
       "136"
      ]
     },
     "execution_count": 21,
     "metadata": {},
     "output_type": "execute_result"
    }
   ],
   "source": [
    "# Convert albums_df to SQL table and add data to album table\n",
    "albums_df.to_sql('album', if_exists='append', index=False, con=conn)"
   ]
  },
  {
   "cell_type": "markdown",
   "id": "27a89a5a",
   "metadata": {},
   "source": [
    "<br>"
   ]
  },
  {
   "cell_type": "markdown",
   "id": "5116eb56",
   "metadata": {},
   "source": [
    "## Part 3: `track` table"
   ]
  },
  {
   "cell_type": "code",
   "execution_count": 22,
   "id": "36878e66",
   "metadata": {},
   "outputs": [
    {
     "data": {
      "text/plain": [
       "<sqlite3.Cursor at 0x13cd28a40>"
      ]
     },
     "execution_count": 22,
     "metadata": {},
     "output_type": "execute_result"
    }
   ],
   "source": [
    "# Create track SQL table from tracks_df dataframe\n",
    "c.execute(\"\"\"\n",
    "CREATE TABLE IF NOT EXISTS track (\n",
    "    track_id VARCHAR,\n",
    "    song_name VARCHAR,\n",
    "    external_url VARCHAR,\n",
    "    duration_ms INT,\n",
    "    explicit BOOLEAN,\n",
    "    disc_number INT,\n",
    "    type VARCHAR,\n",
    "    song_uri VARCHAR,\n",
    "    album_id VARCHAR\n",
    "    )\n",
    "\"\"\")"
   ]
  },
  {
   "cell_type": "code",
   "execution_count": 23,
   "id": "b87869a3",
   "metadata": {},
   "outputs": [
    {
     "data": {
      "text/html": [
       "<div>\n",
       "<style scoped>\n",
       "    .dataframe tbody tr th:only-of-type {\n",
       "        vertical-align: middle;\n",
       "    }\n",
       "\n",
       "    .dataframe tbody tr th {\n",
       "        vertical-align: top;\n",
       "    }\n",
       "\n",
       "    .dataframe thead th {\n",
       "        text-align: right;\n",
       "    }\n",
       "</style>\n",
       "<table border=\"1\" class=\"dataframe\">\n",
       "  <thead>\n",
       "    <tr style=\"text-align: right;\">\n",
       "      <th></th>\n",
       "      <th>name</th>\n",
       "      <th>type</th>\n",
       "    </tr>\n",
       "  </thead>\n",
       "  <tbody>\n",
       "    <tr>\n",
       "      <th>0</th>\n",
       "      <td>track_id</td>\n",
       "      <td>VARCHAR</td>\n",
       "    </tr>\n",
       "    <tr>\n",
       "      <th>1</th>\n",
       "      <td>song_name</td>\n",
       "      <td>VARCHAR</td>\n",
       "    </tr>\n",
       "    <tr>\n",
       "      <th>2</th>\n",
       "      <td>external_url</td>\n",
       "      <td>VARCHAR</td>\n",
       "    </tr>\n",
       "    <tr>\n",
       "      <th>3</th>\n",
       "      <td>duration_ms</td>\n",
       "      <td>INT</td>\n",
       "    </tr>\n",
       "    <tr>\n",
       "      <th>4</th>\n",
       "      <td>explicit</td>\n",
       "      <td>BOOLEAN</td>\n",
       "    </tr>\n",
       "    <tr>\n",
       "      <th>5</th>\n",
       "      <td>disc_number</td>\n",
       "      <td>INT</td>\n",
       "    </tr>\n",
       "    <tr>\n",
       "      <th>6</th>\n",
       "      <td>type</td>\n",
       "      <td>VARCHAR</td>\n",
       "    </tr>\n",
       "    <tr>\n",
       "      <th>7</th>\n",
       "      <td>song_uri</td>\n",
       "      <td>VARCHAR</td>\n",
       "    </tr>\n",
       "    <tr>\n",
       "      <th>8</th>\n",
       "      <td>album_id</td>\n",
       "      <td>VARCHAR</td>\n",
       "    </tr>\n",
       "  </tbody>\n",
       "</table>\n",
       "</div>"
      ],
      "text/plain": [
       "           name     type\n",
       "0      track_id  VARCHAR\n",
       "1     song_name  VARCHAR\n",
       "2  external_url  VARCHAR\n",
       "3   duration_ms      INT\n",
       "4      explicit  BOOLEAN\n",
       "5   disc_number      INT\n",
       "6          type  VARCHAR\n",
       "7      song_uri  VARCHAR\n",
       "8      album_id  VARCHAR"
      ]
     },
     "execution_count": 23,
     "metadata": {},
     "output_type": "execute_result"
    }
   ],
   "source": [
    "# Display track table schema\n",
    "q3 = \"\"\"\n",
    "PRAGMA table_info('track')\n",
    "\"\"\"\n",
    "\n",
    "pd.read_sql(q3, conn).iloc[:, 1:3]"
   ]
  },
  {
   "cell_type": "code",
   "execution_count": 24,
   "id": "00f5362e",
   "metadata": {},
   "outputs": [
    {
     "data": {
      "text/plain": [
       "1890"
      ]
     },
     "execution_count": 24,
     "metadata": {},
     "output_type": "execute_result"
    }
   ],
   "source": [
    "# Convert tracks_df to SQL table and add data to track table\n",
    "tracks_df.to_sql('track', if_exists='append', index=False, con=conn)"
   ]
  },
  {
   "cell_type": "markdown",
   "id": "d99edf56",
   "metadata": {},
   "source": [
    "<br>"
   ]
  },
  {
   "cell_type": "markdown",
   "id": "bc47bafc",
   "metadata": {},
   "source": [
    "## Part 4: `track_feature` table"
   ]
  },
  {
   "cell_type": "code",
   "execution_count": 25,
   "id": "d2e0e393",
   "metadata": {},
   "outputs": [
    {
     "data": {
      "text/plain": [
       "<sqlite3.Cursor at 0x13cd28a40>"
      ]
     },
     "execution_count": 25,
     "metadata": {},
     "output_type": "execute_result"
    }
   ],
   "source": [
    "# Create track_feature SQL table from track_features_df dataframe\n",
    "c.execute(\"\"\"\n",
    "CREATE TABLE IF NOT EXISTS track_feature (\n",
    "    track_id VARCHAR,\n",
    "    danceability DOUBLE,\n",
    "    energy DOUBLE,\n",
    "    instrumentalness DOUBLE,\n",
    "    liveness DOUBLE,\n",
    "    loudness DOUBLE,\n",
    "    speechiness DOUBLE,\n",
    "    tempo DOUBLE,\n",
    "    type VARCHAR,\n",
    "    valence DOUBLE,\n",
    "    song_uri VARCHAR\n",
    "    )\n",
    "\"\"\")"
   ]
  },
  {
   "cell_type": "code",
   "execution_count": 26,
   "id": "72f04afe",
   "metadata": {},
   "outputs": [
    {
     "data": {
      "text/html": [
       "<div>\n",
       "<style scoped>\n",
       "    .dataframe tbody tr th:only-of-type {\n",
       "        vertical-align: middle;\n",
       "    }\n",
       "\n",
       "    .dataframe tbody tr th {\n",
       "        vertical-align: top;\n",
       "    }\n",
       "\n",
       "    .dataframe thead th {\n",
       "        text-align: right;\n",
       "    }\n",
       "</style>\n",
       "<table border=\"1\" class=\"dataframe\">\n",
       "  <thead>\n",
       "    <tr style=\"text-align: right;\">\n",
       "      <th></th>\n",
       "      <th>name</th>\n",
       "      <th>type</th>\n",
       "    </tr>\n",
       "  </thead>\n",
       "  <tbody>\n",
       "    <tr>\n",
       "      <th>0</th>\n",
       "      <td>track_id</td>\n",
       "      <td>VARCHAR</td>\n",
       "    </tr>\n",
       "    <tr>\n",
       "      <th>1</th>\n",
       "      <td>danceability</td>\n",
       "      <td>DOUBLE</td>\n",
       "    </tr>\n",
       "    <tr>\n",
       "      <th>2</th>\n",
       "      <td>energy</td>\n",
       "      <td>DOUBLE</td>\n",
       "    </tr>\n",
       "    <tr>\n",
       "      <th>3</th>\n",
       "      <td>instrumentalness</td>\n",
       "      <td>DOUBLE</td>\n",
       "    </tr>\n",
       "    <tr>\n",
       "      <th>4</th>\n",
       "      <td>liveness</td>\n",
       "      <td>DOUBLE</td>\n",
       "    </tr>\n",
       "    <tr>\n",
       "      <th>5</th>\n",
       "      <td>loudness</td>\n",
       "      <td>DOUBLE</td>\n",
       "    </tr>\n",
       "    <tr>\n",
       "      <th>6</th>\n",
       "      <td>speechiness</td>\n",
       "      <td>DOUBLE</td>\n",
       "    </tr>\n",
       "    <tr>\n",
       "      <th>7</th>\n",
       "      <td>tempo</td>\n",
       "      <td>DOUBLE</td>\n",
       "    </tr>\n",
       "    <tr>\n",
       "      <th>8</th>\n",
       "      <td>type</td>\n",
       "      <td>VARCHAR</td>\n",
       "    </tr>\n",
       "    <tr>\n",
       "      <th>9</th>\n",
       "      <td>valence</td>\n",
       "      <td>DOUBLE</td>\n",
       "    </tr>\n",
       "    <tr>\n",
       "      <th>10</th>\n",
       "      <td>song_uri</td>\n",
       "      <td>VARCHAR</td>\n",
       "    </tr>\n",
       "  </tbody>\n",
       "</table>\n",
       "</div>"
      ],
      "text/plain": [
       "                name     type\n",
       "0           track_id  VARCHAR\n",
       "1       danceability   DOUBLE\n",
       "2             energy   DOUBLE\n",
       "3   instrumentalness   DOUBLE\n",
       "4           liveness   DOUBLE\n",
       "5           loudness   DOUBLE\n",
       "6        speechiness   DOUBLE\n",
       "7              tempo   DOUBLE\n",
       "8               type  VARCHAR\n",
       "9            valence   DOUBLE\n",
       "10          song_uri  VARCHAR"
      ]
     },
     "execution_count": 26,
     "metadata": {},
     "output_type": "execute_result"
    }
   ],
   "source": [
    "# Display track_feature table schema\n",
    "q4 = \"\"\"\n",
    "PRAGMA table_info('track_feature')\n",
    "\"\"\"\n",
    "\n",
    "pd.read_sql(q4, conn).iloc[:, 1:3]"
   ]
  },
  {
   "cell_type": "code",
   "execution_count": 27,
   "id": "e97b5f2b",
   "metadata": {},
   "outputs": [
    {
     "data": {
      "text/plain": [
       "1890"
      ]
     },
     "execution_count": 27,
     "metadata": {},
     "output_type": "execute_result"
    }
   ],
   "source": [
    "# Convert track_features_df to SQL table and add data to track_feature table\n",
    "track_features_df.to_sql('track_feature', if_exists='append', index=False, con=conn)"
   ]
  },
  {
   "cell_type": "code",
   "execution_count": 28,
   "id": "054ca42e",
   "metadata": {},
   "outputs": [
    {
     "data": {
      "text/html": [
       "<div>\n",
       "<style scoped>\n",
       "    .dataframe tbody tr th:only-of-type {\n",
       "        vertical-align: middle;\n",
       "    }\n",
       "\n",
       "    .dataframe tbody tr th {\n",
       "        vertical-align: top;\n",
       "    }\n",
       "\n",
       "    .dataframe thead th {\n",
       "        text-align: right;\n",
       "    }\n",
       "</style>\n",
       "<table border=\"1\" class=\"dataframe\">\n",
       "  <thead>\n",
       "    <tr style=\"text-align: right;\">\n",
       "      <th></th>\n",
       "      <th>type</th>\n",
       "      <th>name</th>\n",
       "      <th>tbl_name</th>\n",
       "      <th>rootpage</th>\n",
       "      <th>sql</th>\n",
       "    </tr>\n",
       "  </thead>\n",
       "  <tbody>\n",
       "    <tr>\n",
       "      <th>0</th>\n",
       "      <td>table</td>\n",
       "      <td>artist</td>\n",
       "      <td>artist</td>\n",
       "      <td>2</td>\n",
       "      <td>CREATE TABLE artist (\\n    artist_id VARCHAR,\\...</td>\n",
       "    </tr>\n",
       "    <tr>\n",
       "      <th>1</th>\n",
       "      <td>table</td>\n",
       "      <td>album</td>\n",
       "      <td>album</td>\n",
       "      <td>5</td>\n",
       "      <td>CREATE TABLE album (\\n    album_id VARCHAR,\\n ...</td>\n",
       "    </tr>\n",
       "    <tr>\n",
       "      <th>2</th>\n",
       "      <td>table</td>\n",
       "      <td>track</td>\n",
       "      <td>track</td>\n",
       "      <td>15</td>\n",
       "      <td>CREATE TABLE track (\\n    track_id VARCHAR,\\n ...</td>\n",
       "    </tr>\n",
       "    <tr>\n",
       "      <th>3</th>\n",
       "      <td>table</td>\n",
       "      <td>track_feature</td>\n",
       "      <td>track_feature</td>\n",
       "      <td>100</td>\n",
       "      <td>CREATE TABLE track_feature (\\n    track_id VAR...</td>\n",
       "    </tr>\n",
       "  </tbody>\n",
       "</table>\n",
       "</div>"
      ],
      "text/plain": [
       "    type           name       tbl_name  rootpage  \\\n",
       "0  table         artist         artist         2   \n",
       "1  table          album          album         5   \n",
       "2  table          track          track        15   \n",
       "3  table  track_feature  track_feature       100   \n",
       "\n",
       "                                                 sql  \n",
       "0  CREATE TABLE artist (\\n    artist_id VARCHAR,\\...  \n",
       "1  CREATE TABLE album (\\n    album_id VARCHAR,\\n ...  \n",
       "2  CREATE TABLE track (\\n    track_id VARCHAR,\\n ...  \n",
       "3  CREATE TABLE track_feature (\\n    track_id VAR...  "
      ]
     },
     "execution_count": 28,
     "metadata": {},
     "output_type": "execute_result"
    }
   ],
   "source": [
    "# Display all tables and views\n",
    "q5 = \"\"\"\n",
    "SELECT * FROM sqlite_master;\n",
    "\"\"\"\n",
    "\n",
    "pd.read_sql(q5, conn)"
   ]
  },
  {
   "cell_type": "code",
   "execution_count": 29,
   "id": "4e7c6329",
   "metadata": {},
   "outputs": [],
   "source": [
    "# Commit additions to database\n",
    "conn.commit()"
   ]
  },
  {
   "cell_type": "markdown",
   "id": "d35701a9",
   "metadata": {},
   "source": [
    "<br>"
   ]
  },
  {
   "cell_type": "markdown",
   "id": "f68d3338",
   "metadata": {},
   "source": [
    "### Save dataframes as `pkl` files"
   ]
  },
  {
   "cell_type": "code",
   "execution_count": 30,
   "id": "5322650a",
   "metadata": {},
   "outputs": [],
   "source": [
    "if not os.path.exists('data/artists_df.pkl'):\n",
    "    artists_df.to_pickle('data/artists_df.pkl')\n",
    "    \n",
    "if not os.path.exists('data/albums_df.pkl'):\n",
    "    albums_df.to_pickle('data/albums_df.pkl')\n",
    "    \n",
    "if not os.path.exists('data/tracks_df.pkl'):\n",
    "    tracks_df.to_pickle('data/tracks_df.pkl')\n",
    "    \n",
    "if not os.path.exists('data/track_features_df.pkl'):\n",
    "    track_features_df.to_pickle('data/track_features_df.pkl')"
   ]
  }
 ],
 "metadata": {
  "kernelspec": {
   "display_name": "Python 3 (ipykernel)",
   "language": "python",
   "name": "python3"
  },
  "language_info": {
   "codemirror_mode": {
    "name": "ipython",
    "version": 3
   },
   "file_extension": ".py",
   "mimetype": "text/x-python",
   "name": "python",
   "nbconvert_exporter": "python",
   "pygments_lexer": "ipython3",
   "version": "3.9.13"
  }
 },
 "nbformat": 4,
 "nbformat_minor": 5
}
