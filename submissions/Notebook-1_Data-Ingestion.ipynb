{
 "cells": [
  {
   "cell_type": "markdown",
   "id": "860352d6",
   "metadata": {},
   "source": [
    "<img src=\"https://github.com/rjpost20/Onramp-Project/blob/main/data/pexels-vishnu-r-nair-1105666.jpg?raw=true\">\n",
    "Image by <a href=\"https://www.pexels.com/@vishnurnair/\" >Vishnu R Nair</a> on <a href=\"https://www.pexels.com/photo/people-at-concert-1105666/\" >Pexels.com</a>"
   ]
  },
  {
   "cell_type": "markdown",
   "id": "9ed2ea46",
   "metadata": {},
   "source": [
    "# *Onramp x Vanguard Spotify Project*\n",
    "\n",
    "## Notebook 1: Data Ingestion"
   ]
  },
  {
   "cell_type": "markdown",
   "id": "09eff5a0",
   "metadata": {},
   "source": [
    "## *By Ryan Posternak*"
   ]
  },
  {
   "cell_type": "markdown",
   "id": "c3d74690",
   "metadata": {},
   "source": [
    "<br>"
   ]
  },
  {
   "cell_type": "markdown",
   "id": "48551bfe",
   "metadata": {},
   "source": [
    "## Table of Contents:\n",
    "\n",
    "* __Step 1: Data Ingestion__\n",
    " * __Establish Connection to Spotify's API__\n",
    " * __Part 1: Artists Dataframe__\n",
    " * __Part 2: Albums Dataframe__\n",
    " * __Part 3: Tracks Dataframe__\n",
    " * __Part 4: Track Features Dataframe__\n",
    "<br><br>\n",
    "* Step 2: Data Transformation\n",
    " * Part 1: Handling Null/Missing Values\n",
    " * Part 2: Deduplication\n",
    "   * 2.1: Remove duplicate albums\n",
    "   * 2.2: Remove duplicate songs\n",
    "<br><br>\n",
    "* Step 3: Storage\n",
    " * Part 1: artist Table\n",
    " * Part 2: album Table\n",
    " * Part 3: track Table\n",
    " * Part 4: track_feature Table\n",
    "<br><br>\n",
    "* Step 4: Analytics / Visualizations\n",
    " * Part 1: SQL Query Analytics\n",
    "   * 1.1: Top songs by artist in terms of `duration_ms`\n",
    "   * 1.2: Top artists in the database by number of `followers`\n",
    "   * 1.3: Top songs by artist in terms of `tempo`\n",
    "   * 1.4: Average `track_feature` values by artist\n",
    "   * 1.5: Max and min average `track_feature` and `duration_ms` values by album\n",
    "   * 1.6: Proportion of `explicit` tracks by artist\n",
    " * Part 2: Data Visualizations\n",
    "   * 2.1: Mean `track_feature` values by `genre`\n",
    "   * 2.2: Distribution of `track_feature` and `duration_ms` values\n",
    "   * 2.3: Evolution of artists, visualized\n",
    "   * 2.4: Evolution of genres, visualized\n",
    "   * 2.5: Correlations between `track_feature` + `duration_ms` + `followers` values"
   ]
  },
  {
   "cell_type": "markdown",
   "id": "305b8560",
   "metadata": {},
   "source": [
    "## Imports"
   ]
  },
  {
   "cell_type": "code",
   "execution_count": 1,
   "id": "a6256686",
   "metadata": {},
   "outputs": [],
   "source": [
    "import pandas as pd\n",
    "pd.set_option('display.max_columns', None)\n",
    "from pprint import pprint\n",
    "import time, re, os\n",
    "\n",
    "import spotipy\n",
    "from spotipy.oauth2 import SpotifyClientCredentials"
   ]
  },
  {
   "cell_type": "markdown",
   "id": "3236e4aa",
   "metadata": {},
   "source": [
    "<br>"
   ]
  },
  {
   "cell_type": "markdown",
   "id": "10dd48bb",
   "metadata": {},
   "source": [
    "# Step 1: Data Ingestion"
   ]
  },
  {
   "cell_type": "markdown",
   "id": "d59f4b01",
   "metadata": {},
   "source": [
    "### Establish connection to Spotify's API"
   ]
  },
  {
   "cell_type": "code",
   "execution_count": 2,
   "id": "ee9c0787",
   "metadata": {},
   "outputs": [
    {
     "data": {
      "text/plain": [
       "<spotipy.client.Spotify at 0x136b54d30>"
      ]
     },
     "execution_count": 2,
     "metadata": {},
     "output_type": "execute_result"
    }
   ],
   "source": [
    "# Set API keys as environment variables (sensitive information!). Credentials are stored securely in a local file.\n",
    "with open(\"API.txt\") as f:\n",
    "    text = f.readlines()\n",
    "    client_id = text[0].strip()\n",
    "    client_secret = text[1].strip()\n",
    "    redirect_uri = text[2].strip()\n",
    "    \n",
    "# Assign API keys to a Spotipy credential manager\n",
    "client_credentials_manager = SpotifyClientCredentials(client_id=client_id, \n",
    "                                                      client_secret=client_secret, \n",
    "                                                      requests_timeout=None) # Default timeout setting is too short\n",
    "\n",
    "# Connect to Spotipy by passing in credential manager\n",
    "sp = spotipy.Spotify(client_credentials_manager=client_credentials_manager)\n",
    "\n",
    "sp"
   ]
  },
  {
   "cell_type": "markdown",
   "id": "543be83f",
   "metadata": {},
   "source": [
    "## Part 1: Artists Dataframe"
   ]
  },
  {
   "cell_type": "markdown",
   "id": "2b8749fe",
   "metadata": {},
   "source": [
    "### Obtain artist data for top 20 favorite artists"
   ]
  },
  {
   "cell_type": "code",
   "execution_count": 3,
   "id": "7cd669e4",
   "metadata": {},
   "outputs": [],
   "source": [
    "# Define list of 20 favorite artists\n",
    "artists = ['Beyoncé', 'Billie Eilish', 'Bob Dylan', 'Bob Marley & The Wailers', 'Cuco', 'Doja Cat', 'Drake', \\\n",
    "           'Ellie Goulding', 'J. Cole', 'Jack Johnson', 'James Taylor', 'Khalid', 'Kid Cudi', 'Pink Floyd', \\\n",
    "           'Post Malone', 'Simon & Garfunkel', 'The Beatles', 'The Chainsmokers', 'The Weeknd', 'blackbear']\n",
    "\n",
    "assert len(artists) == 20"
   ]
  },
  {
   "cell_type": "code",
   "execution_count": 4,
   "id": "b8d87da3",
   "metadata": {},
   "outputs": [
    {
     "name": "stdout",
     "output_type": "stream",
     "text": [
      "{'artists': {'href': 'https://api.spotify.com/v1/search?query=The+Beatles&type=artist&offset=0&limit=1',\n",
      "             'items': [{'external_urls': {'spotify': 'https://open.spotify.com/artist/3WrFJ7ztbogyGnTHbHJFl2'},\n",
      "                        'followers': {'href': None, 'total': 23583228},\n",
      "                        'genres': ['beatlesque',\n",
      "                                   'british invasion',\n",
      "                                   'classic rock',\n",
      "                                   'merseybeat',\n",
      "                                   'psychedelic rock',\n",
      "                                   'rock'],\n",
      "                        'href': 'https://api.spotify.com/v1/artists/3WrFJ7ztbogyGnTHbHJFl2',\n",
      "                        'id': '3WrFJ7ztbogyGnTHbHJFl2',\n",
      "                        'images': [{'height': 640,\n",
      "                                    'url': 'https://i.scdn.co/image/ab6761610000e5ebe9348cc01ff5d55971b22433',\n",
      "                                    'width': 640},\n",
      "                                   {'height': 320,\n",
      "                                    'url': 'https://i.scdn.co/image/ab67616100005174e9348cc01ff5d55971b22433',\n",
      "                                    'width': 320},\n",
      "                                   {'height': 160,\n",
      "                                    'url': 'https://i.scdn.co/image/ab6761610000f178e9348cc01ff5d55971b22433',\n",
      "                                    'width': 160}],\n",
      "                        'name': 'The Beatles',\n",
      "                        'popularity': 83,\n",
      "                        'type': 'artist',\n",
      "                        'uri': 'spotify:artist:3WrFJ7ztbogyGnTHbHJFl2'}],\n",
      "             'limit': 1,\n",
      "             'next': 'https://api.spotify.com/v1/search?query=The+Beatles&type=artist&offset=1&limit=1',\n",
      "             'offset': 0,\n",
      "             'previous': None,\n",
      "             'total': 55}}\n"
     ]
    }
   ],
   "source": [
    "# Preview artist output format\n",
    "preview = sp.search('The Beatles', limit=1, type='artist')\n",
    "pprint(preview)"
   ]
  },
  {
   "cell_type": "code",
   "execution_count": 5,
   "id": "1713b8d2",
   "metadata": {},
   "outputs": [],
   "source": [
    "# Create function to fill dictionary based on API-call data lists and column names\n",
    "def add_to_dict(dictionary, column_names, lists):\n",
    "    for column_name, lst in zip(column_names, lists):\n",
    "        dictionary[column_name] = lst\n",
    "    print('Dictionary successfully filled')"
   ]
  },
  {
   "cell_type": "code",
   "execution_count": 6,
   "id": "b58da7bc",
   "metadata": {},
   "outputs": [
    {
     "name": "stdout",
     "output_type": "stream",
     "text": [
      "Dictionary successfully filled\n"
     ]
    }
   ],
   "source": [
    "# Define dictionary to contain all artist data\n",
    "artists_dict = {}\n",
    "\n",
    "# Define list containers for artists info\n",
    "artist_ids, artist_names, external_urls, genres, image_urls, followers, \\\n",
    "popularities, types, artist_uris = [], [], [], [], [], [], [], [], []\n",
    "\n",
    "# Append artist info to each respective list\n",
    "for artist in artists:\n",
    "    artist_info = sp.search(artist, limit=1, type='artist')\n",
    "    info_items = artist_info['artists']['items'][0]\n",
    "    \n",
    "    artist_ids.append(info_items['id'])\n",
    "    artist_names.append(info_items['name'])\n",
    "    external_urls.append(info_items['external_urls']['spotify'])\n",
    "    genres.append(info_items['genres'][0])  # Take first genre from list\n",
    "    image_urls.append(info_items['images'][0]['url'])  # Take first image url from list\n",
    "    followers.append(info_items['followers']['total'])\n",
    "    popularities.append(info_items['popularity'])\n",
    "    types.append(info_items['type'])\n",
    "    artist_uris.append(info_items['uri'])\n",
    "    \n",
    "    # Set a delay after each API call to prevent loop from crashing\n",
    "    time.sleep(0.1)\n",
    "\n",
    "# Create column_name: feature_list key-value pairs for artists_dict dictionary\n",
    "column_names = ['artist_id', 'artist_name', 'external_url', 'genre', 'image_url', 'followers', 'popularity', \n",
    "                'type', 'artist_uri']\n",
    "lists = [artist_ids, artist_names, external_urls, genres, image_urls, followers, popularities, \n",
    "         types, artist_uris]\n",
    "\n",
    "add_to_dict(artists_dict, column_names, lists)"
   ]
  },
  {
   "cell_type": "code",
   "execution_count": 7,
   "id": "be63f439",
   "metadata": {},
   "outputs": [
    {
     "data": {
      "text/html": [
       "<div>\n",
       "<style scoped>\n",
       "    .dataframe tbody tr th:only-of-type {\n",
       "        vertical-align: middle;\n",
       "    }\n",
       "\n",
       "    .dataframe tbody tr th {\n",
       "        vertical-align: top;\n",
       "    }\n",
       "\n",
       "    .dataframe thead th {\n",
       "        text-align: right;\n",
       "    }\n",
       "</style>\n",
       "<table border=\"1\" class=\"dataframe\">\n",
       "  <thead>\n",
       "    <tr style=\"text-align: right;\">\n",
       "      <th></th>\n",
       "      <th>artist_id</th>\n",
       "      <th>artist_name</th>\n",
       "      <th>external_url</th>\n",
       "      <th>genre</th>\n",
       "      <th>image_url</th>\n",
       "      <th>followers</th>\n",
       "      <th>popularity</th>\n",
       "      <th>type</th>\n",
       "      <th>artist_uri</th>\n",
       "    </tr>\n",
       "  </thead>\n",
       "  <tbody>\n",
       "    <tr>\n",
       "      <th>0</th>\n",
       "      <td>6vWDO969PvNqNYHIOW5v0m</td>\n",
       "      <td>Beyoncé</td>\n",
       "      <td>https://open.spotify.com/artist/6vWDO969PvNqNY...</td>\n",
       "      <td>dance pop</td>\n",
       "      <td>https://i.scdn.co/image/ab6761610000e5eb676338...</td>\n",
       "      <td>32173211</td>\n",
       "      <td>88</td>\n",
       "      <td>artist</td>\n",
       "      <td>spotify:artist:6vWDO969PvNqNYHIOW5v0m</td>\n",
       "    </tr>\n",
       "    <tr>\n",
       "      <th>1</th>\n",
       "      <td>6qqNVTkY8uBg9cP3Jd7DAH</td>\n",
       "      <td>Billie Eilish</td>\n",
       "      <td>https://open.spotify.com/artist/6qqNVTkY8uBg9c...</td>\n",
       "      <td>art pop</td>\n",
       "      <td>https://i.scdn.co/image/ab6761610000e5ebd8b998...</td>\n",
       "      <td>68915938</td>\n",
       "      <td>88</td>\n",
       "      <td>artist</td>\n",
       "      <td>spotify:artist:6qqNVTkY8uBg9cP3Jd7DAH</td>\n",
       "    </tr>\n",
       "    <tr>\n",
       "      <th>2</th>\n",
       "      <td>74ASZWbe4lXaubB36ztrGX</td>\n",
       "      <td>Bob Dylan</td>\n",
       "      <td>https://open.spotify.com/artist/74ASZWbe4lXaub...</td>\n",
       "      <td>album rock</td>\n",
       "      <td>https://i.scdn.co/image/ab6772690000c46cf79ca0...</td>\n",
       "      <td>5782357</td>\n",
       "      <td>71</td>\n",
       "      <td>artist</td>\n",
       "      <td>spotify:artist:74ASZWbe4lXaubB36ztrGX</td>\n",
       "    </tr>\n",
       "    <tr>\n",
       "      <th>3</th>\n",
       "      <td>2QsynagSdAqZj3U9HgDzjD</td>\n",
       "      <td>Bob Marley &amp; The Wailers</td>\n",
       "      <td>https://open.spotify.com/artist/2QsynagSdAqZj3...</td>\n",
       "      <td>reggae</td>\n",
       "      <td>https://i.scdn.co/image/b5aae2067db80f694a980e...</td>\n",
       "      <td>10865517</td>\n",
       "      <td>78</td>\n",
       "      <td>artist</td>\n",
       "      <td>spotify:artist:2QsynagSdAqZj3U9HgDzjD</td>\n",
       "    </tr>\n",
       "    <tr>\n",
       "      <th>4</th>\n",
       "      <td>2Tglaf8nvDzwSQnpSrjLHP</td>\n",
       "      <td>Cuco</td>\n",
       "      <td>https://open.spotify.com/artist/2Tglaf8nvDzwSQ...</td>\n",
       "      <td>bedroom pop</td>\n",
       "      <td>https://i.scdn.co/image/ab6761610000e5ebcfb53b...</td>\n",
       "      <td>1851319</td>\n",
       "      <td>71</td>\n",
       "      <td>artist</td>\n",
       "      <td>spotify:artist:2Tglaf8nvDzwSQnpSrjLHP</td>\n",
       "    </tr>\n",
       "  </tbody>\n",
       "</table>\n",
       "</div>"
      ],
      "text/plain": [
       "                artist_id               artist_name  \\\n",
       "0  6vWDO969PvNqNYHIOW5v0m                   Beyoncé   \n",
       "1  6qqNVTkY8uBg9cP3Jd7DAH             Billie Eilish   \n",
       "2  74ASZWbe4lXaubB36ztrGX                 Bob Dylan   \n",
       "3  2QsynagSdAqZj3U9HgDzjD  Bob Marley & The Wailers   \n",
       "4  2Tglaf8nvDzwSQnpSrjLHP                      Cuco   \n",
       "\n",
       "                                        external_url        genre  \\\n",
       "0  https://open.spotify.com/artist/6vWDO969PvNqNY...    dance pop   \n",
       "1  https://open.spotify.com/artist/6qqNVTkY8uBg9c...      art pop   \n",
       "2  https://open.spotify.com/artist/74ASZWbe4lXaub...   album rock   \n",
       "3  https://open.spotify.com/artist/2QsynagSdAqZj3...       reggae   \n",
       "4  https://open.spotify.com/artist/2Tglaf8nvDzwSQ...  bedroom pop   \n",
       "\n",
       "                                           image_url  followers  popularity  \\\n",
       "0  https://i.scdn.co/image/ab6761610000e5eb676338...   32173211          88   \n",
       "1  https://i.scdn.co/image/ab6761610000e5ebd8b998...   68915938          88   \n",
       "2  https://i.scdn.co/image/ab6772690000c46cf79ca0...    5782357          71   \n",
       "3  https://i.scdn.co/image/b5aae2067db80f694a980e...   10865517          78   \n",
       "4  https://i.scdn.co/image/ab6761610000e5ebcfb53b...    1851319          71   \n",
       "\n",
       "     type                             artist_uri  \n",
       "0  artist  spotify:artist:6vWDO969PvNqNYHIOW5v0m  \n",
       "1  artist  spotify:artist:6qqNVTkY8uBg9cP3Jd7DAH  \n",
       "2  artist  spotify:artist:74ASZWbe4lXaubB36ztrGX  \n",
       "3  artist  spotify:artist:2QsynagSdAqZj3U9HgDzjD  \n",
       "4  artist  spotify:artist:2Tglaf8nvDzwSQnpSrjLHP  "
      ]
     },
     "execution_count": 7,
     "metadata": {},
     "output_type": "execute_result"
    }
   ],
   "source": [
    "# Compile into Pandas dataframe\n",
    "artists_df = pd.DataFrame(data=artists_dict)\n",
    "assert artists_df.shape[0] == 20\n",
    "\n",
    "# Preview artists dataframe\n",
    "artists_df.head()"
   ]
  },
  {
   "cell_type": "markdown",
   "id": "babd300b",
   "metadata": {},
   "source": [
    "<br>"
   ]
  },
  {
   "cell_type": "markdown",
   "id": "8674f68e",
   "metadata": {},
   "source": [
    "## Part 2: Albums Dataframe"
   ]
  },
  {
   "cell_type": "markdown",
   "id": "87541a1e",
   "metadata": {},
   "source": [
    "### Obtain album data for (max) ten albums for each of top 20 favorite artists"
   ]
  },
  {
   "cell_type": "code",
   "execution_count": 8,
   "id": "9cd7eda5",
   "metadata": {},
   "outputs": [
    {
     "name": "stdout",
     "output_type": "stream",
     "text": [
      "{'album_group': 'album',\n",
      " 'album_type': 'album',\n",
      " 'artists': [{'external_urls': {'spotify': 'https://open.spotify.com/artist/6vWDO969PvNqNYHIOW5v0m'},\n",
      "              'href': 'https://api.spotify.com/v1/artists/6vWDO969PvNqNYHIOW5v0m',\n",
      "              'id': '6vWDO969PvNqNYHIOW5v0m',\n",
      "              'name': 'Beyoncé',\n",
      "              'type': 'artist',\n",
      "              'uri': 'spotify:artist:6vWDO969PvNqNYHIOW5v0m'}],\n",
      " 'external_urls': {'spotify': 'https://open.spotify.com/album/6FJxoadUE4JNVwWHghBwnb'},\n",
      " 'href': 'https://api.spotify.com/v1/albums/6FJxoadUE4JNVwWHghBwnb',\n",
      " 'id': '6FJxoadUE4JNVwWHghBwnb',\n",
      " 'images': [{'height': 640,\n",
      "             'url': 'https://i.scdn.co/image/ab67616d0000b2730e58a0f8308c1ad403d105e7',\n",
      "             'width': 640},\n",
      "            {'height': 300,\n",
      "             'url': 'https://i.scdn.co/image/ab67616d00001e020e58a0f8308c1ad403d105e7',\n",
      "             'width': 300},\n",
      "            {'height': 64,\n",
      "             'url': 'https://i.scdn.co/image/ab67616d000048510e58a0f8308c1ad403d105e7',\n",
      "             'width': 64}],\n",
      " 'name': 'RENAISSANCE',\n",
      " 'release_date': '2022-07-29',\n",
      " 'release_date_precision': 'day',\n",
      " 'total_tracks': 16,\n",
      " 'type': 'album',\n",
      " 'uri': 'spotify:album:6FJxoadUE4JNVwWHghBwnb'}\n"
     ]
    }
   ],
   "source": [
    "# Preview albums output format\n",
    "preview = sp.artist_albums(artist_id='6vWDO969PvNqNYHIOW5v0m', limit=10, country='US')\n",
    "pprint(preview['items'][0])"
   ]
  },
  {
   "cell_type": "code",
   "execution_count": 9,
   "id": "795b4d40",
   "metadata": {},
   "outputs": [
    {
     "name": "stdout",
     "output_type": "stream",
     "text": [
      "'RENAISSANCE'\n",
      "'RENAISSANCE'\n",
      "'The Lion King: The Gift [Deluxe Edition]'\n",
      "'The Lion King: The Gift [Deluxe Edition]'\n",
      "'The Lion King: The Gift'\n",
      "'HOMECOMING: THE LIVE ALBUM'\n",
      "'HOMECOMING: THE LIVE ALBUM'\n",
      "'Lemonade'\n",
      "'Lemonade'\n",
      "'BEYONCÉ [Platinum Edition]'\n"
     ]
    }
   ],
   "source": [
    "# Display names of albums\n",
    "for album in preview['items']:\n",
    "    pprint(album['name'])"
   ]
  },
  {
   "cell_type": "markdown",
   "id": "16161877",
   "metadata": {},
   "source": [
    "**Remarks:**\n",
    "- It looks like duplicate albums will be an issue. Further, it looks like slight variations on the name or edition (e.g. regular edition vs. deluxe edition) will also be an issue. We'll address this with a RegEx search to remove any text inside square brackets or parentheses when checking for duplicate albums, which should catch most of these duplicates.\n",
    "- While not a problem for this artist, many artist will likely have one or more live-recorded versions of albums among the mix, which one would assume are almost entirely repeats of songs that are in one of their other (recorded) albums. To address this, we'll skip any album with the word \"live\" in it. Since this could mean losing a lot of albums, we'll set a relatively high limit of 20 in the API search."
   ]
  },
  {
   "cell_type": "code",
   "execution_count": 10,
   "id": "f5426478",
   "metadata": {},
   "outputs": [
    {
     "name": "stdout",
     "output_type": "stream",
     "text": [
      "'RENAISSANCE'\n",
      "'RENAISSANCE'\n",
      "'The Lion King: The Gift'\n",
      "'The Lion King: The Gift'\n",
      "'The Lion King: The Gift'\n",
      "'HOMECOMING: THE LIVE ALBUM'\n",
      "'HOMECOMING: THE LIVE ALBUM'\n",
      "'Lemonade'\n",
      "'Lemonade'\n",
      "'BEYONCÉ'\n"
     ]
    }
   ],
   "source": [
    "# Display names of albums with album variation comments removed\n",
    "for album in preview['items']:\n",
    "    pprint(re.sub(\"[\\(\\[].*?[\\)\\]]\", \"\", album['name']).strip())"
   ]
  },
  {
   "cell_type": "markdown",
   "id": "03b5eb46",
   "metadata": {},
   "source": [
    "Below I structure an API call of 50 albums per artist, however I break the loop once 10 albums have been retrieved for an individual artist. I call 50 albums in the API because I skip all identically named albums (after RegEx search above), all albums with any word in the 'skips' list, and for four older artists, any albums after specified dates (to avoid later-released remastered/special edition albums). So, we need extra albums in the API call to account for those.\n",
    "\n",
    "I skip albums with these words because the goal is to obtain solely original-release albums — no compilations and no live-recorded albums (as these same songs are presumably found on recorded albums). The analytics and visualizations should be more informative if we can obtain the original albums (and the associated original release dates) rather than the later-released remastered, recompiled, or otherwise special-edition albums.\n",
    "\n",
    "Additionally, though I call for a max of 10 albums per artist, many artists (especially contemporary ones) will have far fewer than that because they have not released that many albums thus far. Furthermore, even more albums will be dropped later on when I do a manual review of duplicate albums. Due to the above, most artists will not end up with 10 albums in the dataframes, but for some prolific artists such as The Beatles, obtaining the majority of their discography by allowing up to 10 will make for more informative visualizations.\n",
    "\n",
    "Specifying an `album_type` of 'album' helps filter out compilation albums, but some still get through, not to mention live-recorded albums.\n",
    "\n",
    "For The Beatles, James Taylor and Pink Floyd, I was having trouble isolating their original release albums due to the abundance of albums available under their names (many of which were live-recorded or compilation albums). To improve the search I skipped any albums which were outside of the years in which they released their original studio albums (they may have some original albums released after the specified time period, but it's inconsequential as seven albums are obtained for all three artists before it reaches that point in time)."
   ]
  },
  {
   "cell_type": "code",
   "execution_count": 11,
   "id": "a48f3b7f",
   "metadata": {},
   "outputs": [
    {
     "name": "stdout",
     "output_type": "stream",
     "text": [
      "Dictionary successfully filled\n"
     ]
    }
   ],
   "source": [
    "# Define dictionary to contain all album data\n",
    "albums_dict = {}\n",
    "\n",
    "# Set up containers for albums info\n",
    "album_ids, album_names, external_urls, image_urls, release_dates, total_tracks, types, \\\n",
    "album_uris, album_artist_ids = [], [], [], [], [], [], [], [], []\n",
    "\n",
    "skips = ['live']\n",
    "\n",
    "# Loop through each artist_id in artist_ids list\n",
    "for artist_id in artist_ids:\n",
    "    # API call for 50 albums by artist (need to account for skipped albums)\n",
    "    albums_info = sp.artist_albums(artist_id=artist_id, album_type='album', limit=40, country='US')\n",
    "    \n",
    "    # Prevent duplicate albums from being added\n",
    "    dup_album_check = []\n",
    "    \n",
    "    # Retrieve info for each album\n",
    "    for album in albums_info['items']:\n",
    "\n",
    "        # Record unique album name (after removing notes in parentheses or brackets)\n",
    "        unique_album_name = re.sub(\"[\\(\\[].*?[\\)\\]]\", \"\", album['name']).strip()\n",
    "        # Skip album if in dup_album_check list\n",
    "        if unique_album_name in dup_album_check:\n",
    "            continue  \n",
    "        # Skip album if any word in skips list is in album title\n",
    "        if any([skip in album['name'].lower().strip(')]') for skip in skips]):\n",
    "            continue\n",
    "        \n",
    "        # Only keep Beatles albums released before 1975\n",
    "        if artist_id == '3WrFJ7ztbogyGnTHbHJFl2' and album['release_date'] > '1975-01-01':\n",
    "            continue\n",
    "        # Only keep Bob Marley albums released before 1984  \n",
    "        if artist_id == '2QsynagSdAqZj3U9HgDzjD' and album['release_date'] > '1984-01-01':\n",
    "            continue\n",
    "        # Only keep James Taylor and Bob Dylan albums released before 1990\n",
    "        if (artist_id == '0vn7UBvSQECKJm2817Yf1P' or artist_id == '74ASZWbe4lXaubB36ztrGX')\\\n",
    "        and album['release_date'] > '1990-01-01':\n",
    "            continue\n",
    "        # Only keep Pink Floyd albums released before 1995\n",
    "        if artist_id == '0k17h0D3J5VfsdmQ1iZtE9' and album['release_date'] > '1995-01-01':\n",
    "            continue\n",
    "\n",
    "        album_ids.append(album['id'])\n",
    "        album_names.append(album['name'])\n",
    "        external_urls.append(album['external_urls']['spotify'])\n",
    "        image_urls.append(album['images'][0]['url'])  # Take first image url from list\n",
    "        release_dates.append(album['release_date'])\n",
    "        total_tracks.append(album['total_tracks'])\n",
    "        types.append(album['type'])\n",
    "        album_uris.append(album['uri'])\n",
    "        album_artist_ids.append(artist_id)\n",
    "\n",
    "        dup_album_check.append(unique_album_name)\n",
    "        # Set maximum number of albums per artist to 10\n",
    "        if len(dup_album_check) == 10:\n",
    "            break\n",
    "    \n",
    "    # Set a delay after each API call\n",
    "    time.sleep(0.1)\n",
    "    \n",
    "    \n",
    "# Create column_name: feature_list key-value pairs for albums_dict dictionary\n",
    "column_names = ['album_id', 'album_name', 'external_url', 'image_url', 'release_date', 'total_tracks', \n",
    "                'type', 'album_uri', 'artist_id']\n",
    "lists = [album_ids, album_names, external_urls, image_urls, release_dates, total_tracks, \n",
    "         types, album_uris, album_artist_ids]\n",
    "\n",
    "add_to_dict(albums_dict, column_names, lists)"
   ]
  },
  {
   "cell_type": "code",
   "execution_count": 12,
   "id": "bad59a11",
   "metadata": {},
   "outputs": [
    {
     "name": "stdout",
     "output_type": "stream",
     "text": [
      "Albums: 150\n"
     ]
    },
    {
     "data": {
      "text/html": [
       "<div>\n",
       "<style scoped>\n",
       "    .dataframe tbody tr th:only-of-type {\n",
       "        vertical-align: middle;\n",
       "    }\n",
       "\n",
       "    .dataframe tbody tr th {\n",
       "        vertical-align: top;\n",
       "    }\n",
       "\n",
       "    .dataframe thead th {\n",
       "        text-align: right;\n",
       "    }\n",
       "</style>\n",
       "<table border=\"1\" class=\"dataframe\">\n",
       "  <thead>\n",
       "    <tr style=\"text-align: right;\">\n",
       "      <th></th>\n",
       "      <th>album_id</th>\n",
       "      <th>album_name</th>\n",
       "      <th>external_url</th>\n",
       "      <th>image_url</th>\n",
       "      <th>release_date</th>\n",
       "      <th>total_tracks</th>\n",
       "      <th>type</th>\n",
       "      <th>album_uri</th>\n",
       "      <th>artist_id</th>\n",
       "    </tr>\n",
       "  </thead>\n",
       "  <tbody>\n",
       "    <tr>\n",
       "      <th>0</th>\n",
       "      <td>6FJxoadUE4JNVwWHghBwnb</td>\n",
       "      <td>RENAISSANCE</td>\n",
       "      <td>https://open.spotify.com/album/6FJxoadUE4JNVwW...</td>\n",
       "      <td>https://i.scdn.co/image/ab67616d0000b2730e58a0...</td>\n",
       "      <td>2022-07-29</td>\n",
       "      <td>16</td>\n",
       "      <td>album</td>\n",
       "      <td>spotify:album:6FJxoadUE4JNVwWHghBwnb</td>\n",
       "      <td>6vWDO969PvNqNYHIOW5v0m</td>\n",
       "    </tr>\n",
       "    <tr>\n",
       "      <th>1</th>\n",
       "      <td>7kUuNU2LRmr9XbwLHXU9UZ</td>\n",
       "      <td>The Lion King: The Gift [Deluxe Edition]</td>\n",
       "      <td>https://open.spotify.com/album/7kUuNU2LRmr9Xbw...</td>\n",
       "      <td>https://i.scdn.co/image/ab67616d0000b27360e232...</td>\n",
       "      <td>2020-07-31</td>\n",
       "      <td>17</td>\n",
       "      <td>album</td>\n",
       "      <td>spotify:album:7kUuNU2LRmr9XbwLHXU9UZ</td>\n",
       "      <td>6vWDO969PvNqNYHIOW5v0m</td>\n",
       "    </tr>\n",
       "    <tr>\n",
       "      <th>2</th>\n",
       "      <td>7dK54iZuOxXFarGhXwEXfF</td>\n",
       "      <td>Lemonade</td>\n",
       "      <td>https://open.spotify.com/album/7dK54iZuOxXFarG...</td>\n",
       "      <td>https://i.scdn.co/image/ab67616d0000b27389992f...</td>\n",
       "      <td>2016-04-23</td>\n",
       "      <td>13</td>\n",
       "      <td>album</td>\n",
       "      <td>spotify:album:7dK54iZuOxXFarGhXwEXfF</td>\n",
       "      <td>6vWDO969PvNqNYHIOW5v0m</td>\n",
       "    </tr>\n",
       "    <tr>\n",
       "      <th>3</th>\n",
       "      <td>2UJwKSBUz6rtW4QLK74kQu</td>\n",
       "      <td>BEYONCÉ [Platinum Edition]</td>\n",
       "      <td>https://open.spotify.com/album/2UJwKSBUz6rtW4Q...</td>\n",
       "      <td>https://i.scdn.co/image/ab67616d0000b2730d1d6e...</td>\n",
       "      <td>2014-11-24</td>\n",
       "      <td>20</td>\n",
       "      <td>album</td>\n",
       "      <td>spotify:album:2UJwKSBUz6rtW4QLK74kQu</td>\n",
       "      <td>6vWDO969PvNqNYHIOW5v0m</td>\n",
       "    </tr>\n",
       "    <tr>\n",
       "      <th>4</th>\n",
       "      <td>1gIC63gC3B7o7FfpPACZQJ</td>\n",
       "      <td>4</td>\n",
       "      <td>https://open.spotify.com/album/1gIC63gC3B7o7Ff...</td>\n",
       "      <td>https://i.scdn.co/image/ab67616d0000b273ff5429...</td>\n",
       "      <td>2011-06-24</td>\n",
       "      <td>14</td>\n",
       "      <td>album</td>\n",
       "      <td>spotify:album:1gIC63gC3B7o7FfpPACZQJ</td>\n",
       "      <td>6vWDO969PvNqNYHIOW5v0m</td>\n",
       "    </tr>\n",
       "  </tbody>\n",
       "</table>\n",
       "</div>"
      ],
      "text/plain": [
       "                 album_id                                album_name  \\\n",
       "0  6FJxoadUE4JNVwWHghBwnb                               RENAISSANCE   \n",
       "1  7kUuNU2LRmr9XbwLHXU9UZ  The Lion King: The Gift [Deluxe Edition]   \n",
       "2  7dK54iZuOxXFarGhXwEXfF                                  Lemonade   \n",
       "3  2UJwKSBUz6rtW4QLK74kQu                BEYONCÉ [Platinum Edition]   \n",
       "4  1gIC63gC3B7o7FfpPACZQJ                                         4   \n",
       "\n",
       "                                        external_url  \\\n",
       "0  https://open.spotify.com/album/6FJxoadUE4JNVwW...   \n",
       "1  https://open.spotify.com/album/7kUuNU2LRmr9Xbw...   \n",
       "2  https://open.spotify.com/album/7dK54iZuOxXFarG...   \n",
       "3  https://open.spotify.com/album/2UJwKSBUz6rtW4Q...   \n",
       "4  https://open.spotify.com/album/1gIC63gC3B7o7Ff...   \n",
       "\n",
       "                                           image_url release_date  \\\n",
       "0  https://i.scdn.co/image/ab67616d0000b2730e58a0...   2022-07-29   \n",
       "1  https://i.scdn.co/image/ab67616d0000b27360e232...   2020-07-31   \n",
       "2  https://i.scdn.co/image/ab67616d0000b27389992f...   2016-04-23   \n",
       "3  https://i.scdn.co/image/ab67616d0000b2730d1d6e...   2014-11-24   \n",
       "4  https://i.scdn.co/image/ab67616d0000b273ff5429...   2011-06-24   \n",
       "\n",
       "   total_tracks   type                             album_uri  \\\n",
       "0            16  album  spotify:album:6FJxoadUE4JNVwWHghBwnb   \n",
       "1            17  album  spotify:album:7kUuNU2LRmr9XbwLHXU9UZ   \n",
       "2            13  album  spotify:album:7dK54iZuOxXFarGhXwEXfF   \n",
       "3            20  album  spotify:album:2UJwKSBUz6rtW4QLK74kQu   \n",
       "4            14  album  spotify:album:1gIC63gC3B7o7FfpPACZQJ   \n",
       "\n",
       "                artist_id  \n",
       "0  6vWDO969PvNqNYHIOW5v0m  \n",
       "1  6vWDO969PvNqNYHIOW5v0m  \n",
       "2  6vWDO969PvNqNYHIOW5v0m  \n",
       "3  6vWDO969PvNqNYHIOW5v0m  \n",
       "4  6vWDO969PvNqNYHIOW5v0m  "
      ]
     },
     "execution_count": 12,
     "metadata": {},
     "output_type": "execute_result"
    }
   ],
   "source": [
    "# Compile into Pandas dataframe\n",
    "albums_df = pd.DataFrame(data=albums_dict)\n",
    "\n",
    "# Verify we retrieved albums for all 20 artists\n",
    "assert set(artist_ids) == set(album_artist_ids)  \n",
    "\n",
    "# Preview albums dataframe\n",
    "print('Albums:', albums_df.shape[0])\n",
    "albums_df.head()"
   ]
  },
  {
   "cell_type": "markdown",
   "id": "0b2f5a50",
   "metadata": {},
   "source": [
    "<br>"
   ]
  },
  {
   "cell_type": "markdown",
   "id": "19ed8e73",
   "metadata": {},
   "source": [
    "## Part 3: Tracks Dataframe"
   ]
  },
  {
   "cell_type": "markdown",
   "id": "154a4819",
   "metadata": {},
   "source": [
    "### Obtain track data for (max) 50 tracks (minus duplicates) in each album obtained above"
   ]
  },
  {
   "cell_type": "code",
   "execution_count": 13,
   "id": "c641cef5",
   "metadata": {},
   "outputs": [
    {
     "name": "stdout",
     "output_type": "stream",
     "text": [
      "{'artists': [{'external_urls': {'spotify': 'https://open.spotify.com/artist/6vWDO969PvNqNYHIOW5v0m'},\n",
      "              'href': 'https://api.spotify.com/v1/artists/6vWDO969PvNqNYHIOW5v0m',\n",
      "              'id': '6vWDO969PvNqNYHIOW5v0m',\n",
      "              'name': 'Beyoncé',\n",
      "              'type': 'artist',\n",
      "              'uri': 'spotify:artist:6vWDO969PvNqNYHIOW5v0m'}],\n",
      " 'disc_number': 1,\n",
      " 'duration_ms': 208014,\n",
      " 'explicit': True,\n",
      " 'external_urls': {'spotify': 'https://open.spotify.com/track/1MpCaOeUWhox2Fgigbe1cL'},\n",
      " 'href': 'https://api.spotify.com/v1/tracks/1MpCaOeUWhox2Fgigbe1cL',\n",
      " 'id': '1MpCaOeUWhox2Fgigbe1cL',\n",
      " 'is_local': False,\n",
      " 'is_playable': True,\n",
      " 'name': \"I'M THAT GIRL\",\n",
      " 'preview_url': 'https://p.scdn.co/mp3-preview/c7cece6b1b9cb3637fc48924f23baf9c7e1ec15c?cid=a3c3419e623d4410ad1aadf01bc737d5',\n",
      " 'track_number': 1,\n",
      " 'type': 'track',\n",
      " 'uri': 'spotify:track:1MpCaOeUWhox2Fgigbe1cL'}\n"
     ]
    }
   ],
   "source": [
    "# Preview tracks output format\n",
    "preview = sp.album_tracks(album_id='6FJxoadUE4JNVwWHghBwnb', limit=10, market='US')\n",
    "pprint(preview['items'][0])"
   ]
  },
  {
   "cell_type": "code",
   "execution_count": 14,
   "id": "eb29a3d4",
   "metadata": {},
   "outputs": [
    {
     "name": "stdout",
     "output_type": "stream",
     "text": [
      "\"I'M THAT GIRL\"\n",
      "'COZY'\n",
      "'ALIEN SUPERSTAR'\n",
      "'CUFF IT'\n",
      "'ENERGY (feat. Beam)'\n",
      "'BREAK MY SOUL'\n",
      "'CHURCH GIRL'\n",
      "'PLASTIC OFF THE SOFA'\n",
      "\"VIRGO'S GROOVE\"\n",
      "'MOVE (feat. Grace Jones & Tems)'\n"
     ]
    }
   ],
   "source": [
    "# Display names of 10 songs\n",
    "for track in preview['items']:\n",
    "    pprint(track['name'])"
   ]
  },
  {
   "cell_type": "markdown",
   "id": "164799e7",
   "metadata": {},
   "source": [
    "**Remarks:**\n",
    "- It looks like duplicate songs might not be as big an issue with track searches. I don't see a need to use a RegEx search like in the last API call, but we'll still check for identically named songs and skip those."
   ]
  },
  {
   "cell_type": "code",
   "execution_count": 15,
   "id": "dff8daee",
   "metadata": {},
   "outputs": [
    {
     "name": "stdout",
     "output_type": "stream",
     "text": [
      "Dictionary successfully filled\n"
     ]
    }
   ],
   "source": [
    "# Define dictionary to contain all tracks data\n",
    "tracks_dict = {}\n",
    "\n",
    "# Set up containers for tracks info\n",
    "track_ids, song_names, external_urls, durations_ms, explicit, disc_numbers, types, \\\n",
    "song_uris, track_album_ids = [], [], [], [], [], [], [], [], []\n",
    "\n",
    "# Loop through each album_id in album_ids list\n",
    "for album_id in album_ids:\n",
    "    # API call for (max) 50 tracks per album\n",
    "    tracks_info = sp.album_tracks(album_id=album_id, limit=50, market='US')\n",
    "    \n",
    "    # Prevent duplicate tracks from being added\n",
    "    dup_track_check = []\n",
    "    \n",
    "    # Retrieve info for each album\n",
    "    for track in tracks_info['items']:\n",
    "        \n",
    "        track_name = track['name']\n",
    "        if track_name in dup_track_check:  # Skip track if in dup_track_check list\n",
    "            continue\n",
    "            \n",
    "        track_ids.append(track['id'])\n",
    "        song_names.append(track['name'])\n",
    "        external_urls.append(track['external_urls']['spotify'])\n",
    "        durations_ms.append(track['duration_ms'])\n",
    "        explicit.append(track['explicit'])\n",
    "        disc_numbers.append(track['disc_number'])\n",
    "        types.append(track['type'])\n",
    "        song_uris.append(track['uri'])\n",
    "        track_album_ids.append(album_id)\n",
    "        \n",
    "        dup_track_check.append(track_name)\n",
    "    \n",
    "    # Set a delay after each API call\n",
    "    time.sleep(0.01)\n",
    "\n",
    "\n",
    "# Create column_name: feature_list key-value pairs for tracks_dict dictionary\n",
    "column_names = ['track_id', 'song_name', 'external_url', 'duration_ms', 'explicit', 'disc_number', \n",
    "                'type', 'song_uri', 'album_id']\n",
    "lists = [track_ids, song_names, external_urls, durations_ms, explicit, disc_numbers, \n",
    "        types, song_uris, track_album_ids]\n",
    "\n",
    "add_to_dict(tracks_dict, column_names, lists)"
   ]
  },
  {
   "cell_type": "code",
   "execution_count": 16,
   "id": "f010369a",
   "metadata": {},
   "outputs": [
    {
     "name": "stdout",
     "output_type": "stream",
     "text": [
      "Tracks: 2152\n"
     ]
    },
    {
     "data": {
      "text/html": [
       "<div>\n",
       "<style scoped>\n",
       "    .dataframe tbody tr th:only-of-type {\n",
       "        vertical-align: middle;\n",
       "    }\n",
       "\n",
       "    .dataframe tbody tr th {\n",
       "        vertical-align: top;\n",
       "    }\n",
       "\n",
       "    .dataframe thead th {\n",
       "        text-align: right;\n",
       "    }\n",
       "</style>\n",
       "<table border=\"1\" class=\"dataframe\">\n",
       "  <thead>\n",
       "    <tr style=\"text-align: right;\">\n",
       "      <th></th>\n",
       "      <th>track_id</th>\n",
       "      <th>song_name</th>\n",
       "      <th>external_url</th>\n",
       "      <th>duration_ms</th>\n",
       "      <th>explicit</th>\n",
       "      <th>disc_number</th>\n",
       "      <th>type</th>\n",
       "      <th>song_uri</th>\n",
       "      <th>album_id</th>\n",
       "    </tr>\n",
       "  </thead>\n",
       "  <tbody>\n",
       "    <tr>\n",
       "      <th>0</th>\n",
       "      <td>1MpCaOeUWhox2Fgigbe1cL</td>\n",
       "      <td>I'M THAT GIRL</td>\n",
       "      <td>https://open.spotify.com/track/1MpCaOeUWhox2Fg...</td>\n",
       "      <td>208014</td>\n",
       "      <td>True</td>\n",
       "      <td>1</td>\n",
       "      <td>track</td>\n",
       "      <td>spotify:track:1MpCaOeUWhox2Fgigbe1cL</td>\n",
       "      <td>6FJxoadUE4JNVwWHghBwnb</td>\n",
       "    </tr>\n",
       "    <tr>\n",
       "      <th>1</th>\n",
       "      <td>0mKGwFMHzTprtS2vpR3b6s</td>\n",
       "      <td>COZY</td>\n",
       "      <td>https://open.spotify.com/track/0mKGwFMHzTprtS2...</td>\n",
       "      <td>210372</td>\n",
       "      <td>True</td>\n",
       "      <td>1</td>\n",
       "      <td>track</td>\n",
       "      <td>spotify:track:0mKGwFMHzTprtS2vpR3b6s</td>\n",
       "      <td>6FJxoadUE4JNVwWHghBwnb</td>\n",
       "    </tr>\n",
       "    <tr>\n",
       "      <th>2</th>\n",
       "      <td>1Hohk6AufHZOrrhMXZppax</td>\n",
       "      <td>ALIEN SUPERSTAR</td>\n",
       "      <td>https://open.spotify.com/track/1Hohk6AufHZOrrh...</td>\n",
       "      <td>215459</td>\n",
       "      <td>True</td>\n",
       "      <td>1</td>\n",
       "      <td>track</td>\n",
       "      <td>spotify:track:1Hohk6AufHZOrrhMXZppax</td>\n",
       "      <td>6FJxoadUE4JNVwWHghBwnb</td>\n",
       "    </tr>\n",
       "    <tr>\n",
       "      <th>3</th>\n",
       "      <td>1xzi1Jcr7mEi9K2RfzLOqS</td>\n",
       "      <td>CUFF IT</td>\n",
       "      <td>https://open.spotify.com/track/1xzi1Jcr7mEi9K2...</td>\n",
       "      <td>225388</td>\n",
       "      <td>True</td>\n",
       "      <td>1</td>\n",
       "      <td>track</td>\n",
       "      <td>spotify:track:1xzi1Jcr7mEi9K2RfzLOqS</td>\n",
       "      <td>6FJxoadUE4JNVwWHghBwnb</td>\n",
       "    </tr>\n",
       "    <tr>\n",
       "      <th>4</th>\n",
       "      <td>0314PeD1sQNonfVWix3B2K</td>\n",
       "      <td>ENERGY (feat. Beam)</td>\n",
       "      <td>https://open.spotify.com/track/0314PeD1sQNonfV...</td>\n",
       "      <td>116727</td>\n",
       "      <td>False</td>\n",
       "      <td>1</td>\n",
       "      <td>track</td>\n",
       "      <td>spotify:track:0314PeD1sQNonfVWix3B2K</td>\n",
       "      <td>6FJxoadUE4JNVwWHghBwnb</td>\n",
       "    </tr>\n",
       "  </tbody>\n",
       "</table>\n",
       "</div>"
      ],
      "text/plain": [
       "                 track_id            song_name  \\\n",
       "0  1MpCaOeUWhox2Fgigbe1cL        I'M THAT GIRL   \n",
       "1  0mKGwFMHzTprtS2vpR3b6s                 COZY   \n",
       "2  1Hohk6AufHZOrrhMXZppax      ALIEN SUPERSTAR   \n",
       "3  1xzi1Jcr7mEi9K2RfzLOqS              CUFF IT   \n",
       "4  0314PeD1sQNonfVWix3B2K  ENERGY (feat. Beam)   \n",
       "\n",
       "                                        external_url  duration_ms  explicit  \\\n",
       "0  https://open.spotify.com/track/1MpCaOeUWhox2Fg...       208014      True   \n",
       "1  https://open.spotify.com/track/0mKGwFMHzTprtS2...       210372      True   \n",
       "2  https://open.spotify.com/track/1Hohk6AufHZOrrh...       215459      True   \n",
       "3  https://open.spotify.com/track/1xzi1Jcr7mEi9K2...       225388      True   \n",
       "4  https://open.spotify.com/track/0314PeD1sQNonfV...       116727     False   \n",
       "\n",
       "   disc_number   type                              song_uri  \\\n",
       "0            1  track  spotify:track:1MpCaOeUWhox2Fgigbe1cL   \n",
       "1            1  track  spotify:track:0mKGwFMHzTprtS2vpR3b6s   \n",
       "2            1  track  spotify:track:1Hohk6AufHZOrrhMXZppax   \n",
       "3            1  track  spotify:track:1xzi1Jcr7mEi9K2RfzLOqS   \n",
       "4            1  track  spotify:track:0314PeD1sQNonfVWix3B2K   \n",
       "\n",
       "                 album_id  \n",
       "0  6FJxoadUE4JNVwWHghBwnb  \n",
       "1  6FJxoadUE4JNVwWHghBwnb  \n",
       "2  6FJxoadUE4JNVwWHghBwnb  \n",
       "3  6FJxoadUE4JNVwWHghBwnb  \n",
       "4  6FJxoadUE4JNVwWHghBwnb  "
      ]
     },
     "execution_count": 16,
     "metadata": {},
     "output_type": "execute_result"
    }
   ],
   "source": [
    "# Compile into Pandas dataframe\n",
    "tracks_df = pd.DataFrame(data=tracks_dict)\n",
    "\n",
    "# Verify we retrieved tracks for all albums in album_ids\n",
    "assert set(album_ids) == set(track_album_ids)\n",
    "\n",
    "# Preview tracks dataframe\n",
    "print('Tracks:', tracks_df.shape[0])\n",
    "tracks_df.head()"
   ]
  },
  {
   "cell_type": "markdown",
   "id": "58522aa9",
   "metadata": {},
   "source": [
    "<br>"
   ]
  },
  {
   "cell_type": "markdown",
   "id": "46bc94c6",
   "metadata": {},
   "source": [
    "## Part 4: Track Features Dataframe"
   ]
  },
  {
   "cell_type": "markdown",
   "id": "ba093925",
   "metadata": {},
   "source": [
    "### Obtain track features data for each of the tracks obtained above"
   ]
  },
  {
   "cell_type": "markdown",
   "id": "6eafdb68",
   "metadata": {},
   "source": [
    "To prevent having to run a separate API call for each track (which is slow and may cause the API call to crash during the loop), I chunk the `track_ids` list into lists of 100 tracks each (the maximum allowable tracks to request for each Spotipy `audio_features` API call)."
   ]
  },
  {
   "cell_type": "code",
   "execution_count": 17,
   "id": "2587f829",
   "metadata": {},
   "outputs": [
    {
     "name": "stdout",
     "output_type": "stream",
     "text": [
      "{'acousticness': 0.0616,\n",
      " 'analysis_url': 'https://api.spotify.com/v1/audio-analysis/1MpCaOeUWhox2Fgigbe1cL',\n",
      " 'danceability': 0.554,\n",
      " 'duration_ms': 208014,\n",
      " 'energy': 0.535,\n",
      " 'id': '1MpCaOeUWhox2Fgigbe1cL',\n",
      " 'instrumentalness': 1.32e-05,\n",
      " 'key': 5,\n",
      " 'liveness': 0.124,\n",
      " 'loudness': -8.959,\n",
      " 'mode': 0,\n",
      " 'speechiness': 0.186,\n",
      " 'tempo': 105.865,\n",
      " 'time_signature': 4,\n",
      " 'track_href': 'https://api.spotify.com/v1/tracks/1MpCaOeUWhox2Fgigbe1cL',\n",
      " 'type': 'audio_features',\n",
      " 'uri': 'spotify:track:1MpCaOeUWhox2Fgigbe1cL',\n",
      " 'valence': 0.136}\n"
     ]
    }
   ],
   "source": [
    "# Preview track features output format\n",
    "preview = sp.audio_features('1MpCaOeUWhox2Fgigbe1cL')[0]\n",
    "pprint(preview)"
   ]
  },
  {
   "cell_type": "code",
   "execution_count": 18,
   "id": "54a16674",
   "metadata": {},
   "outputs": [],
   "source": [
    "# Create function to return successive n-sized chunks from a list\n",
    "def chunks(lst, n):\n",
    "    chunked_lists = []\n",
    "    for i in range(0, len(lst), n):\n",
    "        chunked_lists.append(lst[i:i + n])\n",
    "    return chunked_lists\n",
    "        \n",
    "chunked_track_ids = chunks(track_ids, 100)"
   ]
  },
  {
   "cell_type": "code",
   "execution_count": 19,
   "id": "c657f7d6",
   "metadata": {},
   "outputs": [
    {
     "name": "stdout",
     "output_type": "stream",
     "text": [
      "Dictionary successfully filled\n"
     ]
    }
   ],
   "source": [
    "# Define dictionary to contain all track features data\n",
    "track_features_dict = {}\n",
    "\n",
    "# Set up containers for tracks info\n",
    "track_features_track_ids, danceability, energy, instrumentalness, liveness, loudness, speechiness, \\\n",
    "tempo, types, valence, track_features_song_uris = [], [], [], [], [], [], [], [], [], [], []\n",
    "\n",
    "# Append track features info to each respective list\n",
    "for chunked_track_id_lst in chunked_track_ids:\n",
    "    # API call for chunk of track features info\n",
    "    track_features_chunk = sp.audio_features(chunked_track_id_lst)\n",
    "    \n",
    "    # Loop through each track_features dictionary in track_features_chunk\n",
    "    for track_features in track_features_chunk:\n",
    "        \n",
    "        track_features_track_ids.append(track_features['id'])\n",
    "        danceability.append(track_features['danceability'])\n",
    "        energy.append(track_features['energy'])\n",
    "        instrumentalness.append(track_features['instrumentalness'])\n",
    "        liveness.append(track_features['liveness'])\n",
    "        loudness.append(track_features['loudness'])\n",
    "        speechiness.append(track_features['speechiness'])\n",
    "        tempo.append(track_features['tempo'])\n",
    "        types.append(track_features['type'])\n",
    "        valence.append(track_features['valence'])\n",
    "        track_features_song_uris.append(track_features['uri'])\n",
    "    \n",
    "    # Set a delay after each API call\n",
    "    time.sleep(0.1)\n",
    "    \n",
    "    \n",
    "    \n",
    "# Create column_name: feature_list key-value pairs for track_features_dict dictionary\n",
    "column_names = ['track_id', 'danceability', 'energy', 'instrumentalness', 'liveness', 'loudness', \n",
    "                'speechiness', 'tempo', 'type', 'valence', 'song_uri']\n",
    "lists = [track_features_track_ids, danceability, energy, instrumentalness, liveness, loudness, \n",
    "         speechiness, tempo, types, valence, track_features_song_uris]\n",
    "\n",
    "add_to_dict(track_features_dict, column_names, lists)"
   ]
  },
  {
   "cell_type": "code",
   "execution_count": 20,
   "id": "d73c0b23",
   "metadata": {
    "scrolled": true
   },
   "outputs": [
    {
     "name": "stdout",
     "output_type": "stream",
     "text": [
      "Track features: 2152\n"
     ]
    },
    {
     "data": {
      "text/html": [
       "<div>\n",
       "<style scoped>\n",
       "    .dataframe tbody tr th:only-of-type {\n",
       "        vertical-align: middle;\n",
       "    }\n",
       "\n",
       "    .dataframe tbody tr th {\n",
       "        vertical-align: top;\n",
       "    }\n",
       "\n",
       "    .dataframe thead th {\n",
       "        text-align: right;\n",
       "    }\n",
       "</style>\n",
       "<table border=\"1\" class=\"dataframe\">\n",
       "  <thead>\n",
       "    <tr style=\"text-align: right;\">\n",
       "      <th></th>\n",
       "      <th>track_id</th>\n",
       "      <th>danceability</th>\n",
       "      <th>energy</th>\n",
       "      <th>instrumentalness</th>\n",
       "      <th>liveness</th>\n",
       "      <th>loudness</th>\n",
       "      <th>speechiness</th>\n",
       "      <th>tempo</th>\n",
       "      <th>type</th>\n",
       "      <th>valence</th>\n",
       "      <th>song_uri</th>\n",
       "    </tr>\n",
       "  </thead>\n",
       "  <tbody>\n",
       "    <tr>\n",
       "      <th>0</th>\n",
       "      <td>1MpCaOeUWhox2Fgigbe1cL</td>\n",
       "      <td>0.554</td>\n",
       "      <td>0.535</td>\n",
       "      <td>0.000013</td>\n",
       "      <td>0.1240</td>\n",
       "      <td>-8.959</td>\n",
       "      <td>0.1860</td>\n",
       "      <td>105.865</td>\n",
       "      <td>audio_features</td>\n",
       "      <td>0.136</td>\n",
       "      <td>spotify:track:1MpCaOeUWhox2Fgigbe1cL</td>\n",
       "    </tr>\n",
       "    <tr>\n",
       "      <th>1</th>\n",
       "      <td>0mKGwFMHzTprtS2vpR3b6s</td>\n",
       "      <td>0.556</td>\n",
       "      <td>0.630</td>\n",
       "      <td>0.004680</td>\n",
       "      <td>0.1550</td>\n",
       "      <td>-8.150</td>\n",
       "      <td>0.1020</td>\n",
       "      <td>149.147</td>\n",
       "      <td>audio_features</td>\n",
       "      <td>0.367</td>\n",
       "      <td>spotify:track:0mKGwFMHzTprtS2vpR3b6s</td>\n",
       "    </tr>\n",
       "    <tr>\n",
       "      <th>2</th>\n",
       "      <td>1Hohk6AufHZOrrhMXZppax</td>\n",
       "      <td>0.545</td>\n",
       "      <td>0.641</td>\n",
       "      <td>0.000066</td>\n",
       "      <td>0.1710</td>\n",
       "      <td>-6.398</td>\n",
       "      <td>0.0998</td>\n",
       "      <td>121.892</td>\n",
       "      <td>audio_features</td>\n",
       "      <td>0.464</td>\n",
       "      <td>spotify:track:1Hohk6AufHZOrrhMXZppax</td>\n",
       "    </tr>\n",
       "    <tr>\n",
       "      <th>3</th>\n",
       "      <td>1xzi1Jcr7mEi9K2RfzLOqS</td>\n",
       "      <td>0.780</td>\n",
       "      <td>0.689</td>\n",
       "      <td>0.000010</td>\n",
       "      <td>0.0698</td>\n",
       "      <td>-5.668</td>\n",
       "      <td>0.1410</td>\n",
       "      <td>115.042</td>\n",
       "      <td>audio_features</td>\n",
       "      <td>0.642</td>\n",
       "      <td>spotify:track:1xzi1Jcr7mEi9K2RfzLOqS</td>\n",
       "    </tr>\n",
       "    <tr>\n",
       "      <th>4</th>\n",
       "      <td>0314PeD1sQNonfVWix3B2K</td>\n",
       "      <td>0.903</td>\n",
       "      <td>0.519</td>\n",
       "      <td>0.000106</td>\n",
       "      <td>0.1550</td>\n",
       "      <td>-9.151</td>\n",
       "      <td>0.2600</td>\n",
       "      <td>114.991</td>\n",
       "      <td>audio_features</td>\n",
       "      <td>0.587</td>\n",
       "      <td>spotify:track:0314PeD1sQNonfVWix3B2K</td>\n",
       "    </tr>\n",
       "  </tbody>\n",
       "</table>\n",
       "</div>"
      ],
      "text/plain": [
       "                 track_id  danceability  energy  instrumentalness  liveness  \\\n",
       "0  1MpCaOeUWhox2Fgigbe1cL         0.554   0.535          0.000013    0.1240   \n",
       "1  0mKGwFMHzTprtS2vpR3b6s         0.556   0.630          0.004680    0.1550   \n",
       "2  1Hohk6AufHZOrrhMXZppax         0.545   0.641          0.000066    0.1710   \n",
       "3  1xzi1Jcr7mEi9K2RfzLOqS         0.780   0.689          0.000010    0.0698   \n",
       "4  0314PeD1sQNonfVWix3B2K         0.903   0.519          0.000106    0.1550   \n",
       "\n",
       "   loudness  speechiness    tempo            type  valence  \\\n",
       "0    -8.959       0.1860  105.865  audio_features    0.136   \n",
       "1    -8.150       0.1020  149.147  audio_features    0.367   \n",
       "2    -6.398       0.0998  121.892  audio_features    0.464   \n",
       "3    -5.668       0.1410  115.042  audio_features    0.642   \n",
       "4    -9.151       0.2600  114.991  audio_features    0.587   \n",
       "\n",
       "                               song_uri  \n",
       "0  spotify:track:1MpCaOeUWhox2Fgigbe1cL  \n",
       "1  spotify:track:0mKGwFMHzTprtS2vpR3b6s  \n",
       "2  spotify:track:1Hohk6AufHZOrrhMXZppax  \n",
       "3  spotify:track:1xzi1Jcr7mEi9K2RfzLOqS  \n",
       "4  spotify:track:0314PeD1sQNonfVWix3B2K  "
      ]
     },
     "execution_count": 20,
     "metadata": {},
     "output_type": "execute_result"
    }
   ],
   "source": [
    "# Compile into Pandas dataframe\n",
    "track_features_df = pd.DataFrame(data=track_features_dict)\n",
    "\n",
    "# Verify we retrieved track features for all tracks in track_ids\n",
    "assert set(track_ids) == set(track_features_track_ids)\n",
    "\n",
    "# Preview tracks dataframe\n",
    "print('Track features:', track_features_df.shape[0])\n",
    "track_features_df.head()"
   ]
  },
  {
   "cell_type": "markdown",
   "id": "ad9a4f78",
   "metadata": {},
   "source": [
    "<br>"
   ]
  },
  {
   "cell_type": "markdown",
   "id": "6bfbd474",
   "metadata": {},
   "source": [
    "### Save dataframes as `pkl` files"
   ]
  },
  {
   "cell_type": "code",
   "execution_count": 21,
   "id": "9a25f11c",
   "metadata": {},
   "outputs": [],
   "source": [
    "if not os.path.exists('data/artists_df_unprocessed.pkl'):\n",
    "    artists_df.to_pickle('data/artists_df_unprocessed.pkl')\n",
    "    \n",
    "if not os.path.exists('data/albums_df_unprocessed.pkl'):\n",
    "    albums_df.to_pickle('data/albums_df_unprocessed.pkl')\n",
    "    \n",
    "if not os.path.exists('data/tracks_df_unprocessed.pkl'):\n",
    "    tracks_df.to_pickle('data/tracks_df_unprocessed.pkl')\n",
    "    \n",
    "if not os.path.exists('data/track_features_df_unprocessed.pkl'):\n",
    "    track_features_df.to_pickle('data/track_features_df_unprocessed.pkl')"
   ]
  }
 ],
 "metadata": {
  "kernelspec": {
   "display_name": "Python 3 (ipykernel)",
   "language": "python",
   "name": "python3"
  },
  "language_info": {
   "codemirror_mode": {
    "name": "ipython",
    "version": 3
   },
   "file_extension": ".py",
   "mimetype": "text/x-python",
   "name": "python",
   "nbconvert_exporter": "python",
   "pygments_lexer": "ipython3",
   "version": "3.9.13"
  }
 },
 "nbformat": 4,
 "nbformat_minor": 5
}
